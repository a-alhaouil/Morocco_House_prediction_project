{
 "cells": [
  {
   "cell_type": "markdown",
   "id": "7e0c67df",
   "metadata": {},
   "source": [
    "## Importing Libraries & taking a glance at dataset"
   ]
  },
  {
   "cell_type": "code",
   "execution_count": 239,
   "id": "50851a3b",
   "metadata": {
    "ExecuteTime": {
     "end_time": "2024-01-23T23:21:12.368097200Z",
     "start_time": "2024-01-23T23:21:12.326431100Z"
    }
   },
   "outputs": [],
   "source": [
    "import pandas as pd\n",
    "import numpy as np\n",
    "from matplotlib import pyplot as plt\n",
    "import matplotlib\n",
    "%matplotlib inline\n",
    "matplotlib.rcParams[\"figure.figsize\"] = (20,10)"
   ]
  },
  {
   "cell_type": "code",
   "execution_count": 335,
   "id": "1eb1a5b3",
   "metadata": {
    "ExecuteTime": {
     "end_time": "2024-01-24T00:43:57.471619700Z",
     "start_time": "2024-01-24T00:43:57.389403900Z"
    }
   },
   "outputs": [
    {
     "data": {
      "text/html": [
       "<div>\n",
       "<style scoped>\n",
       "    .dataframe tbody tr th:only-of-type {\n",
       "        vertical-align: middle;\n",
       "    }\n",
       "\n",
       "    .dataframe tbody tr th {\n",
       "        vertical-align: top;\n",
       "    }\n",
       "\n",
       "    .dataframe thead th {\n",
       "        text-align: right;\n",
       "    }\n",
       "</style>\n",
       "<table border=\"1\" class=\"dataframe\">\n",
       "  <thead>\n",
       "    <tr style=\"text-align: right;\">\n",
       "      <th></th>\n",
       "      <th>location</th>\n",
       "      <th>size</th>\n",
       "      <th>total_sqft</th>\n",
       "      <th>bath</th>\n",
       "      <th>price</th>\n",
       "    </tr>\n",
       "  </thead>\n",
       "  <tbody>\n",
       "    <tr>\n",
       "      <th>0</th>\n",
       "      <td>Marrakech</td>\n",
       "      <td>2</td>\n",
       "      <td>1280</td>\n",
       "      <td>2</td>\n",
       "      <td>256000</td>\n",
       "    </tr>\n",
       "    <tr>\n",
       "      <th>1</th>\n",
       "      <td>Marrakech</td>\n",
       "      <td>2</td>\n",
       "      <td>2035</td>\n",
       "      <td>2</td>\n",
       "      <td>407000</td>\n",
       "    </tr>\n",
       "    <tr>\n",
       "      <th>2</th>\n",
       "      <td>Marrakech</td>\n",
       "      <td>5</td>\n",
       "      <td>4037</td>\n",
       "      <td>3</td>\n",
       "      <td>1614800</td>\n",
       "    </tr>\n",
       "    <tr>\n",
       "      <th>3</th>\n",
       "      <td>Marrakech</td>\n",
       "      <td>3</td>\n",
       "      <td>3408</td>\n",
       "      <td>3</td>\n",
       "      <td>1022400</td>\n",
       "    </tr>\n",
       "    <tr>\n",
       "      <th>4</th>\n",
       "      <td>Marrakech</td>\n",
       "      <td>3</td>\n",
       "      <td>2743</td>\n",
       "      <td>2</td>\n",
       "      <td>685750</td>\n",
       "    </tr>\n",
       "    <tr>\n",
       "      <th>5</th>\n",
       "      <td>Marrakech</td>\n",
       "      <td>2</td>\n",
       "      <td>2488</td>\n",
       "      <td>1</td>\n",
       "      <td>373200</td>\n",
       "    </tr>\n",
       "    <tr>\n",
       "      <th>6</th>\n",
       "      <td>Marrakech</td>\n",
       "      <td>2</td>\n",
       "      <td>1807</td>\n",
       "      <td>1</td>\n",
       "      <td>271050</td>\n",
       "    </tr>\n",
       "    <tr>\n",
       "      <th>7</th>\n",
       "      <td>Marrakech</td>\n",
       "      <td>5</td>\n",
       "      <td>4439</td>\n",
       "      <td>3</td>\n",
       "      <td>1775600</td>\n",
       "    </tr>\n",
       "    <tr>\n",
       "      <th>8</th>\n",
       "      <td>Marrakech</td>\n",
       "      <td>3</td>\n",
       "      <td>3366</td>\n",
       "      <td>1</td>\n",
       "      <td>673200</td>\n",
       "    </tr>\n",
       "    <tr>\n",
       "      <th>9</th>\n",
       "      <td>Marrakech</td>\n",
       "      <td>3</td>\n",
       "      <td>3085</td>\n",
       "      <td>2</td>\n",
       "      <td>771250</td>\n",
       "    </tr>\n",
       "  </tbody>\n",
       "</table>\n",
       "</div>"
      ],
      "text/plain": [
       "    location  size  total_sqft  bath    price\n",
       "0  Marrakech     2        1280     2   256000\n",
       "1  Marrakech     2        2035     2   407000\n",
       "2  Marrakech     5        4037     3  1614800\n",
       "3  Marrakech     3        3408     3  1022400\n",
       "4  Marrakech     3        2743     2   685750\n",
       "5  Marrakech     2        2488     1   373200\n",
       "6  Marrakech     2        1807     1   271050\n",
       "7  Marrakech     5        4439     3  1775600\n",
       "8  Marrakech     3        3366     1   673200\n",
       "9  Marrakech     3        3085     2   771250"
      ]
     },
     "execution_count": 335,
     "metadata": {},
     "output_type": "execute_result"
    }
   ],
   "source": [
    "df = pd.read_csv(\"DataPOO.csv\")\n",
    "df.head(10)"
   ]
  },
  {
   "cell_type": "code",
   "execution_count": 336,
   "id": "f4a8b5eb",
   "metadata": {
    "ExecuteTime": {
     "end_time": "2024-01-24T00:44:04.658957400Z",
     "start_time": "2024-01-24T00:44:04.624049700Z"
    }
   },
   "outputs": [
    {
     "data": {
      "text/plain": [
       "(1999, 5)"
      ]
     },
     "execution_count": 336,
     "metadata": {},
     "output_type": "execute_result"
    }
   ],
   "source": [
    "df.shape"
   ]
  },
  {
   "cell_type": "markdown",
   "id": "7b3f75a1",
   "metadata": {},
   "source": [
    "## Checking suitability of `area_type` column"
   ]
  },
  {
   "cell_type": "code",
   "execution_count": 337,
   "id": "a49bf021",
   "metadata": {
    "ExecuteTime": {
     "end_time": "2024-01-24T00:44:25.970530900Z",
     "start_time": "2024-01-24T00:44:25.893665500Z"
    }
   },
   "outputs": [
    {
     "data": {
      "text/plain": [
       "location\n",
       "Agadir         213\n",
       "Azilal          16\n",
       "Azrou           77\n",
       "Beni Mellal     71\n",
       "Berrched        98\n",
       "Bjaad           10\n",
       "Casablanca     115\n",
       "Dakhla          41\n",
       "EL Jadida       47\n",
       "Essaouira       84\n",
       "Essmara         41\n",
       "Fes             56\n",
       "Gulmim          25\n",
       "Ifran           50\n",
       "Kentitra       100\n",
       "Khounifra       55\n",
       "Khouribga       41\n",
       "Laayoun         29\n",
       "Lhajb           12\n",
       "Marrakech       99\n",
       "Meknes          41\n",
       "Mohammadia     208\n",
       "Nador           28\n",
       "Oujda           61\n",
       "Ourzazat        32\n",
       "Safi            50\n",
       "Settat          99\n",
       "Sidi ifni       10\n",
       "Tanger         100\n",
       "Tata            11\n",
       "Taza            24\n",
       "Tetouan         46\n",
       "Zagoura          9\n",
       "Name: location, dtype: int64"
      ]
     },
     "execution_count": 337,
     "metadata": {},
     "output_type": "execute_result"
    }
   ],
   "source": [
    "df.groupby('location')['location'].agg('count')"
   ]
  },
  {
   "cell_type": "markdown",
   "id": "52a0c245",
   "metadata": {},
   "source": [
    "## Dropping unimportant columns"
   ]
  },
  {
   "cell_type": "code",
   "execution_count": 338,
   "id": "3b32f207",
   "metadata": {
    "ExecuteTime": {
     "end_time": "2024-01-24T00:44:48.984502600Z",
     "start_time": "2024-01-24T00:44:48.908108600Z"
    }
   },
   "outputs": [
    {
     "data": {
      "text/html": [
       "<div>\n",
       "<style scoped>\n",
       "    .dataframe tbody tr th:only-of-type {\n",
       "        vertical-align: middle;\n",
       "    }\n",
       "\n",
       "    .dataframe tbody tr th {\n",
       "        vertical-align: top;\n",
       "    }\n",
       "\n",
       "    .dataframe thead th {\n",
       "        text-align: right;\n",
       "    }\n",
       "</style>\n",
       "<table border=\"1\" class=\"dataframe\">\n",
       "  <thead>\n",
       "    <tr style=\"text-align: right;\">\n",
       "      <th></th>\n",
       "      <th>location</th>\n",
       "      <th>size</th>\n",
       "      <th>total_sqft</th>\n",
       "      <th>bath</th>\n",
       "      <th>price</th>\n",
       "    </tr>\n",
       "  </thead>\n",
       "  <tbody>\n",
       "    <tr>\n",
       "      <th>0</th>\n",
       "      <td>Marrakech</td>\n",
       "      <td>2</td>\n",
       "      <td>1280</td>\n",
       "      <td>2</td>\n",
       "      <td>256000</td>\n",
       "    </tr>\n",
       "    <tr>\n",
       "      <th>1</th>\n",
       "      <td>Marrakech</td>\n",
       "      <td>2</td>\n",
       "      <td>2035</td>\n",
       "      <td>2</td>\n",
       "      <td>407000</td>\n",
       "    </tr>\n",
       "    <tr>\n",
       "      <th>2</th>\n",
       "      <td>Marrakech</td>\n",
       "      <td>5</td>\n",
       "      <td>4037</td>\n",
       "      <td>3</td>\n",
       "      <td>1614800</td>\n",
       "    </tr>\n",
       "    <tr>\n",
       "      <th>3</th>\n",
       "      <td>Marrakech</td>\n",
       "      <td>3</td>\n",
       "      <td>3408</td>\n",
       "      <td>3</td>\n",
       "      <td>1022400</td>\n",
       "    </tr>\n",
       "    <tr>\n",
       "      <th>4</th>\n",
       "      <td>Marrakech</td>\n",
       "      <td>3</td>\n",
       "      <td>2743</td>\n",
       "      <td>2</td>\n",
       "      <td>685750</td>\n",
       "    </tr>\n",
       "    <tr>\n",
       "      <th>...</th>\n",
       "      <td>...</td>\n",
       "      <td>...</td>\n",
       "      <td>...</td>\n",
       "      <td>...</td>\n",
       "      <td>...</td>\n",
       "    </tr>\n",
       "    <tr>\n",
       "      <th>1994</th>\n",
       "      <td>Azilal</td>\n",
       "      <td>2</td>\n",
       "      <td>1882</td>\n",
       "      <td>2</td>\n",
       "      <td>376400</td>\n",
       "    </tr>\n",
       "    <tr>\n",
       "      <th>1995</th>\n",
       "      <td>Azilal</td>\n",
       "      <td>3</td>\n",
       "      <td>3081</td>\n",
       "      <td>1</td>\n",
       "      <td>616200</td>\n",
       "    </tr>\n",
       "    <tr>\n",
       "      <th>1996</th>\n",
       "      <td>Azilal</td>\n",
       "      <td>2</td>\n",
       "      <td>2435</td>\n",
       "      <td>2</td>\n",
       "      <td>487000</td>\n",
       "    </tr>\n",
       "    <tr>\n",
       "      <th>1997</th>\n",
       "      <td>Azilal</td>\n",
       "      <td>2</td>\n",
       "      <td>1375</td>\n",
       "      <td>1</td>\n",
       "      <td>206250</td>\n",
       "    </tr>\n",
       "    <tr>\n",
       "      <th>1998</th>\n",
       "      <td>Azilal</td>\n",
       "      <td>2</td>\n",
       "      <td>2400</td>\n",
       "      <td>2</td>\n",
       "      <td>480000</td>\n",
       "    </tr>\n",
       "  </tbody>\n",
       "</table>\n",
       "<p>1999 rows × 5 columns</p>\n",
       "</div>"
      ],
      "text/plain": [
       "       location  size  total_sqft  bath    price\n",
       "0     Marrakech     2        1280     2   256000\n",
       "1     Marrakech     2        2035     2   407000\n",
       "2     Marrakech     5        4037     3  1614800\n",
       "3     Marrakech     3        3408     3  1022400\n",
       "4     Marrakech     3        2743     2   685750\n",
       "...         ...   ...         ...   ...      ...\n",
       "1994     Azilal     2        1882     2   376400\n",
       "1995     Azilal     3        3081     1   616200\n",
       "1996     Azilal     2        2435     2   487000\n",
       "1997     Azilal     2        1375     1   206250\n",
       "1998     Azilal     2        2400     2   480000\n",
       "\n",
       "[1999 rows x 5 columns]"
      ]
     },
     "execution_count": 338,
     "metadata": {},
     "output_type": "execute_result"
    }
   ],
   "source": [
    "# df2 = df.drop(['area_type','society','balcony','availability'],axis='columns')\n",
    "df\n"
   ]
  },
  {
   "cell_type": "markdown",
   "id": "31c83419",
   "metadata": {},
   "source": [
    "## Checking for null values"
   ]
  },
  {
   "cell_type": "code",
   "execution_count": 339,
   "id": "6a42b37a",
   "metadata": {
    "ExecuteTime": {
     "end_time": "2024-01-24T00:45:00.110471300Z",
     "start_time": "2024-01-24T00:44:59.996571900Z"
    }
   },
   "outputs": [
    {
     "data": {
      "text/plain": [
       "location      0\n",
       "size          0\n",
       "total_sqft    0\n",
       "bath          0\n",
       "price         0\n",
       "dtype: int64"
      ]
     },
     "execution_count": 339,
     "metadata": {},
     "output_type": "execute_result"
    }
   ],
   "source": [
    "df.isnull().sum()"
   ]
  },
  {
   "cell_type": "markdown",
   "id": "cfdc0cf6",
   "metadata": {},
   "source": [
    "## Dropping `na` rows"
   ]
  },
  {
   "cell_type": "code",
   "execution_count": 340,
   "id": "2e8b9f80",
   "metadata": {
    "ExecuteTime": {
     "end_time": "2024-01-24T00:45:14.752769300Z",
     "start_time": "2024-01-24T00:45:14.671724400Z"
    }
   },
   "outputs": [
    {
     "data": {
      "text/plain": [
       "location      0\n",
       "size          0\n",
       "total_sqft    0\n",
       "bath          0\n",
       "price         0\n",
       "dtype: int64"
      ]
     },
     "execution_count": 340,
     "metadata": {},
     "output_type": "execute_result"
    }
   ],
   "source": [
    "df2 = df.dropna()\n",
    "df2.isnull().sum()"
   ]
  },
  {
   "cell_type": "markdown",
   "id": "41dc5762",
   "metadata": {},
   "source": [
    "## Lambda function for BHK categorization"
   ]
  },
  {
   "cell_type": "code",
   "execution_count": 341,
   "id": "b8c7f109",
   "metadata": {
    "ExecuteTime": {
     "end_time": "2024-01-24T00:45:40.096498100Z",
     "start_time": "2024-01-24T00:45:40.043446100Z"
    }
   },
   "outputs": [
    {
     "data": {
      "text/plain": [
       "array([2, 5, 3, 4], dtype=int64)"
      ]
     },
     "execution_count": 341,
     "metadata": {},
     "output_type": "execute_result"
    }
   ],
   "source": [
    "df2['size'].unique()"
   ]
  },
  {
   "cell_type": "code",
   "execution_count": 343,
   "id": "151bf5e2",
   "metadata": {
    "ExecuteTime": {
     "end_time": "2024-01-24T00:47:25.999422700Z",
     "start_time": "2024-01-24T00:47:25.923624500Z"
    },
    "scrolled": true
   },
   "outputs": [
    {
     "data": {
      "text/html": [
       "<div>\n",
       "<style scoped>\n",
       "    .dataframe tbody tr th:only-of-type {\n",
       "        vertical-align: middle;\n",
       "    }\n",
       "\n",
       "    .dataframe tbody tr th {\n",
       "        vertical-align: top;\n",
       "    }\n",
       "\n",
       "    .dataframe thead th {\n",
       "        text-align: right;\n",
       "    }\n",
       "</style>\n",
       "<table border=\"1\" class=\"dataframe\">\n",
       "  <thead>\n",
       "    <tr style=\"text-align: right;\">\n",
       "      <th></th>\n",
       "      <th>location</th>\n",
       "      <th>size</th>\n",
       "      <th>total_sqft</th>\n",
       "      <th>bath</th>\n",
       "      <th>price</th>\n",
       "      <th>bhk</th>\n",
       "    </tr>\n",
       "  </thead>\n",
       "  <tbody>\n",
       "    <tr>\n",
       "      <th>0</th>\n",
       "      <td>Marrakech</td>\n",
       "      <td>2</td>\n",
       "      <td>1280</td>\n",
       "      <td>2</td>\n",
       "      <td>256000</td>\n",
       "      <td>2</td>\n",
       "    </tr>\n",
       "    <tr>\n",
       "      <th>1</th>\n",
       "      <td>Marrakech</td>\n",
       "      <td>2</td>\n",
       "      <td>2035</td>\n",
       "      <td>2</td>\n",
       "      <td>407000</td>\n",
       "      <td>2</td>\n",
       "    </tr>\n",
       "    <tr>\n",
       "      <th>2</th>\n",
       "      <td>Marrakech</td>\n",
       "      <td>5</td>\n",
       "      <td>4037</td>\n",
       "      <td>3</td>\n",
       "      <td>1614800</td>\n",
       "      <td>5</td>\n",
       "    </tr>\n",
       "    <tr>\n",
       "      <th>3</th>\n",
       "      <td>Marrakech</td>\n",
       "      <td>3</td>\n",
       "      <td>3408</td>\n",
       "      <td>3</td>\n",
       "      <td>1022400</td>\n",
       "      <td>3</td>\n",
       "    </tr>\n",
       "    <tr>\n",
       "      <th>4</th>\n",
       "      <td>Marrakech</td>\n",
       "      <td>3</td>\n",
       "      <td>2743</td>\n",
       "      <td>2</td>\n",
       "      <td>685750</td>\n",
       "      <td>3</td>\n",
       "    </tr>\n",
       "    <tr>\n",
       "      <th>5</th>\n",
       "      <td>Marrakech</td>\n",
       "      <td>2</td>\n",
       "      <td>2488</td>\n",
       "      <td>1</td>\n",
       "      <td>373200</td>\n",
       "      <td>2</td>\n",
       "    </tr>\n",
       "    <tr>\n",
       "      <th>6</th>\n",
       "      <td>Marrakech</td>\n",
       "      <td>2</td>\n",
       "      <td>1807</td>\n",
       "      <td>1</td>\n",
       "      <td>271050</td>\n",
       "      <td>2</td>\n",
       "    </tr>\n",
       "    <tr>\n",
       "      <th>7</th>\n",
       "      <td>Marrakech</td>\n",
       "      <td>5</td>\n",
       "      <td>4439</td>\n",
       "      <td>3</td>\n",
       "      <td>1775600</td>\n",
       "      <td>5</td>\n",
       "    </tr>\n",
       "    <tr>\n",
       "      <th>8</th>\n",
       "      <td>Marrakech</td>\n",
       "      <td>3</td>\n",
       "      <td>3366</td>\n",
       "      <td>1</td>\n",
       "      <td>673200</td>\n",
       "      <td>3</td>\n",
       "    </tr>\n",
       "    <tr>\n",
       "      <th>9</th>\n",
       "      <td>Marrakech</td>\n",
       "      <td>3</td>\n",
       "      <td>3085</td>\n",
       "      <td>2</td>\n",
       "      <td>771250</td>\n",
       "      <td>3</td>\n",
       "    </tr>\n",
       "  </tbody>\n",
       "</table>\n",
       "</div>"
      ],
      "text/plain": [
       "    location  size  total_sqft  bath    price  bhk\n",
       "0  Marrakech     2        1280     2   256000    2\n",
       "1  Marrakech     2        2035     2   407000    2\n",
       "2  Marrakech     5        4037     3  1614800    5\n",
       "3  Marrakech     3        3408     3  1022400    3\n",
       "4  Marrakech     3        2743     2   685750    3\n",
       "5  Marrakech     2        2488     1   373200    2\n",
       "6  Marrakech     2        1807     1   271050    2\n",
       "7  Marrakech     5        4439     3  1775600    5\n",
       "8  Marrakech     3        3366     1   673200    3\n",
       "9  Marrakech     3        3085     2   771250    3"
      ]
     },
     "execution_count": 343,
     "metadata": {},
     "output_type": "execute_result"
    }
   ],
   "source": [
    "# df2['bhk'] = df2['size'].apply(lambda x:int(x.split(' ')[0]))\n",
    "df2['bhk'] = df2['size'].apply(lambda x:x)\n",
    "df2.head(10)"
   ]
  },
  {
   "cell_type": "code",
   "execution_count": 344,
   "id": "bc3bd9ac",
   "metadata": {
    "ExecuteTime": {
     "end_time": "2024-01-24T00:47:28.405463500Z",
     "start_time": "2024-01-24T00:47:28.349051100Z"
    }
   },
   "outputs": [
    {
     "data": {
      "text/plain": [
       "array([2, 5, 3, 4], dtype=int64)"
      ]
     },
     "execution_count": 344,
     "metadata": {},
     "output_type": "execute_result"
    }
   ],
   "source": [
    "df2['bhk'].unique()"
   ]
  },
  {
   "cell_type": "code",
   "execution_count": 346,
   "id": "df04a6da",
   "metadata": {
    "ExecuteTime": {
     "end_time": "2024-01-24T00:47:44.486603300Z",
     "start_time": "2024-01-24T00:47:44.394856300Z"
    }
   },
   "outputs": [
    {
     "data": {
      "text/html": [
       "<div>\n",
       "<style scoped>\n",
       "    .dataframe tbody tr th:only-of-type {\n",
       "        vertical-align: middle;\n",
       "    }\n",
       "\n",
       "    .dataframe tbody tr th {\n",
       "        vertical-align: top;\n",
       "    }\n",
       "\n",
       "    .dataframe thead th {\n",
       "        text-align: right;\n",
       "    }\n",
       "</style>\n",
       "<table border=\"1\" class=\"dataframe\">\n",
       "  <thead>\n",
       "    <tr style=\"text-align: right;\">\n",
       "      <th></th>\n",
       "      <th>location</th>\n",
       "      <th>size</th>\n",
       "      <th>total_sqft</th>\n",
       "      <th>bath</th>\n",
       "      <th>price</th>\n",
       "      <th>bhk</th>\n",
       "    </tr>\n",
       "  </thead>\n",
       "  <tbody>\n",
       "  </tbody>\n",
       "</table>\n",
       "</div>"
      ],
      "text/plain": [
       "Empty DataFrame\n",
       "Columns: [location, size, total_sqft, bath, price, bhk]\n",
       "Index: []"
      ]
     },
     "execution_count": 346,
     "metadata": {},
     "output_type": "execute_result"
    }
   ],
   "source": [
    "df2[df2.bhk>5]"
   ]
  },
  {
   "cell_type": "markdown",
   "id": "10f0c85d",
   "metadata": {},
   "source": [
    "## Converting dtype of `total_sqft` column to float"
   ]
  },
  {
   "cell_type": "code",
   "execution_count": 348,
   "id": "2803f89a",
   "metadata": {
    "ExecuteTime": {
     "end_time": "2024-01-24T00:48:35.989152200Z",
     "start_time": "2024-01-24T00:48:35.941278400Z"
    }
   },
   "outputs": [
    {
     "data": {
      "text/plain": [
       "array([1280, 2035, 4037, ..., 2559, 1882, 1375], dtype=int64)"
      ]
     },
     "execution_count": 348,
     "metadata": {},
     "output_type": "execute_result"
    }
   ],
   "source": [
    "df2.total_sqft.unique()"
   ]
  },
  {
   "cell_type": "code",
   "execution_count": 349,
   "id": "1500dc75",
   "metadata": {
    "ExecuteTime": {
     "end_time": "2024-01-24T00:48:42.174933700Z",
     "start_time": "2024-01-24T00:48:42.153650800Z"
    }
   },
   "outputs": [],
   "source": [
    "def is_float(x):\n",
    "    try:\n",
    "        float(x)\n",
    "    except:\n",
    "        return False\n",
    "    return True"
   ]
  },
  {
   "cell_type": "code",
   "execution_count": 350,
   "id": "2dd6a72d",
   "metadata": {
    "ExecuteTime": {
     "end_time": "2024-01-24T00:48:42.774878400Z",
     "start_time": "2024-01-24T00:48:42.726009500Z"
    }
   },
   "outputs": [
    {
     "data": {
      "text/html": [
       "<div>\n",
       "<style scoped>\n",
       "    .dataframe tbody tr th:only-of-type {\n",
       "        vertical-align: middle;\n",
       "    }\n",
       "\n",
       "    .dataframe tbody tr th {\n",
       "        vertical-align: top;\n",
       "    }\n",
       "\n",
       "    .dataframe thead th {\n",
       "        text-align: right;\n",
       "    }\n",
       "</style>\n",
       "<table border=\"1\" class=\"dataframe\">\n",
       "  <thead>\n",
       "    <tr style=\"text-align: right;\">\n",
       "      <th></th>\n",
       "      <th>location</th>\n",
       "      <th>size</th>\n",
       "      <th>total_sqft</th>\n",
       "      <th>bath</th>\n",
       "      <th>price</th>\n",
       "      <th>bhk</th>\n",
       "    </tr>\n",
       "  </thead>\n",
       "  <tbody>\n",
       "  </tbody>\n",
       "</table>\n",
       "</div>"
      ],
      "text/plain": [
       "Empty DataFrame\n",
       "Columns: [location, size, total_sqft, bath, price, bhk]\n",
       "Index: []"
      ]
     },
     "execution_count": 350,
     "metadata": {},
     "output_type": "execute_result"
    }
   ],
   "source": [
    "df2[~df2['total_sqft'].apply(is_float)].head(20)"
   ]
  },
  {
   "cell_type": "code",
   "execution_count": 351,
   "id": "4587848e",
   "metadata": {
    "ExecuteTime": {
     "end_time": "2024-01-24T00:48:44.308312800Z",
     "start_time": "2024-01-24T00:48:44.268418900Z"
    }
   },
   "outputs": [],
   "source": [
    "def convert_sqft_to_num(x):\n",
    "    t = x.split('-')\n",
    "    if len(t) == 2:\n",
    "        return (float(t[0])+float(t[1]))/2\n",
    "    try:\n",
    "        return float(x)\n",
    "    except:\n",
    "        return None"
   ]
  },
  {
   "cell_type": "code",
   "execution_count": 352,
   "id": "3abfb585",
   "metadata": {
    "ExecuteTime": {
     "end_time": "2024-01-24T00:48:45.547515Z",
     "start_time": "2024-01-24T00:48:45.472192300Z"
    }
   },
   "outputs": [
    {
     "ename": "AttributeError",
     "evalue": "'int' object has no attribute 'split'",
     "output_type": "error",
     "traceback": [
      "\u001b[1;31m---------------------------------------------------------------------------\u001b[0m",
      "\u001b[1;31mAttributeError\u001b[0m                            Traceback (most recent call last)",
      "\u001b[1;32m~\\AppData\\Local\\Temp\\ipykernel_14504\\3229058310.py\u001b[0m in \u001b[0;36m<module>\u001b[1;34m\u001b[0m\n\u001b[0;32m      1\u001b[0m \u001b[0mdf3\u001b[0m \u001b[1;33m=\u001b[0m \u001b[0mdf2\u001b[0m\u001b[1;33m.\u001b[0m\u001b[0mcopy\u001b[0m\u001b[1;33m(\u001b[0m\u001b[1;33m)\u001b[0m\u001b[1;33m\u001b[0m\u001b[1;33m\u001b[0m\u001b[0m\n\u001b[1;32m----> 2\u001b[1;33m \u001b[0mdf3\u001b[0m\u001b[1;33m[\u001b[0m\u001b[1;34m'total_sqft'\u001b[0m\u001b[1;33m]\u001b[0m \u001b[1;33m=\u001b[0m \u001b[0mdf3\u001b[0m\u001b[1;33m[\u001b[0m\u001b[1;34m'total_sqft'\u001b[0m\u001b[1;33m]\u001b[0m\u001b[1;33m.\u001b[0m\u001b[0mapply\u001b[0m\u001b[1;33m(\u001b[0m\u001b[0mconvert_sqft_to_num\u001b[0m\u001b[1;33m)\u001b[0m\u001b[1;33m\u001b[0m\u001b[1;33m\u001b[0m\u001b[0m\n\u001b[0m",
      "\u001b[1;32mC:\\Python37\\lib\\site-packages\\pandas\\core\\series.py\u001b[0m in \u001b[0;36mapply\u001b[1;34m(self, func, convert_dtype, args, **kwargs)\u001b[0m\n\u001b[0;32m   4355\u001b[0m         \u001b[0mdtype\u001b[0m\u001b[1;33m:\u001b[0m \u001b[0mfloat64\u001b[0m\u001b[1;33m\u001b[0m\u001b[1;33m\u001b[0m\u001b[0m\n\u001b[0;32m   4356\u001b[0m         \"\"\"\n\u001b[1;32m-> 4357\u001b[1;33m         \u001b[1;32mreturn\u001b[0m \u001b[0mSeriesApply\u001b[0m\u001b[1;33m(\u001b[0m\u001b[0mself\u001b[0m\u001b[1;33m,\u001b[0m \u001b[0mfunc\u001b[0m\u001b[1;33m,\u001b[0m \u001b[0mconvert_dtype\u001b[0m\u001b[1;33m,\u001b[0m \u001b[0margs\u001b[0m\u001b[1;33m,\u001b[0m \u001b[0mkwargs\u001b[0m\u001b[1;33m)\u001b[0m\u001b[1;33m.\u001b[0m\u001b[0mapply\u001b[0m\u001b[1;33m(\u001b[0m\u001b[1;33m)\u001b[0m\u001b[1;33m\u001b[0m\u001b[1;33m\u001b[0m\u001b[0m\n\u001b[0m\u001b[0;32m   4358\u001b[0m \u001b[1;33m\u001b[0m\u001b[0m\n\u001b[0;32m   4359\u001b[0m     def _reduce(\n",
      "\u001b[1;32mC:\\Python37\\lib\\site-packages\\pandas\\core\\apply.py\u001b[0m in \u001b[0;36mapply\u001b[1;34m(self)\u001b[0m\n\u001b[0;32m   1041\u001b[0m             \u001b[1;32mreturn\u001b[0m \u001b[0mself\u001b[0m\u001b[1;33m.\u001b[0m\u001b[0mapply_str\u001b[0m\u001b[1;33m(\u001b[0m\u001b[1;33m)\u001b[0m\u001b[1;33m\u001b[0m\u001b[1;33m\u001b[0m\u001b[0m\n\u001b[0;32m   1042\u001b[0m \u001b[1;33m\u001b[0m\u001b[0m\n\u001b[1;32m-> 1043\u001b[1;33m         \u001b[1;32mreturn\u001b[0m \u001b[0mself\u001b[0m\u001b[1;33m.\u001b[0m\u001b[0mapply_standard\u001b[0m\u001b[1;33m(\u001b[0m\u001b[1;33m)\u001b[0m\u001b[1;33m\u001b[0m\u001b[1;33m\u001b[0m\u001b[0m\n\u001b[0m\u001b[0;32m   1044\u001b[0m \u001b[1;33m\u001b[0m\u001b[0m\n\u001b[0;32m   1045\u001b[0m     \u001b[1;32mdef\u001b[0m \u001b[0magg\u001b[0m\u001b[1;33m(\u001b[0m\u001b[0mself\u001b[0m\u001b[1;33m)\u001b[0m\u001b[1;33m:\u001b[0m\u001b[1;33m\u001b[0m\u001b[1;33m\u001b[0m\u001b[0m\n",
      "\u001b[1;32mC:\\Python37\\lib\\site-packages\\pandas\\core\\apply.py\u001b[0m in \u001b[0;36mapply_standard\u001b[1;34m(self)\u001b[0m\n\u001b[0;32m   1099\u001b[0m                     \u001b[0mvalues\u001b[0m\u001b[1;33m,\u001b[0m\u001b[1;33m\u001b[0m\u001b[1;33m\u001b[0m\u001b[0m\n\u001b[0;32m   1100\u001b[0m                     \u001b[0mf\u001b[0m\u001b[1;33m,\u001b[0m  \u001b[1;31m# type: ignore[arg-type]\u001b[0m\u001b[1;33m\u001b[0m\u001b[1;33m\u001b[0m\u001b[0m\n\u001b[1;32m-> 1101\u001b[1;33m                     \u001b[0mconvert\u001b[0m\u001b[1;33m=\u001b[0m\u001b[0mself\u001b[0m\u001b[1;33m.\u001b[0m\u001b[0mconvert_dtype\u001b[0m\u001b[1;33m,\u001b[0m\u001b[1;33m\u001b[0m\u001b[1;33m\u001b[0m\u001b[0m\n\u001b[0m\u001b[0;32m   1102\u001b[0m                 )\n\u001b[0;32m   1103\u001b[0m \u001b[1;33m\u001b[0m\u001b[0m\n",
      "\u001b[1;32mC:\\Python37\\lib\\site-packages\\pandas\\_libs\\lib.pyx\u001b[0m in \u001b[0;36mpandas._libs.lib.map_infer\u001b[1;34m()\u001b[0m\n",
      "\u001b[1;32m~\\AppData\\Local\\Temp\\ipykernel_14504\\879004048.py\u001b[0m in \u001b[0;36mconvert_sqft_to_num\u001b[1;34m(x)\u001b[0m\n\u001b[0;32m      1\u001b[0m \u001b[1;32mdef\u001b[0m \u001b[0mconvert_sqft_to_num\u001b[0m\u001b[1;33m(\u001b[0m\u001b[0mx\u001b[0m\u001b[1;33m)\u001b[0m\u001b[1;33m:\u001b[0m\u001b[1;33m\u001b[0m\u001b[1;33m\u001b[0m\u001b[0m\n\u001b[1;32m----> 2\u001b[1;33m     \u001b[0mt\u001b[0m \u001b[1;33m=\u001b[0m \u001b[0mx\u001b[0m\u001b[1;33m.\u001b[0m\u001b[0msplit\u001b[0m\u001b[1;33m(\u001b[0m\u001b[1;34m'-'\u001b[0m\u001b[1;33m)\u001b[0m\u001b[1;33m\u001b[0m\u001b[1;33m\u001b[0m\u001b[0m\n\u001b[0m\u001b[0;32m      3\u001b[0m     \u001b[1;32mif\u001b[0m \u001b[0mlen\u001b[0m\u001b[1;33m(\u001b[0m\u001b[0mt\u001b[0m\u001b[1;33m)\u001b[0m \u001b[1;33m==\u001b[0m \u001b[1;36m2\u001b[0m\u001b[1;33m:\u001b[0m\u001b[1;33m\u001b[0m\u001b[1;33m\u001b[0m\u001b[0m\n\u001b[0;32m      4\u001b[0m         \u001b[1;32mreturn\u001b[0m \u001b[1;33m(\u001b[0m\u001b[0mfloat\u001b[0m\u001b[1;33m(\u001b[0m\u001b[0mt\u001b[0m\u001b[1;33m[\u001b[0m\u001b[1;36m0\u001b[0m\u001b[1;33m]\u001b[0m\u001b[1;33m)\u001b[0m\u001b[1;33m+\u001b[0m\u001b[0mfloat\u001b[0m\u001b[1;33m(\u001b[0m\u001b[0mt\u001b[0m\u001b[1;33m[\u001b[0m\u001b[1;36m1\u001b[0m\u001b[1;33m]\u001b[0m\u001b[1;33m)\u001b[0m\u001b[1;33m)\u001b[0m\u001b[1;33m/\u001b[0m\u001b[1;36m2\u001b[0m\u001b[1;33m\u001b[0m\u001b[1;33m\u001b[0m\u001b[0m\n\u001b[0;32m      5\u001b[0m     \u001b[1;32mtry\u001b[0m\u001b[1;33m:\u001b[0m\u001b[1;33m\u001b[0m\u001b[1;33m\u001b[0m\u001b[0m\n",
      "\u001b[1;31mAttributeError\u001b[0m: 'int' object has no attribute 'split'"
     ]
    }
   ],
   "source": [
    "df3 = df2.copy()\n",
    "df3['total_sqft'] = df3['total_sqft'].apply(convert_sqft_to_num)"
   ]
  },
  {
   "cell_type": "markdown",
   "id": "3da693c0",
   "metadata": {},
   "source": [
    "## Adding a `price_per_sqft` column"
   ]
  },
  {
   "cell_type": "code",
   "execution_count": 353,
   "id": "4b041c50",
   "metadata": {
    "ExecuteTime": {
     "end_time": "2024-01-24T00:48:47.618953500Z",
     "start_time": "2024-01-24T00:48:47.489300800Z"
    }
   },
   "outputs": [
    {
     "data": {
      "text/html": [
       "<div>\n",
       "<style scoped>\n",
       "    .dataframe tbody tr th:only-of-type {\n",
       "        vertical-align: middle;\n",
       "    }\n",
       "\n",
       "    .dataframe tbody tr th {\n",
       "        vertical-align: top;\n",
       "    }\n",
       "\n",
       "    .dataframe thead th {\n",
       "        text-align: right;\n",
       "    }\n",
       "</style>\n",
       "<table border=\"1\" class=\"dataframe\">\n",
       "  <thead>\n",
       "    <tr style=\"text-align: right;\">\n",
       "      <th></th>\n",
       "      <th>location</th>\n",
       "      <th>size</th>\n",
       "      <th>total_sqft</th>\n",
       "      <th>bath</th>\n",
       "      <th>price</th>\n",
       "      <th>bhk</th>\n",
       "      <th>price_per_sqft</th>\n",
       "    </tr>\n",
       "  </thead>\n",
       "  <tbody>\n",
       "    <tr>\n",
       "      <th>0</th>\n",
       "      <td>Marrakech</td>\n",
       "      <td>2</td>\n",
       "      <td>1280</td>\n",
       "      <td>2</td>\n",
       "      <td>256000</td>\n",
       "      <td>2</td>\n",
       "      <td>200.0</td>\n",
       "    </tr>\n",
       "    <tr>\n",
       "      <th>1</th>\n",
       "      <td>Marrakech</td>\n",
       "      <td>2</td>\n",
       "      <td>2035</td>\n",
       "      <td>2</td>\n",
       "      <td>407000</td>\n",
       "      <td>2</td>\n",
       "      <td>200.0</td>\n",
       "    </tr>\n",
       "    <tr>\n",
       "      <th>2</th>\n",
       "      <td>Marrakech</td>\n",
       "      <td>5</td>\n",
       "      <td>4037</td>\n",
       "      <td>3</td>\n",
       "      <td>1614800</td>\n",
       "      <td>5</td>\n",
       "      <td>400.0</td>\n",
       "    </tr>\n",
       "    <tr>\n",
       "      <th>3</th>\n",
       "      <td>Marrakech</td>\n",
       "      <td>3</td>\n",
       "      <td>3408</td>\n",
       "      <td>3</td>\n",
       "      <td>1022400</td>\n",
       "      <td>3</td>\n",
       "      <td>300.0</td>\n",
       "    </tr>\n",
       "    <tr>\n",
       "      <th>4</th>\n",
       "      <td>Marrakech</td>\n",
       "      <td>3</td>\n",
       "      <td>2743</td>\n",
       "      <td>2</td>\n",
       "      <td>685750</td>\n",
       "      <td>3</td>\n",
       "      <td>250.0</td>\n",
       "    </tr>\n",
       "  </tbody>\n",
       "</table>\n",
       "</div>"
      ],
      "text/plain": [
       "    location  size  total_sqft  bath    price  bhk  price_per_sqft\n",
       "0  Marrakech     2        1280     2   256000    2           200.0\n",
       "1  Marrakech     2        2035     2   407000    2           200.0\n",
       "2  Marrakech     5        4037     3  1614800    5           400.0\n",
       "3  Marrakech     3        3408     3  1022400    3           300.0\n",
       "4  Marrakech     3        2743     2   685750    3           250.0"
      ]
     },
     "execution_count": 353,
     "metadata": {},
     "output_type": "execute_result"
    }
   ],
   "source": [
    "df4 = df3.copy()\n",
    "df4['price_per_sqft'] = df4['price']/df4['total_sqft']\n",
    "df4.head()"
   ]
  },
  {
   "cell_type": "markdown",
   "id": "dda2d563",
   "metadata": {},
   "source": [
    "## Dimnsionality reduction of `location` column"
   ]
  },
  {
   "cell_type": "code",
   "execution_count": 354,
   "id": "98b34dd1",
   "metadata": {
    "ExecuteTime": {
     "end_time": "2024-01-24T00:48:49.771878800Z",
     "start_time": "2024-01-24T00:48:49.578096400Z"
    }
   },
   "outputs": [],
   "source": [
    "df4.location = df4.location.apply(lambda x:x.strip()) #REMOVING SPACES\n",
    "location_stats = df4.groupby('location')['location'].agg('count').sort_values(ascending=False)"
   ]
  },
  {
   "cell_type": "code",
   "execution_count": 355,
   "id": "edb113a4",
   "metadata": {
    "ExecuteTime": {
     "end_time": "2024-01-24T00:48:50.316442500Z",
     "start_time": "2024-01-24T00:48:50.201804800Z"
    }
   },
   "outputs": [
    {
     "data": {
      "text/plain": [
       "location\n",
       "Agadir         213\n",
       "Mohammadia     208\n",
       "Casablanca     115\n",
       "Kentitra       100\n",
       "Tanger         100\n",
       "Marrakech       99\n",
       "Settat          99\n",
       "Berrched        98\n",
       "Essaouira       84\n",
       "Azrou           77\n",
       "Beni Mellal     71\n",
       "Oujda           61\n",
       "Fes             56\n",
       "Khounifra       55\n",
       "Safi            50\n",
       "Ifran           50\n",
       "EL Jadida       47\n",
       "Tetouan         46\n",
       "Meknes          41\n",
       "Khouribga       41\n",
       "Essmara         41\n",
       "Dakhla          41\n",
       "Ourzazat        32\n",
       "Laayoun         29\n",
       "Nador           28\n",
       "Gulmim          25\n",
       "Taza            24\n",
       "Azilal          16\n",
       "Lhajb           12\n",
       "Tata            11\n",
       "Sidi ifni       10\n",
       "Bjaad           10\n",
       "Zagoura          9\n",
       "Name: location, dtype: int64"
      ]
     },
     "execution_count": 355,
     "metadata": {},
     "output_type": "execute_result"
    }
   ],
   "source": [
    "location_stats"
   ]
  },
  {
   "cell_type": "code",
   "execution_count": 356,
   "id": "689f20c8",
   "metadata": {
    "ExecuteTime": {
     "end_time": "2024-01-24T00:48:50.824596600Z",
     "start_time": "2024-01-24T00:48:50.711898500Z"
    }
   },
   "outputs": [
    {
     "data": {
      "text/plain": [
       "3"
      ]
     },
     "execution_count": 356,
     "metadata": {},
     "output_type": "execute_result"
    }
   ],
   "source": [
    "len(location_stats[location_stats<=10]) #how many location has less than 10 data point"
   ]
  },
  {
   "cell_type": "code",
   "execution_count": 357,
   "id": "aca5f5f5",
   "metadata": {
    "ExecuteTime": {
     "end_time": "2024-01-24T00:48:53.933358100Z",
     "start_time": "2024-01-24T00:48:53.885829500Z"
    }
   },
   "outputs": [
    {
     "data": {
      "text/plain": [
       "location\n",
       "Sidi ifni    10\n",
       "Bjaad        10\n",
       "Zagoura       9\n",
       "Name: location, dtype: int64"
      ]
     },
     "execution_count": 357,
     "metadata": {},
     "output_type": "execute_result"
    }
   ],
   "source": [
    "location_stats_less_than_10 = location_stats[location_stats<=10]\n",
    "location_stats_less_than_10"
   ]
  },
  {
   "cell_type": "code",
   "execution_count": 358,
   "id": "9d9ce23a",
   "metadata": {
    "ExecuteTime": {
     "end_time": "2024-01-24T00:48:56.520810800Z",
     "start_time": "2024-01-24T00:48:56.430053800Z"
    },
    "scrolled": true
   },
   "outputs": [
    {
     "data": {
      "text/plain": [
       "31"
      ]
     },
     "execution_count": 358,
     "metadata": {},
     "output_type": "execute_result"
    }
   ],
   "source": [
    "df4.location = df4.location.apply(lambda x:'other' if x in location_stats_less_than_10 else x)\n",
    "len(df4.location.unique())"
   ]
  },
  {
   "cell_type": "markdown",
   "id": "08fa7267",
   "metadata": {},
   "source": [
    "## Removing abnormal rows with in comparison to `total_sqft` with `bhk`"
   ]
  },
  {
   "cell_type": "code",
   "execution_count": 359,
   "id": "48cab7db",
   "metadata": {
    "ExecuteTime": {
     "end_time": "2024-01-24T00:48:58.688581100Z",
     "start_time": "2024-01-24T00:48:58.617767800Z"
    }
   },
   "outputs": [
    {
     "data": {
      "text/html": [
       "<div>\n",
       "<style scoped>\n",
       "    .dataframe tbody tr th:only-of-type {\n",
       "        vertical-align: middle;\n",
       "    }\n",
       "\n",
       "    .dataframe tbody tr th {\n",
       "        vertical-align: top;\n",
       "    }\n",
       "\n",
       "    .dataframe thead th {\n",
       "        text-align: right;\n",
       "    }\n",
       "</style>\n",
       "<table border=\"1\" class=\"dataframe\">\n",
       "  <thead>\n",
       "    <tr style=\"text-align: right;\">\n",
       "      <th></th>\n",
       "      <th>location</th>\n",
       "      <th>size</th>\n",
       "      <th>total_sqft</th>\n",
       "      <th>bath</th>\n",
       "      <th>price</th>\n",
       "      <th>bhk</th>\n",
       "      <th>price_per_sqft</th>\n",
       "    </tr>\n",
       "  </thead>\n",
       "  <tbody>\n",
       "  </tbody>\n",
       "</table>\n",
       "</div>"
      ],
      "text/plain": [
       "Empty DataFrame\n",
       "Columns: [location, size, total_sqft, bath, price, bhk, price_per_sqft]\n",
       "Index: []"
      ]
     },
     "execution_count": 359,
     "metadata": {},
     "output_type": "execute_result"
    }
   ],
   "source": [
    "# total_sqft / bhk = 600/5 = 120 thta's abnormale, so we'll remove this raws\n",
    "df4[df4.total_sqft/df4.bhk<350]"
   ]
  },
  {
   "cell_type": "code",
   "execution_count": 360,
   "id": "76d06c20",
   "metadata": {
    "ExecuteTime": {
     "end_time": "2024-01-24T00:49:00.210093300Z",
     "start_time": "2024-01-24T00:49:00.037134200Z"
    }
   },
   "outputs": [
    {
     "data": {
      "text/plain": [
       "(1999, 7)"
      ]
     },
     "execution_count": 360,
     "metadata": {},
     "output_type": "execute_result"
    }
   ],
   "source": [
    "df4.shape\n"
   ]
  },
  {
   "cell_type": "code",
   "execution_count": 361,
   "id": "b9a150c2",
   "metadata": {
    "ExecuteTime": {
     "end_time": "2024-01-24T00:49:00.835883300Z",
     "start_time": "2024-01-24T00:49:00.790004900Z"
    }
   },
   "outputs": [
    {
     "data": {
      "text/plain": [
       "(1999, 7)"
      ]
     },
     "execution_count": 361,
     "metadata": {},
     "output_type": "execute_result"
    }
   ],
   "source": [
    "df5 = df4[~(df4.total_sqft/df4.bhk<350)]\n",
    "df5.shape"
   ]
  },
  {
   "cell_type": "code",
   "execution_count": 362,
   "id": "a0be0561",
   "metadata": {
    "ExecuteTime": {
     "end_time": "2024-01-24T00:49:01.676753200Z",
     "start_time": "2024-01-24T00:49:01.593971400Z"
    }
   },
   "outputs": [
    {
     "data": {
      "text/html": [
       "<div>\n",
       "<style scoped>\n",
       "    .dataframe tbody tr th:only-of-type {\n",
       "        vertical-align: middle;\n",
       "    }\n",
       "\n",
       "    .dataframe tbody tr th {\n",
       "        vertical-align: top;\n",
       "    }\n",
       "\n",
       "    .dataframe thead th {\n",
       "        text-align: right;\n",
       "    }\n",
       "</style>\n",
       "<table border=\"1\" class=\"dataframe\">\n",
       "  <thead>\n",
       "    <tr style=\"text-align: right;\">\n",
       "      <th></th>\n",
       "      <th>location</th>\n",
       "      <th>size</th>\n",
       "      <th>total_sqft</th>\n",
       "      <th>bath</th>\n",
       "      <th>price</th>\n",
       "      <th>bhk</th>\n",
       "      <th>price_per_sqft</th>\n",
       "    </tr>\n",
       "  </thead>\n",
       "  <tbody>\n",
       "    <tr>\n",
       "      <th>0</th>\n",
       "      <td>Marrakech</td>\n",
       "      <td>2</td>\n",
       "      <td>1280</td>\n",
       "      <td>2</td>\n",
       "      <td>256000</td>\n",
       "      <td>2</td>\n",
       "      <td>200.0</td>\n",
       "    </tr>\n",
       "    <tr>\n",
       "      <th>1</th>\n",
       "      <td>Marrakech</td>\n",
       "      <td>2</td>\n",
       "      <td>2035</td>\n",
       "      <td>2</td>\n",
       "      <td>407000</td>\n",
       "      <td>2</td>\n",
       "      <td>200.0</td>\n",
       "    </tr>\n",
       "    <tr>\n",
       "      <th>2</th>\n",
       "      <td>Marrakech</td>\n",
       "      <td>5</td>\n",
       "      <td>4037</td>\n",
       "      <td>3</td>\n",
       "      <td>1614800</td>\n",
       "      <td>5</td>\n",
       "      <td>400.0</td>\n",
       "    </tr>\n",
       "    <tr>\n",
       "      <th>3</th>\n",
       "      <td>Marrakech</td>\n",
       "      <td>3</td>\n",
       "      <td>3408</td>\n",
       "      <td>3</td>\n",
       "      <td>1022400</td>\n",
       "      <td>3</td>\n",
       "      <td>300.0</td>\n",
       "    </tr>\n",
       "    <tr>\n",
       "      <th>4</th>\n",
       "      <td>Marrakech</td>\n",
       "      <td>3</td>\n",
       "      <td>2743</td>\n",
       "      <td>2</td>\n",
       "      <td>685750</td>\n",
       "      <td>3</td>\n",
       "      <td>250.0</td>\n",
       "    </tr>\n",
       "    <tr>\n",
       "      <th>5</th>\n",
       "      <td>Marrakech</td>\n",
       "      <td>2</td>\n",
       "      <td>2488</td>\n",
       "      <td>1</td>\n",
       "      <td>373200</td>\n",
       "      <td>2</td>\n",
       "      <td>150.0</td>\n",
       "    </tr>\n",
       "    <tr>\n",
       "      <th>6</th>\n",
       "      <td>Marrakech</td>\n",
       "      <td>2</td>\n",
       "      <td>1807</td>\n",
       "      <td>1</td>\n",
       "      <td>271050</td>\n",
       "      <td>2</td>\n",
       "      <td>150.0</td>\n",
       "    </tr>\n",
       "    <tr>\n",
       "      <th>7</th>\n",
       "      <td>Marrakech</td>\n",
       "      <td>5</td>\n",
       "      <td>4439</td>\n",
       "      <td>3</td>\n",
       "      <td>1775600</td>\n",
       "      <td>5</td>\n",
       "      <td>400.0</td>\n",
       "    </tr>\n",
       "    <tr>\n",
       "      <th>8</th>\n",
       "      <td>Marrakech</td>\n",
       "      <td>3</td>\n",
       "      <td>3366</td>\n",
       "      <td>1</td>\n",
       "      <td>673200</td>\n",
       "      <td>3</td>\n",
       "      <td>200.0</td>\n",
       "    </tr>\n",
       "    <tr>\n",
       "      <th>9</th>\n",
       "      <td>Marrakech</td>\n",
       "      <td>3</td>\n",
       "      <td>3085</td>\n",
       "      <td>2</td>\n",
       "      <td>771250</td>\n",
       "      <td>3</td>\n",
       "      <td>250.0</td>\n",
       "    </tr>\n",
       "  </tbody>\n",
       "</table>\n",
       "</div>"
      ],
      "text/plain": [
       "    location  size  total_sqft  bath    price  bhk  price_per_sqft\n",
       "0  Marrakech     2        1280     2   256000    2           200.0\n",
       "1  Marrakech     2        2035     2   407000    2           200.0\n",
       "2  Marrakech     5        4037     3  1614800    5           400.0\n",
       "3  Marrakech     3        3408     3  1022400    3           300.0\n",
       "4  Marrakech     3        2743     2   685750    3           250.0\n",
       "5  Marrakech     2        2488     1   373200    2           150.0\n",
       "6  Marrakech     2        1807     1   271050    2           150.0\n",
       "7  Marrakech     5        4439     3  1775600    5           400.0\n",
       "8  Marrakech     3        3366     1   673200    3           200.0\n",
       "9  Marrakech     3        3085     2   771250    3           250.0"
      ]
     },
     "execution_count": 362,
     "metadata": {},
     "output_type": "execute_result"
    }
   ],
   "source": [
    "df5.head(10)"
   ]
  },
  {
   "cell_type": "markdown",
   "id": "441ce20d",
   "metadata": {},
   "source": [
    "## Removing `price_per_sqft` outlier values"
   ]
  },
  {
   "cell_type": "code",
   "execution_count": 363,
   "id": "bc8c5936",
   "metadata": {
    "ExecuteTime": {
     "end_time": "2024-01-24T00:49:26.108427800Z",
     "start_time": "2024-01-24T00:49:26.044089700Z"
    },
    "scrolled": true
   },
   "outputs": [
    {
     "data": {
      "text/plain": [
       "count    1999.000000\n",
       "mean      250.475238\n",
       "std        79.638977\n",
       "min       150.000000\n",
       "25%       200.000000\n",
       "50%       200.000000\n",
       "75%       300.000000\n",
       "max       400.000000\n",
       "Name: price_per_sqft, dtype: float64"
      ]
     },
     "execution_count": 363,
     "metadata": {},
     "output_type": "execute_result"
    }
   ],
   "source": [
    "df5.price_per_sqft.describe()"
   ]
  },
  {
   "cell_type": "code",
   "execution_count": null,
   "id": "75d1f084",
   "metadata": {},
   "outputs": [],
   "source": []
  },
  {
   "cell_type": "code",
   "execution_count": null,
   "id": "48fdbf6d",
   "metadata": {},
   "outputs": [],
   "source": []
  },
  {
   "cell_type": "markdown",
   "id": "10219d69",
   "metadata": {},
   "source": [
    "##### we'are gonna remove this raws at price for sqft is low ,and for the highest prices sqft it looks normale\n",
    "##### so let's remove exetreme cases 1000 ft² = 92.90 m²"
   ]
  },
  {
   "cell_type": "code",
   "execution_count": 364,
   "id": "9e30b829",
   "metadata": {
    "ExecuteTime": {
     "end_time": "2024-01-24T00:50:25.378077800Z",
     "start_time": "2024-01-24T00:50:25.359129300Z"
    }
   },
   "outputs": [],
   "source": [
    "def remove_pps_outliers(df):   # pps = price_per_sqft\n",
    "    df_out = pd.DataFrame()\n",
    "    for key,subdf in df.groupby('location'):\n",
    "        m = np.mean(subdf.price_per_sqft)\n",
    "        st = np.std(subdf.price_per_sqft)\n",
    "        reduced_df = subdf[(subdf.price_per_sqft>(m-st))]\n",
    "        df_out = pd.concat([df_out,reduced_df],ignore_index=True)\n",
    "    return df_out"
   ]
  },
  {
   "cell_type": "code",
   "execution_count": 365,
   "id": "6f4aaee9",
   "metadata": {
    "ExecuteTime": {
     "end_time": "2024-01-24T00:50:26.767171800Z",
     "start_time": "2024-01-24T00:50:26.617573300Z"
    }
   },
   "outputs": [
    {
     "data": {
      "text/plain": [
       "(1682, 7)"
      ]
     },
     "execution_count": 365,
     "metadata": {},
     "output_type": "execute_result"
    }
   ],
   "source": [
    "df6 = remove_pps_outliers(df5)\n",
    "df6.shape\n"
   ]
  },
  {
   "cell_type": "code",
   "execution_count": 366,
   "id": "0f4961a2",
   "metadata": {
    "ExecuteTime": {
     "end_time": "2024-01-24T00:50:27.832817Z",
     "start_time": "2024-01-24T00:50:27.732823300Z"
    }
   },
   "outputs": [
    {
     "data": {
      "text/html": [
       "<div>\n",
       "<style scoped>\n",
       "    .dataframe tbody tr th:only-of-type {\n",
       "        vertical-align: middle;\n",
       "    }\n",
       "\n",
       "    .dataframe tbody tr th {\n",
       "        vertical-align: top;\n",
       "    }\n",
       "\n",
       "    .dataframe thead th {\n",
       "        text-align: right;\n",
       "    }\n",
       "</style>\n",
       "<table border=\"1\" class=\"dataframe\">\n",
       "  <thead>\n",
       "    <tr style=\"text-align: right;\">\n",
       "      <th></th>\n",
       "      <th>location</th>\n",
       "      <th>size</th>\n",
       "      <th>total_sqft</th>\n",
       "      <th>bath</th>\n",
       "      <th>price</th>\n",
       "      <th>bhk</th>\n",
       "      <th>price_per_sqft</th>\n",
       "    </tr>\n",
       "  </thead>\n",
       "  <tbody>\n",
       "    <tr>\n",
       "      <th>0</th>\n",
       "      <td>Agadir</td>\n",
       "      <td>2</td>\n",
       "      <td>1253</td>\n",
       "      <td>2</td>\n",
       "      <td>250600</td>\n",
       "      <td>2</td>\n",
       "      <td>200.0</td>\n",
       "    </tr>\n",
       "    <tr>\n",
       "      <th>1</th>\n",
       "      <td>Agadir</td>\n",
       "      <td>4</td>\n",
       "      <td>3711</td>\n",
       "      <td>3</td>\n",
       "      <td>1298850</td>\n",
       "      <td>4</td>\n",
       "      <td>350.0</td>\n",
       "    </tr>\n",
       "    <tr>\n",
       "      <th>2</th>\n",
       "      <td>Agadir</td>\n",
       "      <td>2</td>\n",
       "      <td>1662</td>\n",
       "      <td>2</td>\n",
       "      <td>332400</td>\n",
       "      <td>2</td>\n",
       "      <td>200.0</td>\n",
       "    </tr>\n",
       "    <tr>\n",
       "      <th>3</th>\n",
       "      <td>Agadir</td>\n",
       "      <td>3</td>\n",
       "      <td>2823</td>\n",
       "      <td>3</td>\n",
       "      <td>846900</td>\n",
       "      <td>3</td>\n",
       "      <td>300.0</td>\n",
       "    </tr>\n",
       "    <tr>\n",
       "      <th>4</th>\n",
       "      <td>Agadir</td>\n",
       "      <td>3</td>\n",
       "      <td>2305</td>\n",
       "      <td>3</td>\n",
       "      <td>691500</td>\n",
       "      <td>3</td>\n",
       "      <td>300.0</td>\n",
       "    </tr>\n",
       "    <tr>\n",
       "      <th>...</th>\n",
       "      <td>...</td>\n",
       "      <td>...</td>\n",
       "      <td>...</td>\n",
       "      <td>...</td>\n",
       "      <td>...</td>\n",
       "      <td>...</td>\n",
       "      <td>...</td>\n",
       "    </tr>\n",
       "    <tr>\n",
       "      <th>1677</th>\n",
       "      <td>other</td>\n",
       "      <td>3</td>\n",
       "      <td>3475</td>\n",
       "      <td>2</td>\n",
       "      <td>868750</td>\n",
       "      <td>3</td>\n",
       "      <td>250.0</td>\n",
       "    </tr>\n",
       "    <tr>\n",
       "      <th>1678</th>\n",
       "      <td>other</td>\n",
       "      <td>2</td>\n",
       "      <td>1896</td>\n",
       "      <td>2</td>\n",
       "      <td>379200</td>\n",
       "      <td>2</td>\n",
       "      <td>200.0</td>\n",
       "    </tr>\n",
       "    <tr>\n",
       "      <th>1679</th>\n",
       "      <td>other</td>\n",
       "      <td>5</td>\n",
       "      <td>4266</td>\n",
       "      <td>3</td>\n",
       "      <td>1706400</td>\n",
       "      <td>5</td>\n",
       "      <td>400.0</td>\n",
       "    </tr>\n",
       "    <tr>\n",
       "      <th>1680</th>\n",
       "      <td>other</td>\n",
       "      <td>3</td>\n",
       "      <td>2842</td>\n",
       "      <td>2</td>\n",
       "      <td>710500</td>\n",
       "      <td>3</td>\n",
       "      <td>250.0</td>\n",
       "    </tr>\n",
       "    <tr>\n",
       "      <th>1681</th>\n",
       "      <td>other</td>\n",
       "      <td>5</td>\n",
       "      <td>3965</td>\n",
       "      <td>3</td>\n",
       "      <td>1586000</td>\n",
       "      <td>5</td>\n",
       "      <td>400.0</td>\n",
       "    </tr>\n",
       "  </tbody>\n",
       "</table>\n",
       "<p>1682 rows × 7 columns</p>\n",
       "</div>"
      ],
      "text/plain": [
       "     location  size  total_sqft  bath    price  bhk  price_per_sqft\n",
       "0      Agadir     2        1253     2   250600    2           200.0\n",
       "1      Agadir     4        3711     3  1298850    4           350.0\n",
       "2      Agadir     2        1662     2   332400    2           200.0\n",
       "3      Agadir     3        2823     3   846900    3           300.0\n",
       "4      Agadir     3        2305     3   691500    3           300.0\n",
       "...       ...   ...         ...   ...      ...  ...             ...\n",
       "1677    other     3        3475     2   868750    3           250.0\n",
       "1678    other     2        1896     2   379200    2           200.0\n",
       "1679    other     5        4266     3  1706400    5           400.0\n",
       "1680    other     3        2842     2   710500    3           250.0\n",
       "1681    other     5        3965     3  1586000    5           400.0\n",
       "\n",
       "[1682 rows x 7 columns]"
      ]
     },
     "execution_count": 366,
     "metadata": {},
     "output_type": "execute_result"
    }
   ],
   "source": [
    "df6"
   ]
  },
  {
   "cell_type": "code",
   "execution_count": 367,
   "id": "8f59d604",
   "metadata": {
    "ExecuteTime": {
     "end_time": "2024-01-24T00:50:32.223609400Z",
     "start_time": "2024-01-24T00:50:32.127026600Z"
    }
   },
   "outputs": [
    {
     "data": {
      "text/plain": [
       "count    1681.000000\n",
       "mean      269.452707\n",
       "std        72.636966\n",
       "min       200.000000\n",
       "25%       200.000000\n",
       "50%       250.000000\n",
       "75%       350.000000\n",
       "max       400.000000\n",
       "Name: price_per_sqft, dtype: float64"
      ]
     },
     "execution_count": 367,
     "metadata": {},
     "output_type": "execute_result"
    }
   ],
   "source": [
    "\n",
    "min_ind = df6['price_per_sqft'].idxmin()\n",
    "df6 = df6.drop(min_ind)\n",
    "df6.price_per_sqft.describe()"
   ]
  },
  {
   "cell_type": "markdown",
   "id": "5a0684b3",
   "metadata": {},
   "source": [
    "## Plotting `total_sqft` vs `price` scatter-chart based on `location`"
   ]
  },
  {
   "cell_type": "code",
   "execution_count": 368,
   "id": "d307d673",
   "metadata": {
    "ExecuteTime": {
     "end_time": "2024-01-24T00:50:36.548880900Z",
     "start_time": "2024-01-24T00:50:35.550076900Z"
    }
   },
   "outputs": [
    {
     "data": {
      "image/png": "[encoded data removed]",
      "text/plain": [
       "<Figure size 1500x1000 with 1 Axes>"
      ]
     },
     "metadata": {},
     "output_type": "display_data"
    }
   ],
   "source": [
    "def plot_scatter_chart(df,location):\n",
    "    bhk2 = df[(df.location==location) & (df.bhk==2)]\n",
    "    bhk3 = df[(df.location==location) & (df.bhk==3)]\n",
    "    matplotlib.rcParams['figure.figsize'] = (15,10)\n",
    "    plt.scatter(bhk2.total_sqft, bhk2.price, color='blue', label='2 BHK', s=50)\n",
    "    plt.scatter(bhk3.total_sqft, bhk3.price, color='green', label='3 BHK', s=50)\n",
    "    plt.xlabel(\"Total square feet area\")\n",
    "    plt.ylabel(\"Price\")\n",
    "    plt.title(location)\n",
    "    plt.legend()\n",
    "\n",
    "plot_scatter_chart(df5,\"Casablanca\")"
   ]
  },
  {
   "cell_type": "markdown",
   "id": "e47a07bd",
   "metadata": {},
   "source": [
    "## Removing `bhk` outlier values"
   ]
  },
  {
   "cell_type": "code",
   "execution_count": 369,
   "id": "6aac9cbf",
   "metadata": {
    "ExecuteTime": {
     "end_time": "2024-01-24T00:50:37.262304Z",
     "start_time": "2024-01-24T00:50:37.242358600Z"
    }
   },
   "outputs": [],
   "source": [
    "def remove_bhk_outliers(df):\n",
    "    exclude_indices = np.array([])\n",
    "    for location, location_df in df.groupby('location'):\n",
    "        bhk_stats = {}\n",
    "        for bhk, bhk_df in location_df.groupby('bhk'):\n",
    "            bhk_stats[bhk] = {\n",
    "                'mean':np.mean(bhk_df.price_per_sqft),\n",
    "                'std':np.std(bhk_df.price_per_sqft),\n",
    "                'count':bhk_df.shape[0]\n",
    "            }\n",
    "        for bhk, bhk_df in location_df.groupby('bhk'):\n",
    "            stats = bhk_stats.get(bhk-1)\n",
    "            if stats and stats['count']>5:\n",
    "                exclude_indices = np.append(exclude_indices, bhk_df[bhk_df.price_per_sqft<(stats['mean'])].index.values)\n",
    "    return df.drop(exclude_indices,axis='index')"
   ]
  },
  {
   "cell_type": "code",
   "execution_count": 370,
   "id": "59baa20e",
   "metadata": {
    "ExecuteTime": {
     "end_time": "2024-01-24T00:51:09.940912100Z",
     "start_time": "2024-01-24T00:51:09.756617Z"
    }
   },
   "outputs": [
    {
     "data": {
      "text/html": [
       "<div>\n",
       "<style scoped>\n",
       "    .dataframe tbody tr th:only-of-type {\n",
       "        vertical-align: middle;\n",
       "    }\n",
       "\n",
       "    .dataframe tbody tr th {\n",
       "        vertical-align: top;\n",
       "    }\n",
       "\n",
       "    .dataframe thead th {\n",
       "        text-align: right;\n",
       "    }\n",
       "</style>\n",
       "<table border=\"1\" class=\"dataframe\">\n",
       "  <thead>\n",
       "    <tr style=\"text-align: right;\">\n",
       "      <th></th>\n",
       "      <th>location</th>\n",
       "      <th>size</th>\n",
       "      <th>total_sqft</th>\n",
       "      <th>bath</th>\n",
       "      <th>price</th>\n",
       "      <th>bhk</th>\n",
       "      <th>price_per_sqft</th>\n",
       "    </tr>\n",
       "  </thead>\n",
       "  <tbody>\n",
       "    <tr>\n",
       "      <th>1</th>\n",
       "      <td>Agadir</td>\n",
       "      <td>4</td>\n",
       "      <td>3711</td>\n",
       "      <td>3</td>\n",
       "      <td>1298850</td>\n",
       "      <td>4</td>\n",
       "      <td>350.0</td>\n",
       "    </tr>\n",
       "    <tr>\n",
       "      <th>2</th>\n",
       "      <td>Agadir</td>\n",
       "      <td>2</td>\n",
       "      <td>1662</td>\n",
       "      <td>2</td>\n",
       "      <td>332400</td>\n",
       "      <td>2</td>\n",
       "      <td>200.0</td>\n",
       "    </tr>\n",
       "    <tr>\n",
       "      <th>3</th>\n",
       "      <td>Agadir</td>\n",
       "      <td>3</td>\n",
       "      <td>2823</td>\n",
       "      <td>3</td>\n",
       "      <td>846900</td>\n",
       "      <td>3</td>\n",
       "      <td>300.0</td>\n",
       "    </tr>\n",
       "    <tr>\n",
       "      <th>4</th>\n",
       "      <td>Agadir</td>\n",
       "      <td>3</td>\n",
       "      <td>2305</td>\n",
       "      <td>3</td>\n",
       "      <td>691500</td>\n",
       "      <td>3</td>\n",
       "      <td>300.0</td>\n",
       "    </tr>\n",
       "    <tr>\n",
       "      <th>5</th>\n",
       "      <td>Agadir</td>\n",
       "      <td>4</td>\n",
       "      <td>3875</td>\n",
       "      <td>3</td>\n",
       "      <td>1356250</td>\n",
       "      <td>4</td>\n",
       "      <td>350.0</td>\n",
       "    </tr>\n",
       "    <tr>\n",
       "      <th>...</th>\n",
       "      <td>...</td>\n",
       "      <td>...</td>\n",
       "      <td>...</td>\n",
       "      <td>...</td>\n",
       "      <td>...</td>\n",
       "      <td>...</td>\n",
       "      <td>...</td>\n",
       "    </tr>\n",
       "    <tr>\n",
       "      <th>1677</th>\n",
       "      <td>other</td>\n",
       "      <td>3</td>\n",
       "      <td>3475</td>\n",
       "      <td>2</td>\n",
       "      <td>868750</td>\n",
       "      <td>3</td>\n",
       "      <td>250.0</td>\n",
       "    </tr>\n",
       "    <tr>\n",
       "      <th>1678</th>\n",
       "      <td>other</td>\n",
       "      <td>2</td>\n",
       "      <td>1896</td>\n",
       "      <td>2</td>\n",
       "      <td>379200</td>\n",
       "      <td>2</td>\n",
       "      <td>200.0</td>\n",
       "    </tr>\n",
       "    <tr>\n",
       "      <th>1679</th>\n",
       "      <td>other</td>\n",
       "      <td>5</td>\n",
       "      <td>4266</td>\n",
       "      <td>3</td>\n",
       "      <td>1706400</td>\n",
       "      <td>5</td>\n",
       "      <td>400.0</td>\n",
       "    </tr>\n",
       "    <tr>\n",
       "      <th>1680</th>\n",
       "      <td>other</td>\n",
       "      <td>3</td>\n",
       "      <td>2842</td>\n",
       "      <td>2</td>\n",
       "      <td>710500</td>\n",
       "      <td>3</td>\n",
       "      <td>250.0</td>\n",
       "    </tr>\n",
       "    <tr>\n",
       "      <th>1681</th>\n",
       "      <td>other</td>\n",
       "      <td>5</td>\n",
       "      <td>3965</td>\n",
       "      <td>3</td>\n",
       "      <td>1586000</td>\n",
       "      <td>5</td>\n",
       "      <td>400.0</td>\n",
       "    </tr>\n",
       "  </tbody>\n",
       "</table>\n",
       "<p>1681 rows × 7 columns</p>\n",
       "</div>"
      ],
      "text/plain": [
       "     location  size  total_sqft  bath    price  bhk  price_per_sqft\n",
       "1      Agadir     4        3711     3  1298850    4           350.0\n",
       "2      Agadir     2        1662     2   332400    2           200.0\n",
       "3      Agadir     3        2823     3   846900    3           300.0\n",
       "4      Agadir     3        2305     3   691500    3           300.0\n",
       "5      Agadir     4        3875     3  1356250    4           350.0\n",
       "...       ...   ...         ...   ...      ...  ...             ...\n",
       "1677    other     3        3475     2   868750    3           250.0\n",
       "1678    other     2        1896     2   379200    2           200.0\n",
       "1679    other     5        4266     3  1706400    5           400.0\n",
       "1680    other     3        2842     2   710500    3           250.0\n",
       "1681    other     5        3965     3  1586000    5           400.0\n",
       "\n",
       "[1681 rows x 7 columns]"
      ]
     },
     "execution_count": 370,
     "metadata": {},
     "output_type": "execute_result"
    }
   ],
   "source": [
    "df7 = remove_bhk_outliers(df6)\n",
    "df7.shape\n",
    "df7"
   ]
  },
  {
   "cell_type": "code",
   "execution_count": 371,
   "id": "977691ab",
   "metadata": {
    "ExecuteTime": {
     "end_time": "2024-01-24T00:51:11.598046600Z",
     "start_time": "2024-01-24T00:51:11.256410500Z"
    },
    "scrolled": false
   },
   "outputs": [
    {
     "data": {
      "image/png": "[encoded data removed]",
      "text/plain": [
       "<Figure size 1500x1000 with 1 Axes>"
      ]
     },
     "metadata": {},
     "output_type": "display_data"
    }
   ],
   "source": [
    "plot_scatter_chart(df7,\"Casablanca\")"
   ]
  },
  {
   "cell_type": "markdown",
   "id": "385c1fff",
   "metadata": {},
   "source": [
    "## Plotting `price_per_sqft` vs `count` histogram"
   ]
  },
  {
   "cell_type": "code",
   "execution_count": 372,
   "id": "56658d4f",
   "metadata": {
    "ExecuteTime": {
     "end_time": "2024-01-24T00:51:17.823850100Z",
     "start_time": "2024-01-24T00:51:17.535524500Z"
    }
   },
   "outputs": [
    {
     "data": {
      "text/plain": [
       "Text(0, 0.5, 'Count')"
      ]
     },
     "execution_count": 372,
     "metadata": {},
     "output_type": "execute_result"
    },
    {
     "data": {
      "image/png": "[encoded data removed]",
      "text/plain": [
       "<Figure size 1500x1000 with 1 Axes>"
      ]
     },
     "metadata": {},
     "output_type": "display_data"
    }
   ],
   "source": [
    "plt.hist(df7.price_per_sqft, rwidth=0.8)\n",
    "plt.xlabel(\"Price per sqft\")\n",
    "plt.ylabel(\"Count\")"
   ]
  },
  {
   "cell_type": "markdown",
   "id": "e8ad3655",
   "metadata": {},
   "source": [
    "## Checking & removing irregular bathroom counts"
   ]
  },
  {
   "cell_type": "code",
   "execution_count": 373,
   "id": "68752633",
   "metadata": {
    "ExecuteTime": {
     "end_time": "2024-01-24T00:51:19.269226600Z",
     "start_time": "2024-01-24T00:51:19.162512700Z"
    },
    "scrolled": true
   },
   "outputs": [
    {
     "data": {
      "text/plain": [
       "array([3, 2, 1], dtype=int64)"
      ]
     },
     "execution_count": 373,
     "metadata": {},
     "output_type": "execute_result"
    }
   ],
   "source": [
    "df7.bath.unique()"
   ]
  },
  {
   "cell_type": "code",
   "execution_count": 374,
   "id": "1a1ccb17",
   "metadata": {
    "ExecuteTime": {
     "end_time": "2024-01-24T00:51:19.974697500Z",
     "start_time": "2024-01-24T00:51:19.930491300Z"
    }
   },
   "outputs": [
    {
     "data": {
      "text/html": [
       "<div>\n",
       "<style scoped>\n",
       "    .dataframe tbody tr th:only-of-type {\n",
       "        vertical-align: middle;\n",
       "    }\n",
       "\n",
       "    .dataframe tbody tr th {\n",
       "        vertical-align: top;\n",
       "    }\n",
       "\n",
       "    .dataframe thead th {\n",
       "        text-align: right;\n",
       "    }\n",
       "</style>\n",
       "<table border=\"1\" class=\"dataframe\">\n",
       "  <thead>\n",
       "    <tr style=\"text-align: right;\">\n",
       "      <th></th>\n",
       "      <th>location</th>\n",
       "      <th>size</th>\n",
       "      <th>total_sqft</th>\n",
       "      <th>bath</th>\n",
       "      <th>price</th>\n",
       "      <th>bhk</th>\n",
       "      <th>price_per_sqft</th>\n",
       "    </tr>\n",
       "  </thead>\n",
       "  <tbody>\n",
       "  </tbody>\n",
       "</table>\n",
       "</div>"
      ],
      "text/plain": [
       "Empty DataFrame\n",
       "Columns: [location, size, total_sqft, bath, price, bhk, price_per_sqft]\n",
       "Index: []"
      ]
     },
     "execution_count": 374,
     "metadata": {},
     "output_type": "execute_result"
    }
   ],
   "source": [
    "df7[df7.bath>4]"
   ]
  },
  {
   "cell_type": "code",
   "execution_count": 375,
   "id": "07037e4e",
   "metadata": {
    "ExecuteTime": {
     "end_time": "2024-01-24T00:51:21.754513800Z",
     "start_time": "2024-01-24T00:51:20.737692800Z"
    }
   },
   "outputs": [
    {
     "data": {
      "text/plain": [
       "Text(0, 0.5, 'Count')"
      ]
     },
     "execution_count": 375,
     "metadata": {},
     "output_type": "execute_result"
    },
    {
     "data": {
      "image/png": "[encoded data removed]",
      "text/plain": [
       "<Figure size 1500x1000 with 1 Axes>"
      ]
     },
     "metadata": {},
     "output_type": "display_data"
    }
   ],
   "source": [
    "plt.hist(df7.bath, rwidth=0.8)\n",
    "plt.xlabel(\"No. of bathrooms\")\n",
    "plt.ylabel(\"Count\")"
   ]
  },
  {
   "cell_type": "code",
   "execution_count": 376,
   "id": "5ada2e8b",
   "metadata": {
    "ExecuteTime": {
     "end_time": "2024-01-24T00:51:22.270131Z",
     "start_time": "2024-01-24T00:51:21.810362Z"
    }
   },
   "outputs": [
    {
     "data": {
      "text/html": [
       "<div>\n",
       "<style scoped>\n",
       "    .dataframe tbody tr th:only-of-type {\n",
       "        vertical-align: middle;\n",
       "    }\n",
       "\n",
       "    .dataframe tbody tr th {\n",
       "        vertical-align: top;\n",
       "    }\n",
       "\n",
       "    .dataframe thead th {\n",
       "        text-align: right;\n",
       "    }\n",
       "</style>\n",
       "<table border=\"1\" class=\"dataframe\">\n",
       "  <thead>\n",
       "    <tr style=\"text-align: right;\">\n",
       "      <th></th>\n",
       "      <th>location</th>\n",
       "      <th>size</th>\n",
       "      <th>total_sqft</th>\n",
       "      <th>bath</th>\n",
       "      <th>price</th>\n",
       "      <th>bhk</th>\n",
       "      <th>price_per_sqft</th>\n",
       "    </tr>\n",
       "  </thead>\n",
       "  <tbody>\n",
       "  </tbody>\n",
       "</table>\n",
       "</div>"
      ],
      "text/plain": [
       "Empty DataFrame\n",
       "Columns: [location, size, total_sqft, bath, price, bhk, price_per_sqft]\n",
       "Index: []"
      ]
     },
     "execution_count": 376,
     "metadata": {},
     "output_type": "execute_result"
    }
   ],
   "source": [
    "df7[df7.bath>df7.bhk+2]"
   ]
  },
  {
   "cell_type": "code",
   "execution_count": 377,
   "id": "5d96b306",
   "metadata": {
    "ExecuteTime": {
     "end_time": "2024-01-24T00:51:23.908746700Z",
     "start_time": "2024-01-24T00:51:23.576636200Z"
    }
   },
   "outputs": [
    {
     "data": {
      "text/html": [
       "<div>\n",
       "<style scoped>\n",
       "    .dataframe tbody tr th:only-of-type {\n",
       "        vertical-align: middle;\n",
       "    }\n",
       "\n",
       "    .dataframe tbody tr th {\n",
       "        vertical-align: top;\n",
       "    }\n",
       "\n",
       "    .dataframe thead th {\n",
       "        text-align: right;\n",
       "    }\n",
       "</style>\n",
       "<table border=\"1\" class=\"dataframe\">\n",
       "  <thead>\n",
       "    <tr style=\"text-align: right;\">\n",
       "      <th></th>\n",
       "      <th>location</th>\n",
       "      <th>size</th>\n",
       "      <th>total_sqft</th>\n",
       "      <th>bath</th>\n",
       "      <th>price</th>\n",
       "      <th>bhk</th>\n",
       "      <th>price_per_sqft</th>\n",
       "    </tr>\n",
       "  </thead>\n",
       "  <tbody>\n",
       "    <tr>\n",
       "      <th>1</th>\n",
       "      <td>Agadir</td>\n",
       "      <td>4</td>\n",
       "      <td>3711</td>\n",
       "      <td>3</td>\n",
       "      <td>1298850</td>\n",
       "      <td>4</td>\n",
       "      <td>350.0</td>\n",
       "    </tr>\n",
       "    <tr>\n",
       "      <th>2</th>\n",
       "      <td>Agadir</td>\n",
       "      <td>2</td>\n",
       "      <td>1662</td>\n",
       "      <td>2</td>\n",
       "      <td>332400</td>\n",
       "      <td>2</td>\n",
       "      <td>200.0</td>\n",
       "    </tr>\n",
       "    <tr>\n",
       "      <th>3</th>\n",
       "      <td>Agadir</td>\n",
       "      <td>3</td>\n",
       "      <td>2823</td>\n",
       "      <td>3</td>\n",
       "      <td>846900</td>\n",
       "      <td>3</td>\n",
       "      <td>300.0</td>\n",
       "    </tr>\n",
       "    <tr>\n",
       "      <th>4</th>\n",
       "      <td>Agadir</td>\n",
       "      <td>3</td>\n",
       "      <td>2305</td>\n",
       "      <td>3</td>\n",
       "      <td>691500</td>\n",
       "      <td>3</td>\n",
       "      <td>300.0</td>\n",
       "    </tr>\n",
       "    <tr>\n",
       "      <th>5</th>\n",
       "      <td>Agadir</td>\n",
       "      <td>4</td>\n",
       "      <td>3875</td>\n",
       "      <td>3</td>\n",
       "      <td>1356250</td>\n",
       "      <td>4</td>\n",
       "      <td>350.0</td>\n",
       "    </tr>\n",
       "    <tr>\n",
       "      <th>...</th>\n",
       "      <td>...</td>\n",
       "      <td>...</td>\n",
       "      <td>...</td>\n",
       "      <td>...</td>\n",
       "      <td>...</td>\n",
       "      <td>...</td>\n",
       "      <td>...</td>\n",
       "    </tr>\n",
       "    <tr>\n",
       "      <th>1677</th>\n",
       "      <td>other</td>\n",
       "      <td>3</td>\n",
       "      <td>3475</td>\n",
       "      <td>2</td>\n",
       "      <td>868750</td>\n",
       "      <td>3</td>\n",
       "      <td>250.0</td>\n",
       "    </tr>\n",
       "    <tr>\n",
       "      <th>1678</th>\n",
       "      <td>other</td>\n",
       "      <td>2</td>\n",
       "      <td>1896</td>\n",
       "      <td>2</td>\n",
       "      <td>379200</td>\n",
       "      <td>2</td>\n",
       "      <td>200.0</td>\n",
       "    </tr>\n",
       "    <tr>\n",
       "      <th>1679</th>\n",
       "      <td>other</td>\n",
       "      <td>5</td>\n",
       "      <td>4266</td>\n",
       "      <td>3</td>\n",
       "      <td>1706400</td>\n",
       "      <td>5</td>\n",
       "      <td>400.0</td>\n",
       "    </tr>\n",
       "    <tr>\n",
       "      <th>1680</th>\n",
       "      <td>other</td>\n",
       "      <td>3</td>\n",
       "      <td>2842</td>\n",
       "      <td>2</td>\n",
       "      <td>710500</td>\n",
       "      <td>3</td>\n",
       "      <td>250.0</td>\n",
       "    </tr>\n",
       "    <tr>\n",
       "      <th>1681</th>\n",
       "      <td>other</td>\n",
       "      <td>5</td>\n",
       "      <td>3965</td>\n",
       "      <td>3</td>\n",
       "      <td>1586000</td>\n",
       "      <td>5</td>\n",
       "      <td>400.0</td>\n",
       "    </tr>\n",
       "  </tbody>\n",
       "</table>\n",
       "<p>1681 rows × 7 columns</p>\n",
       "</div>"
      ],
      "text/plain": [
       "     location  size  total_sqft  bath    price  bhk  price_per_sqft\n",
       "1      Agadir     4        3711     3  1298850    4           350.0\n",
       "2      Agadir     2        1662     2   332400    2           200.0\n",
       "3      Agadir     3        2823     3   846900    3           300.0\n",
       "4      Agadir     3        2305     3   691500    3           300.0\n",
       "5      Agadir     4        3875     3  1356250    4           350.0\n",
       "...       ...   ...         ...   ...      ...  ...             ...\n",
       "1677    other     3        3475     2   868750    3           250.0\n",
       "1678    other     2        1896     2   379200    2           200.0\n",
       "1679    other     5        4266     3  1706400    5           400.0\n",
       "1680    other     3        2842     2   710500    3           250.0\n",
       "1681    other     5        3965     3  1586000    5           400.0\n",
       "\n",
       "[1681 rows x 7 columns]"
      ]
     },
     "execution_count": 377,
     "metadata": {},
     "output_type": "execute_result"
    }
   ],
   "source": [
    "df8 = df7[df7.bath<df7.bhk+2]\n",
    "df8"
   ]
  },
  {
   "cell_type": "markdown",
   "id": "8ffc37ee",
   "metadata": {},
   "source": [
    "## Dataset preparation for Model building: By final removal of engineered columns"
   ]
  },
  {
   "cell_type": "code",
   "execution_count": 378,
   "id": "a0428836",
   "metadata": {
    "ExecuteTime": {
     "end_time": "2024-01-24T00:51:25.542633200Z",
     "start_time": "2024-01-24T00:51:25.507727400Z"
    }
   },
   "outputs": [
    {
     "data": {
      "text/html": [
       "<div>\n",
       "<style scoped>\n",
       "    .dataframe tbody tr th:only-of-type {\n",
       "        vertical-align: middle;\n",
       "    }\n",
       "\n",
       "    .dataframe tbody tr th {\n",
       "        vertical-align: top;\n",
       "    }\n",
       "\n",
       "    .dataframe thead th {\n",
       "        text-align: right;\n",
       "    }\n",
       "</style>\n",
       "<table border=\"1\" class=\"dataframe\">\n",
       "  <thead>\n",
       "    <tr style=\"text-align: right;\">\n",
       "      <th></th>\n",
       "      <th>location</th>\n",
       "      <th>total_sqft</th>\n",
       "      <th>bath</th>\n",
       "      <th>price</th>\n",
       "      <th>bhk</th>\n",
       "    </tr>\n",
       "  </thead>\n",
       "  <tbody>\n",
       "    <tr>\n",
       "      <th>1</th>\n",
       "      <td>Agadir</td>\n",
       "      <td>3711</td>\n",
       "      <td>3</td>\n",
       "      <td>1298850</td>\n",
       "      <td>4</td>\n",
       "    </tr>\n",
       "    <tr>\n",
       "      <th>2</th>\n",
       "      <td>Agadir</td>\n",
       "      <td>1662</td>\n",
       "      <td>2</td>\n",
       "      <td>332400</td>\n",
       "      <td>2</td>\n",
       "    </tr>\n",
       "    <tr>\n",
       "      <th>3</th>\n",
       "      <td>Agadir</td>\n",
       "      <td>2823</td>\n",
       "      <td>3</td>\n",
       "      <td>846900</td>\n",
       "      <td>3</td>\n",
       "    </tr>\n",
       "    <tr>\n",
       "      <th>4</th>\n",
       "      <td>Agadir</td>\n",
       "      <td>2305</td>\n",
       "      <td>3</td>\n",
       "      <td>691500</td>\n",
       "      <td>3</td>\n",
       "    </tr>\n",
       "    <tr>\n",
       "      <th>5</th>\n",
       "      <td>Agadir</td>\n",
       "      <td>3875</td>\n",
       "      <td>3</td>\n",
       "      <td>1356250</td>\n",
       "      <td>4</td>\n",
       "    </tr>\n",
       "  </tbody>\n",
       "</table>\n",
       "</div>"
      ],
      "text/plain": [
       "  location  total_sqft  bath    price  bhk\n",
       "1   Agadir        3711     3  1298850    4\n",
       "2   Agadir        1662     2   332400    2\n",
       "3   Agadir        2823     3   846900    3\n",
       "4   Agadir        2305     3   691500    3\n",
       "5   Agadir        3875     3  1356250    4"
      ]
     },
     "execution_count": 378,
     "metadata": {},
     "output_type": "execute_result"
    }
   ],
   "source": [
    "df9 = df8.drop(['size','price_per_sqft'],axis='columns')\n",
    "df9.head()"
   ]
  },
  {
   "cell_type": "code",
   "execution_count": 379,
   "id": "2da31cb3",
   "metadata": {
    "ExecuteTime": {
     "end_time": "2024-01-24T00:51:26.585538200Z",
     "start_time": "2024-01-24T00:51:26.454879500Z"
    }
   },
   "outputs": [
    {
     "data": {
      "text/html": [
       "<div>\n",
       "<style scoped>\n",
       "    .dataframe tbody tr th:only-of-type {\n",
       "        vertical-align: middle;\n",
       "    }\n",
       "\n",
       "    .dataframe tbody tr th {\n",
       "        vertical-align: top;\n",
       "    }\n",
       "\n",
       "    .dataframe thead th {\n",
       "        text-align: right;\n",
       "    }\n",
       "</style>\n",
       "<table border=\"1\" class=\"dataframe\">\n",
       "  <thead>\n",
       "    <tr style=\"text-align: right;\">\n",
       "      <th></th>\n",
       "      <th>Agadir</th>\n",
       "      <th>Azilal</th>\n",
       "      <th>Azrou</th>\n",
       "      <th>Beni Mellal</th>\n",
       "      <th>Berrched</th>\n",
       "      <th>Casablanca</th>\n",
       "      <th>Dakhla</th>\n",
       "      <th>EL Jadida</th>\n",
       "      <th>Essaouira</th>\n",
       "      <th>Essmara</th>\n",
       "      <th>...</th>\n",
       "      <th>Nador</th>\n",
       "      <th>Oujda</th>\n",
       "      <th>Ourzazat</th>\n",
       "      <th>Safi</th>\n",
       "      <th>Settat</th>\n",
       "      <th>Tanger</th>\n",
       "      <th>Tata</th>\n",
       "      <th>Taza</th>\n",
       "      <th>Tetouan</th>\n",
       "      <th>other</th>\n",
       "    </tr>\n",
       "  </thead>\n",
       "  <tbody>\n",
       "    <tr>\n",
       "      <th>1</th>\n",
       "      <td>1</td>\n",
       "      <td>0</td>\n",
       "      <td>0</td>\n",
       "      <td>0</td>\n",
       "      <td>0</td>\n",
       "      <td>0</td>\n",
       "      <td>0</td>\n",
       "      <td>0</td>\n",
       "      <td>0</td>\n",
       "      <td>0</td>\n",
       "      <td>...</td>\n",
       "      <td>0</td>\n",
       "      <td>0</td>\n",
       "      <td>0</td>\n",
       "      <td>0</td>\n",
       "      <td>0</td>\n",
       "      <td>0</td>\n",
       "      <td>0</td>\n",
       "      <td>0</td>\n",
       "      <td>0</td>\n",
       "      <td>0</td>\n",
       "    </tr>\n",
       "    <tr>\n",
       "      <th>2</th>\n",
       "      <td>1</td>\n",
       "      <td>0</td>\n",
       "      <td>0</td>\n",
       "      <td>0</td>\n",
       "      <td>0</td>\n",
       "      <td>0</td>\n",
       "      <td>0</td>\n",
       "      <td>0</td>\n",
       "      <td>0</td>\n",
       "      <td>0</td>\n",
       "      <td>...</td>\n",
       "      <td>0</td>\n",
       "      <td>0</td>\n",
       "      <td>0</td>\n",
       "      <td>0</td>\n",
       "      <td>0</td>\n",
       "      <td>0</td>\n",
       "      <td>0</td>\n",
       "      <td>0</td>\n",
       "      <td>0</td>\n",
       "      <td>0</td>\n",
       "    </tr>\n",
       "    <tr>\n",
       "      <th>3</th>\n",
       "      <td>1</td>\n",
       "      <td>0</td>\n",
       "      <td>0</td>\n",
       "      <td>0</td>\n",
       "      <td>0</td>\n",
       "      <td>0</td>\n",
       "      <td>0</td>\n",
       "      <td>0</td>\n",
       "      <td>0</td>\n",
       "      <td>0</td>\n",
       "      <td>...</td>\n",
       "      <td>0</td>\n",
       "      <td>0</td>\n",
       "      <td>0</td>\n",
       "      <td>0</td>\n",
       "      <td>0</td>\n",
       "      <td>0</td>\n",
       "      <td>0</td>\n",
       "      <td>0</td>\n",
       "      <td>0</td>\n",
       "      <td>0</td>\n",
       "    </tr>\n",
       "    <tr>\n",
       "      <th>4</th>\n",
       "      <td>1</td>\n",
       "      <td>0</td>\n",
       "      <td>0</td>\n",
       "      <td>0</td>\n",
       "      <td>0</td>\n",
       "      <td>0</td>\n",
       "      <td>0</td>\n",
       "      <td>0</td>\n",
       "      <td>0</td>\n",
       "      <td>0</td>\n",
       "      <td>...</td>\n",
       "      <td>0</td>\n",
       "      <td>0</td>\n",
       "      <td>0</td>\n",
       "      <td>0</td>\n",
       "      <td>0</td>\n",
       "      <td>0</td>\n",
       "      <td>0</td>\n",
       "      <td>0</td>\n",
       "      <td>0</td>\n",
       "      <td>0</td>\n",
       "    </tr>\n",
       "    <tr>\n",
       "      <th>5</th>\n",
       "      <td>1</td>\n",
       "      <td>0</td>\n",
       "      <td>0</td>\n",
       "      <td>0</td>\n",
       "      <td>0</td>\n",
       "      <td>0</td>\n",
       "      <td>0</td>\n",
       "      <td>0</td>\n",
       "      <td>0</td>\n",
       "      <td>0</td>\n",
       "      <td>...</td>\n",
       "      <td>0</td>\n",
       "      <td>0</td>\n",
       "      <td>0</td>\n",
       "      <td>0</td>\n",
       "      <td>0</td>\n",
       "      <td>0</td>\n",
       "      <td>0</td>\n",
       "      <td>0</td>\n",
       "      <td>0</td>\n",
       "      <td>0</td>\n",
       "    </tr>\n",
       "    <tr>\n",
       "      <th>...</th>\n",
       "      <td>...</td>\n",
       "      <td>...</td>\n",
       "      <td>...</td>\n",
       "      <td>...</td>\n",
       "      <td>...</td>\n",
       "      <td>...</td>\n",
       "      <td>...</td>\n",
       "      <td>...</td>\n",
       "      <td>...</td>\n",
       "      <td>...</td>\n",
       "      <td>...</td>\n",
       "      <td>...</td>\n",
       "      <td>...</td>\n",
       "      <td>...</td>\n",
       "      <td>...</td>\n",
       "      <td>...</td>\n",
       "      <td>...</td>\n",
       "      <td>...</td>\n",
       "      <td>...</td>\n",
       "      <td>...</td>\n",
       "      <td>...</td>\n",
       "    </tr>\n",
       "    <tr>\n",
       "      <th>1677</th>\n",
       "      <td>0</td>\n",
       "      <td>0</td>\n",
       "      <td>0</td>\n",
       "      <td>0</td>\n",
       "      <td>0</td>\n",
       "      <td>0</td>\n",
       "      <td>0</td>\n",
       "      <td>0</td>\n",
       "      <td>0</td>\n",
       "      <td>0</td>\n",
       "      <td>...</td>\n",
       "      <td>0</td>\n",
       "      <td>0</td>\n",
       "      <td>0</td>\n",
       "      <td>0</td>\n",
       "      <td>0</td>\n",
       "      <td>0</td>\n",
       "      <td>0</td>\n",
       "      <td>0</td>\n",
       "      <td>0</td>\n",
       "      <td>1</td>\n",
       "    </tr>\n",
       "    <tr>\n",
       "      <th>1678</th>\n",
       "      <td>0</td>\n",
       "      <td>0</td>\n",
       "      <td>0</td>\n",
       "      <td>0</td>\n",
       "      <td>0</td>\n",
       "      <td>0</td>\n",
       "      <td>0</td>\n",
       "      <td>0</td>\n",
       "      <td>0</td>\n",
       "      <td>0</td>\n",
       "      <td>...</td>\n",
       "      <td>0</td>\n",
       "      <td>0</td>\n",
       "      <td>0</td>\n",
       "      <td>0</td>\n",
       "      <td>0</td>\n",
       "      <td>0</td>\n",
       "      <td>0</td>\n",
       "      <td>0</td>\n",
       "      <td>0</td>\n",
       "      <td>1</td>\n",
       "    </tr>\n",
       "    <tr>\n",
       "      <th>1679</th>\n",
       "      <td>0</td>\n",
       "      <td>0</td>\n",
       "      <td>0</td>\n",
       "      <td>0</td>\n",
       "      <td>0</td>\n",
       "      <td>0</td>\n",
       "      <td>0</td>\n",
       "      <td>0</td>\n",
       "      <td>0</td>\n",
       "      <td>0</td>\n",
       "      <td>...</td>\n",
       "      <td>0</td>\n",
       "      <td>0</td>\n",
       "      <td>0</td>\n",
       "      <td>0</td>\n",
       "      <td>0</td>\n",
       "      <td>0</td>\n",
       "      <td>0</td>\n",
       "      <td>0</td>\n",
       "      <td>0</td>\n",
       "      <td>1</td>\n",
       "    </tr>\n",
       "    <tr>\n",
       "      <th>1680</th>\n",
       "      <td>0</td>\n",
       "      <td>0</td>\n",
       "      <td>0</td>\n",
       "      <td>0</td>\n",
       "      <td>0</td>\n",
       "      <td>0</td>\n",
       "      <td>0</td>\n",
       "      <td>0</td>\n",
       "      <td>0</td>\n",
       "      <td>0</td>\n",
       "      <td>...</td>\n",
       "      <td>0</td>\n",
       "      <td>0</td>\n",
       "      <td>0</td>\n",
       "      <td>0</td>\n",
       "      <td>0</td>\n",
       "      <td>0</td>\n",
       "      <td>0</td>\n",
       "      <td>0</td>\n",
       "      <td>0</td>\n",
       "      <td>1</td>\n",
       "    </tr>\n",
       "    <tr>\n",
       "      <th>1681</th>\n",
       "      <td>0</td>\n",
       "      <td>0</td>\n",
       "      <td>0</td>\n",
       "      <td>0</td>\n",
       "      <td>0</td>\n",
       "      <td>0</td>\n",
       "      <td>0</td>\n",
       "      <td>0</td>\n",
       "      <td>0</td>\n",
       "      <td>0</td>\n",
       "      <td>...</td>\n",
       "      <td>0</td>\n",
       "      <td>0</td>\n",
       "      <td>0</td>\n",
       "      <td>0</td>\n",
       "      <td>0</td>\n",
       "      <td>0</td>\n",
       "      <td>0</td>\n",
       "      <td>0</td>\n",
       "      <td>0</td>\n",
       "      <td>1</td>\n",
       "    </tr>\n",
       "  </tbody>\n",
       "</table>\n",
       "<p>1681 rows × 31 columns</p>\n",
       "</div>"
      ],
      "text/plain": [
       "      Agadir  Azilal  Azrou  Beni Mellal  Berrched  Casablanca  Dakhla  \\\n",
       "1          1       0      0            0         0           0       0   \n",
       "2          1       0      0            0         0           0       0   \n",
       "3          1       0      0            0         0           0       0   \n",
       "4          1       0      0            0         0           0       0   \n",
       "5          1       0      0            0         0           0       0   \n",
       "...      ...     ...    ...          ...       ...         ...     ...   \n",
       "1677       0       0      0            0         0           0       0   \n",
       "1678       0       0      0            0         0           0       0   \n",
       "1679       0       0      0            0         0           0       0   \n",
       "1680       0       0      0            0         0           0       0   \n",
       "1681       0       0      0            0         0           0       0   \n",
       "\n",
       "      EL Jadida  Essaouira  Essmara  ...  Nador  Oujda  Ourzazat  Safi  \\\n",
       "1             0          0        0  ...      0      0         0     0   \n",
       "2             0          0        0  ...      0      0         0     0   \n",
       "3             0          0        0  ...      0      0         0     0   \n",
       "4             0          0        0  ...      0      0         0     0   \n",
       "5             0          0        0  ...      0      0         0     0   \n",
       "...         ...        ...      ...  ...    ...    ...       ...   ...   \n",
       "1677          0          0        0  ...      0      0         0     0   \n",
       "1678          0          0        0  ...      0      0         0     0   \n",
       "1679          0          0        0  ...      0      0         0     0   \n",
       "1680          0          0        0  ...      0      0         0     0   \n",
       "1681          0          0        0  ...      0      0         0     0   \n",
       "\n",
       "      Settat  Tanger  Tata  Taza  Tetouan  other  \n",
       "1          0       0     0     0        0      0  \n",
       "2          0       0     0     0        0      0  \n",
       "3          0       0     0     0        0      0  \n",
       "4          0       0     0     0        0      0  \n",
       "5          0       0     0     0        0      0  \n",
       "...      ...     ...   ...   ...      ...    ...  \n",
       "1677       0       0     0     0        0      1  \n",
       "1678       0       0     0     0        0      1  \n",
       "1679       0       0     0     0        0      1  \n",
       "1680       0       0     0     0        0      1  \n",
       "1681       0       0     0     0        0      1  \n",
       "\n",
       "[1681 rows x 31 columns]"
      ]
     },
     "execution_count": 379,
     "metadata": {},
     "output_type": "execute_result"
    }
   ],
   "source": [
    "dum = pd.get_dummies(df9.location)\n",
    "dum"
   ]
  },
  {
   "cell_type": "code",
   "execution_count": 380,
   "id": "e90f4cf8",
   "metadata": {
    "ExecuteTime": {
     "end_time": "2024-01-24T00:51:27.624354900Z",
     "start_time": "2024-01-24T00:51:27.531603400Z"
    }
   },
   "outputs": [
    {
     "data": {
      "text/html": [
       "<div>\n",
       "<style scoped>\n",
       "    .dataframe tbody tr th:only-of-type {\n",
       "        vertical-align: middle;\n",
       "    }\n",
       "\n",
       "    .dataframe tbody tr th {\n",
       "        vertical-align: top;\n",
       "    }\n",
       "\n",
       "    .dataframe thead th {\n",
       "        text-align: right;\n",
       "    }\n",
       "</style>\n",
       "<table border=\"1\" class=\"dataframe\">\n",
       "  <thead>\n",
       "    <tr style=\"text-align: right;\">\n",
       "      <th></th>\n",
       "      <th>total_sqft</th>\n",
       "      <th>bath</th>\n",
       "      <th>price</th>\n",
       "      <th>bhk</th>\n",
       "      <th>Agadir</th>\n",
       "      <th>Azilal</th>\n",
       "      <th>Azrou</th>\n",
       "      <th>Beni Mellal</th>\n",
       "      <th>Berrched</th>\n",
       "      <th>Casablanca</th>\n",
       "      <th>...</th>\n",
       "      <th>Mohammadia</th>\n",
       "      <th>Nador</th>\n",
       "      <th>Oujda</th>\n",
       "      <th>Ourzazat</th>\n",
       "      <th>Safi</th>\n",
       "      <th>Settat</th>\n",
       "      <th>Tanger</th>\n",
       "      <th>Tata</th>\n",
       "      <th>Taza</th>\n",
       "      <th>Tetouan</th>\n",
       "    </tr>\n",
       "  </thead>\n",
       "  <tbody>\n",
       "    <tr>\n",
       "      <th>1</th>\n",
       "      <td>3711</td>\n",
       "      <td>3</td>\n",
       "      <td>1298850</td>\n",
       "      <td>4</td>\n",
       "      <td>1</td>\n",
       "      <td>0</td>\n",
       "      <td>0</td>\n",
       "      <td>0</td>\n",
       "      <td>0</td>\n",
       "      <td>0</td>\n",
       "      <td>...</td>\n",
       "      <td>0</td>\n",
       "      <td>0</td>\n",
       "      <td>0</td>\n",
       "      <td>0</td>\n",
       "      <td>0</td>\n",
       "      <td>0</td>\n",
       "      <td>0</td>\n",
       "      <td>0</td>\n",
       "      <td>0</td>\n",
       "      <td>0</td>\n",
       "    </tr>\n",
       "    <tr>\n",
       "      <th>2</th>\n",
       "      <td>1662</td>\n",
       "      <td>2</td>\n",
       "      <td>332400</td>\n",
       "      <td>2</td>\n",
       "      <td>1</td>\n",
       "      <td>0</td>\n",
       "      <td>0</td>\n",
       "      <td>0</td>\n",
       "      <td>0</td>\n",
       "      <td>0</td>\n",
       "      <td>...</td>\n",
       "      <td>0</td>\n",
       "      <td>0</td>\n",
       "      <td>0</td>\n",
       "      <td>0</td>\n",
       "      <td>0</td>\n",
       "      <td>0</td>\n",
       "      <td>0</td>\n",
       "      <td>0</td>\n",
       "      <td>0</td>\n",
       "      <td>0</td>\n",
       "    </tr>\n",
       "    <tr>\n",
       "      <th>3</th>\n",
       "      <td>2823</td>\n",
       "      <td>3</td>\n",
       "      <td>846900</td>\n",
       "      <td>3</td>\n",
       "      <td>1</td>\n",
       "      <td>0</td>\n",
       "      <td>0</td>\n",
       "      <td>0</td>\n",
       "      <td>0</td>\n",
       "      <td>0</td>\n",
       "      <td>...</td>\n",
       "      <td>0</td>\n",
       "      <td>0</td>\n",
       "      <td>0</td>\n",
       "      <td>0</td>\n",
       "      <td>0</td>\n",
       "      <td>0</td>\n",
       "      <td>0</td>\n",
       "      <td>0</td>\n",
       "      <td>0</td>\n",
       "      <td>0</td>\n",
       "    </tr>\n",
       "    <tr>\n",
       "      <th>4</th>\n",
       "      <td>2305</td>\n",
       "      <td>3</td>\n",
       "      <td>691500</td>\n",
       "      <td>3</td>\n",
       "      <td>1</td>\n",
       "      <td>0</td>\n",
       "      <td>0</td>\n",
       "      <td>0</td>\n",
       "      <td>0</td>\n",
       "      <td>0</td>\n",
       "      <td>...</td>\n",
       "      <td>0</td>\n",
       "      <td>0</td>\n",
       "      <td>0</td>\n",
       "      <td>0</td>\n",
       "      <td>0</td>\n",
       "      <td>0</td>\n",
       "      <td>0</td>\n",
       "      <td>0</td>\n",
       "      <td>0</td>\n",
       "      <td>0</td>\n",
       "    </tr>\n",
       "    <tr>\n",
       "      <th>5</th>\n",
       "      <td>3875</td>\n",
       "      <td>3</td>\n",
       "      <td>1356250</td>\n",
       "      <td>4</td>\n",
       "      <td>1</td>\n",
       "      <td>0</td>\n",
       "      <td>0</td>\n",
       "      <td>0</td>\n",
       "      <td>0</td>\n",
       "      <td>0</td>\n",
       "      <td>...</td>\n",
       "      <td>0</td>\n",
       "      <td>0</td>\n",
       "      <td>0</td>\n",
       "      <td>0</td>\n",
       "      <td>0</td>\n",
       "      <td>0</td>\n",
       "      <td>0</td>\n",
       "      <td>0</td>\n",
       "      <td>0</td>\n",
       "      <td>0</td>\n",
       "    </tr>\n",
       "    <tr>\n",
       "      <th>...</th>\n",
       "      <td>...</td>\n",
       "      <td>...</td>\n",
       "      <td>...</td>\n",
       "      <td>...</td>\n",
       "      <td>...</td>\n",
       "      <td>...</td>\n",
       "      <td>...</td>\n",
       "      <td>...</td>\n",
       "      <td>...</td>\n",
       "      <td>...</td>\n",
       "      <td>...</td>\n",
       "      <td>...</td>\n",
       "      <td>...</td>\n",
       "      <td>...</td>\n",
       "      <td>...</td>\n",
       "      <td>...</td>\n",
       "      <td>...</td>\n",
       "      <td>...</td>\n",
       "      <td>...</td>\n",
       "      <td>...</td>\n",
       "      <td>...</td>\n",
       "    </tr>\n",
       "    <tr>\n",
       "      <th>1677</th>\n",
       "      <td>3475</td>\n",
       "      <td>2</td>\n",
       "      <td>868750</td>\n",
       "      <td>3</td>\n",
       "      <td>0</td>\n",
       "      <td>0</td>\n",
       "      <td>0</td>\n",
       "      <td>0</td>\n",
       "      <td>0</td>\n",
       "      <td>0</td>\n",
       "      <td>...</td>\n",
       "      <td>0</td>\n",
       "      <td>0</td>\n",
       "      <td>0</td>\n",
       "      <td>0</td>\n",
       "      <td>0</td>\n",
       "      <td>0</td>\n",
       "      <td>0</td>\n",
       "      <td>0</td>\n",
       "      <td>0</td>\n",
       "      <td>0</td>\n",
       "    </tr>\n",
       "    <tr>\n",
       "      <th>1678</th>\n",
       "      <td>1896</td>\n",
       "      <td>2</td>\n",
       "      <td>379200</td>\n",
       "      <td>2</td>\n",
       "      <td>0</td>\n",
       "      <td>0</td>\n",
       "      <td>0</td>\n",
       "      <td>0</td>\n",
       "      <td>0</td>\n",
       "      <td>0</td>\n",
       "      <td>...</td>\n",
       "      <td>0</td>\n",
       "      <td>0</td>\n",
       "      <td>0</td>\n",
       "      <td>0</td>\n",
       "      <td>0</td>\n",
       "      <td>0</td>\n",
       "      <td>0</td>\n",
       "      <td>0</td>\n",
       "      <td>0</td>\n",
       "      <td>0</td>\n",
       "    </tr>\n",
       "    <tr>\n",
       "      <th>1679</th>\n",
       "      <td>4266</td>\n",
       "      <td>3</td>\n",
       "      <td>1706400</td>\n",
       "      <td>5</td>\n",
       "      <td>0</td>\n",
       "      <td>0</td>\n",
       "      <td>0</td>\n",
       "      <td>0</td>\n",
       "      <td>0</td>\n",
       "      <td>0</td>\n",
       "      <td>...</td>\n",
       "      <td>0</td>\n",
       "      <td>0</td>\n",
       "      <td>0</td>\n",
       "      <td>0</td>\n",
       "      <td>0</td>\n",
       "      <td>0</td>\n",
       "      <td>0</td>\n",
       "      <td>0</td>\n",
       "      <td>0</td>\n",
       "      <td>0</td>\n",
       "    </tr>\n",
       "    <tr>\n",
       "      <th>1680</th>\n",
       "      <td>2842</td>\n",
       "      <td>2</td>\n",
       "      <td>710500</td>\n",
       "      <td>3</td>\n",
       "      <td>0</td>\n",
       "      <td>0</td>\n",
       "      <td>0</td>\n",
       "      <td>0</td>\n",
       "      <td>0</td>\n",
       "      <td>0</td>\n",
       "      <td>...</td>\n",
       "      <td>0</td>\n",
       "      <td>0</td>\n",
       "      <td>0</td>\n",
       "      <td>0</td>\n",
       "      <td>0</td>\n",
       "      <td>0</td>\n",
       "      <td>0</td>\n",
       "      <td>0</td>\n",
       "      <td>0</td>\n",
       "      <td>0</td>\n",
       "    </tr>\n",
       "    <tr>\n",
       "      <th>1681</th>\n",
       "      <td>3965</td>\n",
       "      <td>3</td>\n",
       "      <td>1586000</td>\n",
       "      <td>5</td>\n",
       "      <td>0</td>\n",
       "      <td>0</td>\n",
       "      <td>0</td>\n",
       "      <td>0</td>\n",
       "      <td>0</td>\n",
       "      <td>0</td>\n",
       "      <td>...</td>\n",
       "      <td>0</td>\n",
       "      <td>0</td>\n",
       "      <td>0</td>\n",
       "      <td>0</td>\n",
       "      <td>0</td>\n",
       "      <td>0</td>\n",
       "      <td>0</td>\n",
       "      <td>0</td>\n",
       "      <td>0</td>\n",
       "      <td>0</td>\n",
       "    </tr>\n",
       "  </tbody>\n",
       "</table>\n",
       "<p>1681 rows × 34 columns</p>\n",
       "</div>"
      ],
      "text/plain": [
       "      total_sqft  bath    price  bhk  Agadir  Azilal  Azrou  Beni Mellal  \\\n",
       "1           3711     3  1298850    4       1       0      0            0   \n",
       "2           1662     2   332400    2       1       0      0            0   \n",
       "3           2823     3   846900    3       1       0      0            0   \n",
       "4           2305     3   691500    3       1       0      0            0   \n",
       "5           3875     3  1356250    4       1       0      0            0   \n",
       "...          ...   ...      ...  ...     ...     ...    ...          ...   \n",
       "1677        3475     2   868750    3       0       0      0            0   \n",
       "1678        1896     2   379200    2       0       0      0            0   \n",
       "1679        4266     3  1706400    5       0       0      0            0   \n",
       "1680        2842     2   710500    3       0       0      0            0   \n",
       "1681        3965     3  1586000    5       0       0      0            0   \n",
       "\n",
       "      Berrched  Casablanca  ...  Mohammadia  Nador  Oujda  Ourzazat  Safi  \\\n",
       "1            0           0  ...           0      0      0         0     0   \n",
       "2            0           0  ...           0      0      0         0     0   \n",
       "3            0           0  ...           0      0      0         0     0   \n",
       "4            0           0  ...           0      0      0         0     0   \n",
       "5            0           0  ...           0      0      0         0     0   \n",
       "...        ...         ...  ...         ...    ...    ...       ...   ...   \n",
       "1677         0           0  ...           0      0      0         0     0   \n",
       "1678         0           0  ...           0      0      0         0     0   \n",
       "1679         0           0  ...           0      0      0         0     0   \n",
       "1680         0           0  ...           0      0      0         0     0   \n",
       "1681         0           0  ...           0      0      0         0     0   \n",
       "\n",
       "      Settat  Tanger  Tata  Taza  Tetouan  \n",
       "1          0       0     0     0        0  \n",
       "2          0       0     0     0        0  \n",
       "3          0       0     0     0        0  \n",
       "4          0       0     0     0        0  \n",
       "5          0       0     0     0        0  \n",
       "...      ...     ...   ...   ...      ...  \n",
       "1677       0       0     0     0        0  \n",
       "1678       0       0     0     0        0  \n",
       "1679       0       0     0     0        0  \n",
       "1680       0       0     0     0        0  \n",
       "1681       0       0     0     0        0  \n",
       "\n",
       "[1681 rows x 34 columns]"
      ]
     },
     "execution_count": 380,
     "metadata": {},
     "output_type": "execute_result"
    }
   ],
   "source": [
    "\n",
    "df10 = pd.concat([df9,dum.drop('other',axis='columns')],axis='columns')\n",
    "df11 = df10.drop('location',axis=1)\n",
    "df11"
   ]
  },
  {
   "cell_type": "markdown",
   "id": "cc6ea305",
   "metadata": {},
   "source": [
    "## Determining X data & y target"
   ]
  },
  {
   "cell_type": "code",
   "execution_count": 381,
   "id": "19271b49",
   "metadata": {
    "ExecuteTime": {
     "end_time": "2024-01-24T00:51:29.393731200Z",
     "start_time": "2024-01-24T00:51:29.330900500Z"
    }
   },
   "outputs": [
    {
     "data": {
      "text/html": [
       "<div>\n",
       "<style scoped>\n",
       "    .dataframe tbody tr th:only-of-type {\n",
       "        vertical-align: middle;\n",
       "    }\n",
       "\n",
       "    .dataframe tbody tr th {\n",
       "        vertical-align: top;\n",
       "    }\n",
       "\n",
       "    .dataframe thead th {\n",
       "        text-align: right;\n",
       "    }\n",
       "</style>\n",
       "<table border=\"1\" class=\"dataframe\">\n",
       "  <thead>\n",
       "    <tr style=\"text-align: right;\">\n",
       "      <th></th>\n",
       "      <th>total_sqft</th>\n",
       "      <th>bath</th>\n",
       "      <th>bhk</th>\n",
       "      <th>Agadir</th>\n",
       "      <th>Azilal</th>\n",
       "      <th>Azrou</th>\n",
       "      <th>Beni Mellal</th>\n",
       "      <th>Berrched</th>\n",
       "      <th>Casablanca</th>\n",
       "      <th>Dakhla</th>\n",
       "      <th>...</th>\n",
       "      <th>Mohammadia</th>\n",
       "      <th>Nador</th>\n",
       "      <th>Oujda</th>\n",
       "      <th>Ourzazat</th>\n",
       "      <th>Safi</th>\n",
       "      <th>Settat</th>\n",
       "      <th>Tanger</th>\n",
       "      <th>Tata</th>\n",
       "      <th>Taza</th>\n",
       "      <th>Tetouan</th>\n",
       "    </tr>\n",
       "  </thead>\n",
       "  <tbody>\n",
       "    <tr>\n",
       "      <th>1</th>\n",
       "      <td>3711</td>\n",
       "      <td>3</td>\n",
       "      <td>4</td>\n",
       "      <td>1</td>\n",
       "      <td>0</td>\n",
       "      <td>0</td>\n",
       "      <td>0</td>\n",
       "      <td>0</td>\n",
       "      <td>0</td>\n",
       "      <td>0</td>\n",
       "      <td>...</td>\n",
       "      <td>0</td>\n",
       "      <td>0</td>\n",
       "      <td>0</td>\n",
       "      <td>0</td>\n",
       "      <td>0</td>\n",
       "      <td>0</td>\n",
       "      <td>0</td>\n",
       "      <td>0</td>\n",
       "      <td>0</td>\n",
       "      <td>0</td>\n",
       "    </tr>\n",
       "    <tr>\n",
       "      <th>2</th>\n",
       "      <td>1662</td>\n",
       "      <td>2</td>\n",
       "      <td>2</td>\n",
       "      <td>1</td>\n",
       "      <td>0</td>\n",
       "      <td>0</td>\n",
       "      <td>0</td>\n",
       "      <td>0</td>\n",
       "      <td>0</td>\n",
       "      <td>0</td>\n",
       "      <td>...</td>\n",
       "      <td>0</td>\n",
       "      <td>0</td>\n",
       "      <td>0</td>\n",
       "      <td>0</td>\n",
       "      <td>0</td>\n",
       "      <td>0</td>\n",
       "      <td>0</td>\n",
       "      <td>0</td>\n",
       "      <td>0</td>\n",
       "      <td>0</td>\n",
       "    </tr>\n",
       "    <tr>\n",
       "      <th>3</th>\n",
       "      <td>2823</td>\n",
       "      <td>3</td>\n",
       "      <td>3</td>\n",
       "      <td>1</td>\n",
       "      <td>0</td>\n",
       "      <td>0</td>\n",
       "      <td>0</td>\n",
       "      <td>0</td>\n",
       "      <td>0</td>\n",
       "      <td>0</td>\n",
       "      <td>...</td>\n",
       "      <td>0</td>\n",
       "      <td>0</td>\n",
       "      <td>0</td>\n",
       "      <td>0</td>\n",
       "      <td>0</td>\n",
       "      <td>0</td>\n",
       "      <td>0</td>\n",
       "      <td>0</td>\n",
       "      <td>0</td>\n",
       "      <td>0</td>\n",
       "    </tr>\n",
       "    <tr>\n",
       "      <th>4</th>\n",
       "      <td>2305</td>\n",
       "      <td>3</td>\n",
       "      <td>3</td>\n",
       "      <td>1</td>\n",
       "      <td>0</td>\n",
       "      <td>0</td>\n",
       "      <td>0</td>\n",
       "      <td>0</td>\n",
       "      <td>0</td>\n",
       "      <td>0</td>\n",
       "      <td>...</td>\n",
       "      <td>0</td>\n",
       "      <td>0</td>\n",
       "      <td>0</td>\n",
       "      <td>0</td>\n",
       "      <td>0</td>\n",
       "      <td>0</td>\n",
       "      <td>0</td>\n",
       "      <td>0</td>\n",
       "      <td>0</td>\n",
       "      <td>0</td>\n",
       "    </tr>\n",
       "    <tr>\n",
       "      <th>5</th>\n",
       "      <td>3875</td>\n",
       "      <td>3</td>\n",
       "      <td>4</td>\n",
       "      <td>1</td>\n",
       "      <td>0</td>\n",
       "      <td>0</td>\n",
       "      <td>0</td>\n",
       "      <td>0</td>\n",
       "      <td>0</td>\n",
       "      <td>0</td>\n",
       "      <td>...</td>\n",
       "      <td>0</td>\n",
       "      <td>0</td>\n",
       "      <td>0</td>\n",
       "      <td>0</td>\n",
       "      <td>0</td>\n",
       "      <td>0</td>\n",
       "      <td>0</td>\n",
       "      <td>0</td>\n",
       "      <td>0</td>\n",
       "      <td>0</td>\n",
       "    </tr>\n",
       "  </tbody>\n",
       "</table>\n",
       "<p>5 rows × 33 columns</p>\n",
       "</div>"
      ],
      "text/plain": [
       "   total_sqft  bath  bhk  Agadir  Azilal  Azrou  Beni Mellal  Berrched  \\\n",
       "1        3711     3    4       1       0      0            0         0   \n",
       "2        1662     2    2       1       0      0            0         0   \n",
       "3        2823     3    3       1       0      0            0         0   \n",
       "4        2305     3    3       1       0      0            0         0   \n",
       "5        3875     3    4       1       0      0            0         0   \n",
       "\n",
       "   Casablanca  Dakhla  ...  Mohammadia  Nador  Oujda  Ourzazat  Safi  Settat  \\\n",
       "1           0       0  ...           0      0      0         0     0       0   \n",
       "2           0       0  ...           0      0      0         0     0       0   \n",
       "3           0       0  ...           0      0      0         0     0       0   \n",
       "4           0       0  ...           0      0      0         0     0       0   \n",
       "5           0       0  ...           0      0      0         0     0       0   \n",
       "\n",
       "   Tanger  Tata  Taza  Tetouan  \n",
       "1       0     0     0        0  \n",
       "2       0     0     0        0  \n",
       "3       0     0     0        0  \n",
       "4       0     0     0        0  \n",
       "5       0     0     0        0  \n",
       "\n",
       "[5 rows x 33 columns]"
      ]
     },
     "execution_count": 381,
     "metadata": {},
     "output_type": "execute_result"
    }
   ],
   "source": [
    "X = df11.drop('price',axis=1)\n",
    "y = df11.price\n",
    "X.head()"
   ]
  },
  {
   "cell_type": "code",
   "execution_count": 382,
   "id": "1aea70e4",
   "metadata": {
    "ExecuteTime": {
     "end_time": "2024-01-24T00:51:30.255476500Z",
     "start_time": "2024-01-24T00:51:30.220570600Z"
    }
   },
   "outputs": [
    {
     "data": {
      "text/plain": [
       "1    1298850\n",
       "2     332400\n",
       "3     846900\n",
       "4     691500\n",
       "5    1356250\n",
       "Name: price, dtype: int64"
      ]
     },
     "execution_count": 382,
     "metadata": {},
     "output_type": "execute_result"
    }
   ],
   "source": [
    "y.head() #price"
   ]
  },
  {
   "cell_type": "markdown",
   "id": "1a0171da",
   "metadata": {},
   "source": [
    "## Splitting data for training and testing"
   ]
  },
  {
   "cell_type": "code",
   "execution_count": 383,
   "id": "b21c56e5",
   "metadata": {
    "ExecuteTime": {
     "end_time": "2024-01-24T00:51:32.120214900Z",
     "start_time": "2024-01-24T00:51:32.012502900Z"
    }
   },
   "outputs": [],
   "source": [
    "from sklearn.model_selection import train_test_split\n",
    "X_train, X_test, y_train, y_test = train_test_split(X,y,test_size=0.2,random_state=10)"
   ]
  },
  {
   "cell_type": "markdown",
   "id": "b563f06a",
   "metadata": {},
   "source": [
    "## Linear Prediction model"
   ]
  },
  {
   "cell_type": "code",
   "execution_count": 384,
   "id": "fe99db4b",
   "metadata": {
    "ExecuteTime": {
     "end_time": "2024-01-24T00:51:51.168041Z",
     "start_time": "2024-01-24T00:51:51.122343400Z"
    }
   },
   "outputs": [
    {
     "data": {
      "text/plain": [
       "0.9870369162834004"
      ]
     },
     "execution_count": 384,
     "metadata": {},
     "output_type": "execute_result"
    }
   ],
   "source": [
    "from sklearn.linear_model import LinearRegression\n",
    "lrm = LinearRegression()\n",
    "lrm.fit(X_train,y_train)\n",
    "lrm.score(X_test,y_test)\n"
   ]
  },
  {
   "cell_type": "code",
   "execution_count": 385,
   "id": "5e7c57eb",
   "metadata": {
    "ExecuteTime": {
     "end_time": "2024-01-24T00:51:51.968371900Z",
     "start_time": "2024-01-24T00:51:51.879736500Z"
    }
   },
   "outputs": [
    {
     "data": {
      "text/plain": [
       "array([0.98851994, 0.9891863 , 0.98779211, 0.98962904, 0.9890097 ])"
      ]
     },
     "execution_count": 385,
     "metadata": {},
     "output_type": "execute_result"
    }
   ],
   "source": [
    "from sklearn.model_selection import ShuffleSplit\n",
    "from sklearn.model_selection import cross_val_score\n",
    "\n",
    "cv = ShuffleSplit(n_splits=5, test_size=0.2, random_state=0)\n",
    "cross_val_score(LinearRegression(), X, y, cv=cv)"
   ]
  },
  {
   "cell_type": "markdown",
   "id": "2420ab8a",
   "metadata": {},
   "source": [
    "## Best model with best parameters finding function"
   ]
  },
  {
   "cell_type": "code",
   "execution_count": 386,
   "id": "604d0653",
   "metadata": {
    "ExecuteTime": {
     "end_time": "2024-01-24T00:51:53.856855600Z",
     "start_time": "2024-01-24T00:51:53.814968900Z"
    }
   },
   "outputs": [],
   "source": [
    "from sklearn.model_selection import GridSearchCV\n",
    "from sklearn.linear_model import Lasso\n",
    "from sklearn.tree import DecisionTreeRegressor"
   ]
  },
  {
   "cell_type": "code",
   "execution_count": 387,
   "id": "956797a4",
   "metadata": {
    "ExecuteTime": {
     "end_time": "2024-01-24T00:51:54.982667500Z",
     "start_time": "2024-01-24T00:51:54.950755200Z"
    }
   },
   "outputs": [],
   "source": [
    "def find_best_model_by_gcv(X,y):\n",
    "    ml_algos = {\n",
    "        'lin_reg':{\n",
    "            'model': LinearRegression(),\n",
    "            'params':{\n",
    "                'normalize': [True, False]\n",
    "            }\n",
    "        },\n",
    "        'lasso':{\n",
    "            'model': Lasso(),\n",
    "            'params':{\n",
    "                'alpha': [1,2],\n",
    "                'selection': ['random','cyclic']\n",
    "            }\n",
    "        },\n",
    "        'dec_tree':{\n",
    "            'model': DecisionTreeRegressor(),\n",
    "            'params':{\n",
    "                'criterion': ['mse','friedman_mse'],\n",
    "                'splitter': ['best','random']\n",
    "            }\n",
    "        }\n",
    "    }\n",
    "    scores = []\n",
    "    cv = ShuffleSplit(n_splits=5, test_size=0.2,random_state=0)\n",
    "    for algo_name, config in ml_algos.items():\n",
    "        gs = GridSearchCV(config['model'],config['params'], cv=cv, return_train_score=False)\n",
    "        gs.fit(X,y)\n",
    "        scores.append({\n",
    "            'model': algo_name,\n",
    "            'best_score': gs.best_score_,\n",
    "            'best_params': gs.best_params_\n",
    "        })\n",
    "    return pd.DataFrame(scores, columns=['model','best_score','best_params'])"
   ]
  },
  {
   "cell_type": "code",
   "execution_count": 388,
   "id": "93404577",
   "metadata": {
    "ExecuteTime": {
     "end_time": "2024-01-24T00:52:07.161669600Z",
     "start_time": "2024-01-24T00:52:06.488494200Z"
    }
   },
   "outputs": [
    {
     "name": "stderr",
     "output_type": "stream",
     "text": [
      "C:\\Python37\\lib\\site-packages\\sklearn\\linear_model\\_base.py:145: FutureWarning: 'normalize' was deprecated in version 1.0 and will be removed in 1.2.\n",
      "If you wish to scale the data, use Pipeline with a StandardScaler in a preprocessing stage. To reproduce the previous behavior:\n",
      "\n",
      "from sklearn.pipeline import make_pipeline\n",
      "\n",
      "model = make_pipeline(StandardScaler(with_mean=False), LinearRegression())\n",
      "\n",
      "If you wish to pass a sample_weight parameter, you need to pass it as a fit parameter to each step of the pipeline as follows:\n",
      "\n",
      "kwargs = {s[0] + '__sample_weight': sample_weight for s in model.steps}\n",
      "model.fit(X, y, **kwargs)\n",
      "\n",
      "\n",
      "  FutureWarning,\n",
      "C:\\Python37\\lib\\site-packages\\sklearn\\linear_model\\_base.py:145: FutureWarning: 'normalize' was deprecated in version 1.0 and will be removed in 1.2.\n",
      "If you wish to scale the data, use Pipeline with a StandardScaler in a preprocessing stage. To reproduce the previous behavior:\n",
      "\n",
      "from sklearn.pipeline import make_pipeline\n",
      "\n",
      "model = make_pipeline(StandardScaler(with_mean=False), LinearRegression())\n",
      "\n",
      "If you wish to pass a sample_weight parameter, you need to pass it as a fit parameter to each step of the pipeline as follows:\n",
      "\n",
      "kwargs = {s[0] + '__sample_weight': sample_weight for s in model.steps}\n",
      "model.fit(X, y, **kwargs)\n",
      "\n",
      "\n",
      "  FutureWarning,\n",
      "C:\\Python37\\lib\\site-packages\\sklearn\\linear_model\\_base.py:145: FutureWarning: 'normalize' was deprecated in version 1.0 and will be removed in 1.2.\n",
      "If you wish to scale the data, use Pipeline with a StandardScaler in a preprocessing stage. To reproduce the previous behavior:\n",
      "\n",
      "from sklearn.pipeline import make_pipeline\n",
      "\n",
      "model = make_pipeline(StandardScaler(with_mean=False), LinearRegression())\n",
      "\n",
      "If you wish to pass a sample_weight parameter, you need to pass it as a fit parameter to each step of the pipeline as follows:\n",
      "\n",
      "kwargs = {s[0] + '__sample_weight': sample_weight for s in model.steps}\n",
      "model.fit(X, y, **kwargs)\n",
      "\n",
      "\n",
      "  FutureWarning,\n",
      "C:\\Python37\\lib\\site-packages\\sklearn\\linear_model\\_base.py:145: FutureWarning: 'normalize' was deprecated in version 1.0 and will be removed in 1.2.\n",
      "If you wish to scale the data, use Pipeline with a StandardScaler in a preprocessing stage. To reproduce the previous behavior:\n",
      "\n",
      "from sklearn.pipeline import make_pipeline\n",
      "\n",
      "model = make_pipeline(StandardScaler(with_mean=False), LinearRegression())\n",
      "\n",
      "If you wish to pass a sample_weight parameter, you need to pass it as a fit parameter to each step of the pipeline as follows:\n",
      "\n",
      "kwargs = {s[0] + '__sample_weight': sample_weight for s in model.steps}\n",
      "model.fit(X, y, **kwargs)\n",
      "\n",
      "\n",
      "  FutureWarning,\n",
      "C:\\Python37\\lib\\site-packages\\sklearn\\linear_model\\_base.py:145: FutureWarning: 'normalize' was deprecated in version 1.0 and will be removed in 1.2.\n",
      "If you wish to scale the data, use Pipeline with a StandardScaler in a preprocessing stage. To reproduce the previous behavior:\n",
      "\n",
      "from sklearn.pipeline import make_pipeline\n",
      "\n",
      "model = make_pipeline(StandardScaler(with_mean=False), LinearRegression())\n",
      "\n",
      "If you wish to pass a sample_weight parameter, you need to pass it as a fit parameter to each step of the pipeline as follows:\n",
      "\n",
      "kwargs = {s[0] + '__sample_weight': sample_weight for s in model.steps}\n",
      "model.fit(X, y, **kwargs)\n",
      "\n",
      "\n",
      "  FutureWarning,\n",
      "C:\\Python37\\lib\\site-packages\\sklearn\\linear_model\\_base.py:155: FutureWarning: 'normalize' was deprecated in version 1.0 and will be removed in 1.2. Please leave the normalize parameter to its default value to silence this warning. The default behavior of this estimator is to not do any normalization. If normalization is needed please use sklearn.preprocessing.StandardScaler instead.\n",
      "  FutureWarning,\n",
      "C:\\Python37\\lib\\site-packages\\sklearn\\linear_model\\_base.py:155: FutureWarning: 'normalize' was deprecated in version 1.0 and will be removed in 1.2. Please leave the normalize parameter to its default value to silence this warning. The default behavior of this estimator is to not do any normalization. If normalization is needed please use sklearn.preprocessing.StandardScaler instead.\n",
      "  FutureWarning,\n",
      "C:\\Python37\\lib\\site-packages\\sklearn\\linear_model\\_base.py:155: FutureWarning: 'normalize' was deprecated in version 1.0 and will be removed in 1.2. Please leave the normalize parameter to its default value to silence this warning. The default behavior of this estimator is to not do any normalization. If normalization is needed please use sklearn.preprocessing.StandardScaler instead.\n",
      "  FutureWarning,\n",
      "C:\\Python37\\lib\\site-packages\\sklearn\\linear_model\\_base.py:155: FutureWarning: 'normalize' was deprecated in version 1.0 and will be removed in 1.2. Please leave the normalize parameter to its default value to silence this warning. The default behavior of this estimator is to not do any normalization. If normalization is needed please use sklearn.preprocessing.StandardScaler instead.\n",
      "  FutureWarning,\n",
      "C:\\Python37\\lib\\site-packages\\sklearn\\linear_model\\_base.py:155: FutureWarning: 'normalize' was deprecated in version 1.0 and will be removed in 1.2. Please leave the normalize parameter to its default value to silence this warning. The default behavior of this estimator is to not do any normalization. If normalization is needed please use sklearn.preprocessing.StandardScaler instead.\n",
      "  FutureWarning,\n",
      "C:\\Python37\\lib\\site-packages\\sklearn\\linear_model\\_base.py:145: FutureWarning: 'normalize' was deprecated in version 1.0 and will be removed in 1.2.\n",
      "If you wish to scale the data, use Pipeline with a StandardScaler in a preprocessing stage. To reproduce the previous behavior:\n",
      "\n",
      "from sklearn.pipeline import make_pipeline\n",
      "\n",
      "model = make_pipeline(StandardScaler(with_mean=False), LinearRegression())\n",
      "\n",
      "If you wish to pass a sample_weight parameter, you need to pass it as a fit parameter to each step of the pipeline as follows:\n",
      "\n",
      "kwargs = {s[0] + '__sample_weight': sample_weight for s in model.steps}\n",
      "model.fit(X, y, **kwargs)\n",
      "\n",
      "\n",
      "  FutureWarning,\n",
      "C:\\Python37\\lib\\site-packages\\sklearn\\tree\\_classes.py:363: FutureWarning: Criterion 'mse' was deprecated in v1.0 and will be removed in version 1.2. Use `criterion='squared_error'` which is equivalent.\n",
      "  FutureWarning,\n",
      "C:\\Python37\\lib\\site-packages\\sklearn\\tree\\_classes.py:363: FutureWarning: Criterion 'mse' was deprecated in v1.0 and will be removed in version 1.2. Use `criterion='squared_error'` which is equivalent.\n",
      "  FutureWarning,\n",
      "C:\\Python37\\lib\\site-packages\\sklearn\\tree\\_classes.py:363: FutureWarning: Criterion 'mse' was deprecated in v1.0 and will be removed in version 1.2. Use `criterion='squared_error'` which is equivalent.\n",
      "  FutureWarning,\n",
      "C:\\Python37\\lib\\site-packages\\sklearn\\tree\\_classes.py:363: FutureWarning: Criterion 'mse' was deprecated in v1.0 and will be removed in version 1.2. Use `criterion='squared_error'` which is equivalent.\n",
      "  FutureWarning,\n",
      "C:\\Python37\\lib\\site-packages\\sklearn\\tree\\_classes.py:363: FutureWarning: Criterion 'mse' was deprecated in v1.0 and will be removed in version 1.2. Use `criterion='squared_error'` which is equivalent.\n",
      "  FutureWarning,\n",
      "C:\\Python37\\lib\\site-packages\\sklearn\\tree\\_classes.py:363: FutureWarning: Criterion 'mse' was deprecated in v1.0 and will be removed in version 1.2. Use `criterion='squared_error'` which is equivalent.\n",
      "  FutureWarning,\n",
      "C:\\Python37\\lib\\site-packages\\sklearn\\tree\\_classes.py:363: FutureWarning: Criterion 'mse' was deprecated in v1.0 and will be removed in version 1.2. Use `criterion='squared_error'` which is equivalent.\n",
      "  FutureWarning,\n",
      "C:\\Python37\\lib\\site-packages\\sklearn\\tree\\_classes.py:363: FutureWarning: Criterion 'mse' was deprecated in v1.0 and will be removed in version 1.2. Use `criterion='squared_error'` which is equivalent.\n",
      "  FutureWarning,\n",
      "C:\\Python37\\lib\\site-packages\\sklearn\\tree\\_classes.py:363: FutureWarning: Criterion 'mse' was deprecated in v1.0 and will be removed in version 1.2. Use `criterion='squared_error'` which is equivalent.\n",
      "  FutureWarning,\n",
      "C:\\Python37\\lib\\site-packages\\sklearn\\tree\\_classes.py:363: FutureWarning: Criterion 'mse' was deprecated in v1.0 and will be removed in version 1.2. Use `criterion='squared_error'` which is equivalent.\n",
      "  FutureWarning,\n"
     ]
    },
    {
     "data": {
      "text/html": [
       "<div>\n",
       "<style scoped>\n",
       "    .dataframe tbody tr th:only-of-type {\n",
       "        vertical-align: middle;\n",
       "    }\n",
       "\n",
       "    .dataframe tbody tr th {\n",
       "        vertical-align: top;\n",
       "    }\n",
       "\n",
       "    .dataframe thead th {\n",
       "        text-align: right;\n",
       "    }\n",
       "</style>\n",
       "<table border=\"1\" class=\"dataframe\">\n",
       "  <thead>\n",
       "    <tr style=\"text-align: right;\">\n",
       "      <th></th>\n",
       "      <th>model</th>\n",
       "      <th>best_score</th>\n",
       "      <th>best_params</th>\n",
       "    </tr>\n",
       "  </thead>\n",
       "  <tbody>\n",
       "    <tr>\n",
       "      <th>0</th>\n",
       "      <td>lin_reg</td>\n",
       "      <td>0.988827</td>\n",
       "      <td>{'normalize': True}</td>\n",
       "    </tr>\n",
       "    <tr>\n",
       "      <th>1</th>\n",
       "      <td>lasso</td>\n",
       "      <td>0.988834</td>\n",
       "      <td>{'alpha': 2, 'selection': 'random'}</td>\n",
       "    </tr>\n",
       "    <tr>\n",
       "      <th>2</th>\n",
       "      <td>dec_tree</td>\n",
       "      <td>0.999983</td>\n",
       "      <td>{'criterion': 'friedman_mse', 'splitter': 'best'}</td>\n",
       "    </tr>\n",
       "  </tbody>\n",
       "</table>\n",
       "</div>"
      ],
      "text/plain": [
       "      model  best_score                                        best_params\n",
       "0   lin_reg    0.988827                                {'normalize': True}\n",
       "1     lasso    0.988834                {'alpha': 2, 'selection': 'random'}\n",
       "2  dec_tree    0.999983  {'criterion': 'friedman_mse', 'splitter': 'best'}"
      ]
     },
     "execution_count": 388,
     "metadata": {},
     "output_type": "execute_result"
    }
   ],
   "source": [
    "find_best_model_by_gcv(X.values,y)"
   ]
  },
  {
   "cell_type": "markdown",
   "id": "0503b891",
   "metadata": {},
   "source": [
    "##### performed a grid search with different models (lin_reg, lasso, dec_tree) and found the best hyperparameters for each model. Here's a summary of the results:\n",
    "\n",
    "##### For linear regression (lin_reg), the best score was achieved when normalize was set to False.\n",
    "\n",
    "##### For Lasso regression (lasso), the best score was achieved with an alpha value of 1 and 'selection': 'cyclic'.\n",
    "\n",
    "##### For Decision Tree regression (dec_tree), the best score was achieved with specific hyperparameters such as 'criterion': 'friedman_mse' and 'splitter': 'random'.\n",
    "\n",
    "##### These results provide insights into the hyperparameter settings that optimize the performance of each model according to the specified scoring metric.\n"
   ]
  },
  {
   "cell_type": "markdown",
   "id": "97be2f4e",
   "metadata": {},
   "source": [
    "## Price prediction function"
   ]
  },
  {
   "cell_type": "code",
   "execution_count": 389,
   "id": "36c80cda",
   "metadata": {
    "ExecuteTime": {
     "end_time": "2024-01-24T00:52:10.666791800Z",
     "start_time": "2024-01-24T00:52:10.646906200Z"
    },
    "scrolled": false
   },
   "outputs": [
    {
     "data": {
      "text/plain": [
       "Index(['total_sqft', 'bath', 'bhk', 'Agadir', 'Azilal', 'Azrou', 'Beni Mellal',\n",
       "       'Berrched', 'Casablanca', 'Dakhla', 'EL Jadida', 'Essaouira', 'Essmara',\n",
       "       'Fes', 'Gulmim', 'Ifran', 'Kentitra', 'Khounifra', 'Khouribga',\n",
       "       'Laayoun', 'Lhajb', 'Marrakech', 'Meknes', 'Mohammadia', 'Nador',\n",
       "       'Oujda', 'Ourzazat', 'Safi', 'Settat', 'Tanger', 'Tata', 'Taza',\n",
       "       'Tetouan'],\n",
       "      dtype='object')"
      ]
     },
     "execution_count": 389,
     "metadata": {},
     "output_type": "execute_result"
    }
   ],
   "source": [
    "X.columns"
   ]
  },
  {
   "cell_type": "code",
   "execution_count": 390,
   "id": "17e1aff8",
   "metadata": {
    "ExecuteTime": {
     "end_time": "2024-01-24T00:52:13.162186900Z",
     "start_time": "2024-01-24T00:52:13.124611200Z"
    }
   },
   "outputs": [],
   "source": [
    "def predict_price(location,sqft,bath,bhk):\n",
    "    try:\n",
    "        loc_index = np.where(X.columns==location)[0][0]\n",
    "    except:\n",
    "        loc_index = 0\n",
    "    x = np.zeros(len(X.columns))\n",
    "    print(x)\n",
    "    x[0] = sqft\n",
    "    x[1] = bath\n",
    "    x[2] = bhk\n",
    "    if loc_index > 0:\n",
    "        x[loc_index] = 1\n",
    "    print(x)\n",
    "    print(lrm.predict([x]))\n",
    "    return lrm.predict([x])[0]"
   ]
  },
  {
   "cell_type": "markdown",
   "id": "4d0b132c",
   "metadata": {},
   "source": [
    "## Evaluating Model Prediction"
   ]
  },
  {
   "cell_type": "code",
   "execution_count": 391,
   "id": "6158becb",
   "metadata": {
    "ExecuteTime": {
     "end_time": "2024-01-24T00:52:14.804530500Z",
     "start_time": "2024-01-24T00:52:14.749676900Z"
    }
   },
   "outputs": [
    {
     "name": "stdout",
     "output_type": "stream",
     "text": [
      "[0. 0. 0. 0. 0. 0. 0. 0. 0. 0. 0. 0. 0. 0. 0. 0. 0. 0. 0. 0. 0. 0. 0. 0.\n",
      " 0. 0. 0. 0. 0. 0. 0. 0. 0.]\n",
      "[1000.    2.    2.    0.    0.    0.    0.    0.    0.    0.    0.    0.\n",
      "    0.    0.    0.    0.    0.    0.    0.    0.    0.    0.    0.    0.\n",
      "    0.    0.    0.    0.    0.    0.    0.    0.    0.]\n",
      "[129580.70120389]\n"
     ]
    },
    {
     "name": "stderr",
     "output_type": "stream",
     "text": [
      "C:\\Python37\\lib\\site-packages\\sklearn\\base.py:451: UserWarning: X does not have valid feature names, but LinearRegression was fitted with feature names\n",
      "  \"X does not have valid feature names, but\"\n",
      "C:\\Python37\\lib\\site-packages\\sklearn\\base.py:451: UserWarning: X does not have valid feature names, but LinearRegression was fitted with feature names\n",
      "  \"X does not have valid feature names, but\"\n"
     ]
    },
    {
     "data": {
      "text/plain": [
       "129580.70120389294"
      ]
     },
     "execution_count": 391,
     "metadata": {},
     "output_type": "execute_result"
    }
   ],
   "source": [
    "predict_price('1st Phase JP Nagar',1000,2,2)"
   ]
  },
  {
   "cell_type": "code",
   "execution_count": 392,
   "id": "bf66a0d7",
   "metadata": {
    "ExecuteTime": {
     "end_time": "2024-01-24T00:52:15.490404400Z",
     "start_time": "2024-01-24T00:52:15.441535900Z"
    }
   },
   "outputs": [
    {
     "name": "stdout",
     "output_type": "stream",
     "text": [
      "[0. 0. 0. 0. 0. 0. 0. 0. 0. 0. 0. 0. 0. 0. 0. 0. 0. 0. 0. 0. 0. 0. 0. 0.\n",
      " 0. 0. 0. 0. 0. 0. 0. 0. 0.]\n",
      "[1000.    3.    3.    0.    0.    0.    0.    0.    0.    0.    0.    0.\n",
      "    0.    0.    0.    0.    0.    0.    0.    0.    0.    0.    0.    0.\n",
      "    0.    0.    0.    0.    0.    0.    0.    0.    0.]\n",
      "[498046.70887261]\n"
     ]
    },
    {
     "name": "stderr",
     "output_type": "stream",
     "text": [
      "C:\\Python37\\lib\\site-packages\\sklearn\\base.py:451: UserWarning: X does not have valid feature names, but LinearRegression was fitted with feature names\n",
      "  \"X does not have valid feature names, but\"\n",
      "C:\\Python37\\lib\\site-packages\\sklearn\\base.py:451: UserWarning: X does not have valid feature names, but LinearRegression was fitted with feature names\n",
      "  \"X does not have valid feature names, but\"\n"
     ]
    },
    {
     "data": {
      "text/plain": [
       "498046.70887260535"
      ]
     },
     "execution_count": 392,
     "metadata": {},
     "output_type": "execute_result"
    }
   ],
   "source": [
    "predict_price('1st Phase JP Nagar',1000,3,3)"
   ]
  },
  {
   "cell_type": "code",
   "execution_count": 393,
   "id": "7f10c38a",
   "metadata": {
    "ExecuteTime": {
     "end_time": "2024-01-24T00:52:16.381503300Z",
     "start_time": "2024-01-24T00:52:16.267703400Z"
    }
   },
   "outputs": [
    {
     "name": "stdout",
     "output_type": "stream",
     "text": [
      "[0. 0. 0. 0. 0. 0. 0. 0. 0. 0. 0. 0. 0. 0. 0. 0. 0. 0. 0. 0. 0. 0. 0. 0.\n",
      " 0. 0. 0. 0. 0. 0. 0. 0. 0.]\n",
      "[1000.    3.    3.    0.    0.    0.    0.    0.    0.    0.    0.    0.\n",
      "    0.    0.    0.    0.    0.    0.    0.    0.    0.    0.    0.    0.\n",
      "    0.    0.    0.    0.    0.    0.    0.    0.    0.]\n",
      "[498046.70887261]\n"
     ]
    },
    {
     "name": "stderr",
     "output_type": "stream",
     "text": [
      "C:\\Python37\\lib\\site-packages\\sklearn\\base.py:451: UserWarning: X does not have valid feature names, but LinearRegression was fitted with feature names\n",
      "  \"X does not have valid feature names, but\"\n",
      "C:\\Python37\\lib\\site-packages\\sklearn\\base.py:451: UserWarning: X does not have valid feature names, but LinearRegression was fitted with feature names\n",
      "  \"X does not have valid feature names, but\"\n"
     ]
    },
    {
     "data": {
      "text/plain": [
       "498046.70887260535"
      ]
     },
     "execution_count": 393,
     "metadata": {},
     "output_type": "execute_result"
    }
   ],
   "source": [
    "predict_price('any other area',1000,3,3)"
   ]
  },
  {
   "cell_type": "markdown",
   "id": "b9de1630",
   "metadata": {},
   "source": [
    "## Pickle file creation of Prediction Model"
   ]
  },
  {
   "cell_type": "code",
   "execution_count": 394,
   "id": "1f88fbe2",
   "metadata": {
    "ExecuteTime": {
     "end_time": "2024-01-24T00:53:39.953988Z",
     "start_time": "2024-01-24T00:53:39.855675400Z"
    }
   },
   "outputs": [],
   "source": [
    "import pickle\n",
    "with open('5abd_sana_model.pickle','wb') as f:\n",
    "    pickle.dump(lrm,f)"
   ]
  },
  {
   "cell_type": "markdown",
   "id": "acda6be9",
   "metadata": {},
   "source": [
    "## Exporting the dataset columns to a json file"
   ]
  },
  {
   "cell_type": "code",
   "execution_count": 395,
   "id": "01ad0a83",
   "metadata": {
    "ExecuteTime": {
     "end_time": "2024-01-24T00:53:42.199334600Z",
     "start_time": "2024-01-24T00:53:42.144885100Z"
    }
   },
   "outputs": [],
   "source": [
    "import json\n",
    "columns = {\n",
    "    'data_columns': [col.lower() for col in X.columns]\n",
    "}\n",
    "with open(\"5columns_ma.json\",\"w\") as f:\n",
    "    f.write(json.dumps(columns))"
   ]
  },
  {
   "cell_type": "code",
   "execution_count": null,
   "id": "49b58953",
   "metadata": {},
   "outputs": [],
   "source": []
  }
 ],
 "metadata": {
  "kernelspec": {
   "display_name": "Python 3 (ipykernel)",
   "language": "python",
   "name": "python3"
  },
  "language_info": {
   "codemirror_mode": {
    "name": "ipython",
    "version": 3
   },
   "file_extension": ".py",
   "mimetype": "text/x-python",
   "name": "python",
   "nbconvert_exporter": "python",
   "pygments_lexer": "ipython3",
   "version": "3.11.5"
  }
 },
 "nbformat": 4,
 "nbformat_minor": 5
}
