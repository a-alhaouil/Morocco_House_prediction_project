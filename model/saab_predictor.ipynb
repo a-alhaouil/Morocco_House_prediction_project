{
 "cells": [
  {
   "cell_type": "markdown",
   "id": "7e0c67df",
   "metadata": {},
   "source": [
    "## Importing Libraries & taking a glance at dataset"
   ]
  },
  {
   "cell_type": "code",
   "id": "50851a3b",
   "metadata": {
    "ExecuteTime": {
     "end_time": "2024-11-11T21:29:18.837773Z",
     "start_time": "2024-11-11T21:29:18.833356Z"
    }
   },
   "source": [
    "import pandas as pd\n",
    "import numpy as np\n",
    "from matplotlib import pyplot as plt\n",
    "import matplotlib\n",
    "%matplotlib inline\n",
    "matplotlib.rcParams[\"figure.figsize\"] = (20,10)"
   ],
   "outputs": [],
   "execution_count": 141
  },
  {
   "cell_type": "code",
   "id": "1eb1a5b3",
   "metadata": {
    "ExecuteTime": {
     "end_time": "2024-11-11T21:29:19.151074Z",
     "start_time": "2024-11-11T21:29:19.138498Z"
    }
   },
   "source": [
    "df = pd.read_csv(\"DataPOO.csv\")\n",
    "df.head(10)"
   ],
   "outputs": [
    {
     "data": {
      "text/plain": [
       "    location  bhk  total_sqft  bath    price\n",
       "0  Marrakech    4        1972   3.0  1055558\n",
       "1  Marrakech    1        1206   1.0   840577\n",
       "2  Marrakech    6        2667   3.0  1136329\n",
       "3  Marrakech    4        1761   2.0   689436\n",
       "4  Marrakech    3        2098   3.0  1074897\n",
       "5  Marrakech    1         892   1.0   434379\n",
       "6  Marrakech    3        1739   3.0   883951\n",
       "7  Marrakech    4        2367   2.0   979171\n",
       "8  Marrakech    3        2043   3.0   952347\n",
       "9  Marrakech    3        1736   3.0   694677"
      ],
      "text/html": [
       "<div>\n",
       "<style scoped>\n",
       "    .dataframe tbody tr th:only-of-type {\n",
       "        vertical-align: middle;\n",
       "    }\n",
       "\n",
       "    .dataframe tbody tr th {\n",
       "        vertical-align: top;\n",
       "    }\n",
       "\n",
       "    .dataframe thead th {\n",
       "        text-align: right;\n",
       "    }\n",
       "</style>\n",
       "<table border=\"1\" class=\"dataframe\">\n",
       "  <thead>\n",
       "    <tr style=\"text-align: right;\">\n",
       "      <th></th>\n",
       "      <th>location</th>\n",
       "      <th>bhk</th>\n",
       "      <th>total_sqft</th>\n",
       "      <th>bath</th>\n",
       "      <th>price</th>\n",
       "    </tr>\n",
       "  </thead>\n",
       "  <tbody>\n",
       "    <tr>\n",
       "      <th>0</th>\n",
       "      <td>Marrakech</td>\n",
       "      <td>4</td>\n",
       "      <td>1972</td>\n",
       "      <td>3.0</td>\n",
       "      <td>1055558</td>\n",
       "    </tr>\n",
       "    <tr>\n",
       "      <th>1</th>\n",
       "      <td>Marrakech</td>\n",
       "      <td>1</td>\n",
       "      <td>1206</td>\n",
       "      <td>1.0</td>\n",
       "      <td>840577</td>\n",
       "    </tr>\n",
       "    <tr>\n",
       "      <th>2</th>\n",
       "      <td>Marrakech</td>\n",
       "      <td>6</td>\n",
       "      <td>2667</td>\n",
       "      <td>3.0</td>\n",
       "      <td>1136329</td>\n",
       "    </tr>\n",
       "    <tr>\n",
       "      <th>3</th>\n",
       "      <td>Marrakech</td>\n",
       "      <td>4</td>\n",
       "      <td>1761</td>\n",
       "      <td>2.0</td>\n",
       "      <td>689436</td>\n",
       "    </tr>\n",
       "    <tr>\n",
       "      <th>4</th>\n",
       "      <td>Marrakech</td>\n",
       "      <td>3</td>\n",
       "      <td>2098</td>\n",
       "      <td>3.0</td>\n",
       "      <td>1074897</td>\n",
       "    </tr>\n",
       "    <tr>\n",
       "      <th>5</th>\n",
       "      <td>Marrakech</td>\n",
       "      <td>1</td>\n",
       "      <td>892</td>\n",
       "      <td>1.0</td>\n",
       "      <td>434379</td>\n",
       "    </tr>\n",
       "    <tr>\n",
       "      <th>6</th>\n",
       "      <td>Marrakech</td>\n",
       "      <td>3</td>\n",
       "      <td>1739</td>\n",
       "      <td>3.0</td>\n",
       "      <td>883951</td>\n",
       "    </tr>\n",
       "    <tr>\n",
       "      <th>7</th>\n",
       "      <td>Marrakech</td>\n",
       "      <td>4</td>\n",
       "      <td>2367</td>\n",
       "      <td>2.0</td>\n",
       "      <td>979171</td>\n",
       "    </tr>\n",
       "    <tr>\n",
       "      <th>8</th>\n",
       "      <td>Marrakech</td>\n",
       "      <td>3</td>\n",
       "      <td>2043</td>\n",
       "      <td>3.0</td>\n",
       "      <td>952347</td>\n",
       "    </tr>\n",
       "    <tr>\n",
       "      <th>9</th>\n",
       "      <td>Marrakech</td>\n",
       "      <td>3</td>\n",
       "      <td>1736</td>\n",
       "      <td>3.0</td>\n",
       "      <td>694677</td>\n",
       "    </tr>\n",
       "  </tbody>\n",
       "</table>\n",
       "</div>"
      ]
     },
     "execution_count": 142,
     "metadata": {},
     "output_type": "execute_result"
    }
   ],
   "execution_count": 142
  },
  {
   "cell_type": "code",
   "id": "f4a8b5eb",
   "metadata": {
    "ExecuteTime": {
     "end_time": "2024-11-11T21:29:19.387060Z",
     "start_time": "2024-11-11T21:29:19.383254Z"
    }
   },
   "source": [
    "df.shape"
   ],
   "outputs": [
    {
     "data": {
      "text/plain": [
       "(6990, 5)"
      ]
     },
     "execution_count": 143,
     "metadata": {},
     "output_type": "execute_result"
    }
   ],
   "execution_count": 143
  },
  {
   "cell_type": "markdown",
   "id": "7b3f75a1",
   "metadata": {},
   "source": [
    "## Checking suitability of `area_type` column"
   ]
  },
  {
   "cell_type": "code",
   "id": "a49bf021",
   "metadata": {
    "ExecuteTime": {
     "end_time": "2024-11-11T21:29:19.757549Z",
     "start_time": "2024-11-11T21:29:19.751921Z"
    }
   },
   "source": [
    "df.groupby('location')['location'].agg('count')"
   ],
   "outputs": [
    {
     "data": {
      "text/plain": [
       "location\n",
       "Agadir         507\n",
       "Azilal          22\n",
       "Azrou          191\n",
       "Beni Mellal    284\n",
       "Berrched       392\n",
       "Bjaad           40\n",
       "Casablanca     460\n",
       "Dakhla         164\n",
       "EL Jadida      188\n",
       "Essaouira      336\n",
       "Essmara         74\n",
       "Fes            224\n",
       "Gulmim         100\n",
       "Ifran          200\n",
       "Kentitra       400\n",
       "Khounifra      220\n",
       "Khouribga      164\n",
       "Laayoun        116\n",
       "Lhajb           27\n",
       "Marrakech      396\n",
       "Martil           4\n",
       "Meknes         164\n",
       "Midelt           2\n",
       "Mohammadia     502\n",
       "Nador          112\n",
       "Oujda          244\n",
       "Ourzazat       128\n",
       "Safi           200\n",
       "Settat         324\n",
       "Sidi ifni       40\n",
       "Skhirat          2\n",
       "Tanger         400\n",
       "Tata            44\n",
       "Taza            96\n",
       "Tetouan        184\n",
       "Tiznit           3\n",
       "Zagoura         36\n",
       "Name: location, dtype: int64"
      ]
     },
     "execution_count": 144,
     "metadata": {},
     "output_type": "execute_result"
    }
   ],
   "execution_count": 144
  },
  {
   "cell_type": "markdown",
   "id": "52a0c245",
   "metadata": {},
   "source": [
    "## show database"
   ]
  },
  {
   "cell_type": "code",
   "id": "3b32f207",
   "metadata": {
    "ExecuteTime": {
     "end_time": "2024-11-11T21:29:20.107616Z",
     "start_time": "2024-11-11T21:29:20.101380Z"
    }
   },
   "source": [
    "df"
   ],
   "outputs": [
    {
     "data": {
      "text/plain": [
       "       location  bhk  total_sqft  bath    price\n",
       "0     Marrakech    4        1972   3.0  1055558\n",
       "1     Marrakech    1        1206   1.0   840577\n",
       "2     Marrakech    6        2667   3.0  1136329\n",
       "3     Marrakech    4        1761   2.0   689436\n",
       "4     Marrakech    3        2098   3.0  1074897\n",
       "...         ...  ...         ...   ...      ...\n",
       "6985     Martil    5        2869   4.0  1183232\n",
       "6986    Skhirat    5        3436   3.0  1849113\n",
       "6987    Skhirat    5        2571   3.0  1238178\n",
       "6988     Midelt    4        2009   2.0  1099323\n",
       "6989     Midelt    3        2169   2.0   923717\n",
       "\n",
       "[6990 rows x 5 columns]"
      ],
      "text/html": [
       "<div>\n",
       "<style scoped>\n",
       "    .dataframe tbody tr th:only-of-type {\n",
       "        vertical-align: middle;\n",
       "    }\n",
       "\n",
       "    .dataframe tbody tr th {\n",
       "        vertical-align: top;\n",
       "    }\n",
       "\n",
       "    .dataframe thead th {\n",
       "        text-align: right;\n",
       "    }\n",
       "</style>\n",
       "<table border=\"1\" class=\"dataframe\">\n",
       "  <thead>\n",
       "    <tr style=\"text-align: right;\">\n",
       "      <th></th>\n",
       "      <th>location</th>\n",
       "      <th>bhk</th>\n",
       "      <th>total_sqft</th>\n",
       "      <th>bath</th>\n",
       "      <th>price</th>\n",
       "    </tr>\n",
       "  </thead>\n",
       "  <tbody>\n",
       "    <tr>\n",
       "      <th>0</th>\n",
       "      <td>Marrakech</td>\n",
       "      <td>4</td>\n",
       "      <td>1972</td>\n",
       "      <td>3.0</td>\n",
       "      <td>1055558</td>\n",
       "    </tr>\n",
       "    <tr>\n",
       "      <th>1</th>\n",
       "      <td>Marrakech</td>\n",
       "      <td>1</td>\n",
       "      <td>1206</td>\n",
       "      <td>1.0</td>\n",
       "      <td>840577</td>\n",
       "    </tr>\n",
       "    <tr>\n",
       "      <th>2</th>\n",
       "      <td>Marrakech</td>\n",
       "      <td>6</td>\n",
       "      <td>2667</td>\n",
       "      <td>3.0</td>\n",
       "      <td>1136329</td>\n",
       "    </tr>\n",
       "    <tr>\n",
       "      <th>3</th>\n",
       "      <td>Marrakech</td>\n",
       "      <td>4</td>\n",
       "      <td>1761</td>\n",
       "      <td>2.0</td>\n",
       "      <td>689436</td>\n",
       "    </tr>\n",
       "    <tr>\n",
       "      <th>4</th>\n",
       "      <td>Marrakech</td>\n",
       "      <td>3</td>\n",
       "      <td>2098</td>\n",
       "      <td>3.0</td>\n",
       "      <td>1074897</td>\n",
       "    </tr>\n",
       "    <tr>\n",
       "      <th>...</th>\n",
       "      <td>...</td>\n",
       "      <td>...</td>\n",
       "      <td>...</td>\n",
       "      <td>...</td>\n",
       "      <td>...</td>\n",
       "    </tr>\n",
       "    <tr>\n",
       "      <th>6985</th>\n",
       "      <td>Martil</td>\n",
       "      <td>5</td>\n",
       "      <td>2869</td>\n",
       "      <td>4.0</td>\n",
       "      <td>1183232</td>\n",
       "    </tr>\n",
       "    <tr>\n",
       "      <th>6986</th>\n",
       "      <td>Skhirat</td>\n",
       "      <td>5</td>\n",
       "      <td>3436</td>\n",
       "      <td>3.0</td>\n",
       "      <td>1849113</td>\n",
       "    </tr>\n",
       "    <tr>\n",
       "      <th>6987</th>\n",
       "      <td>Skhirat</td>\n",
       "      <td>5</td>\n",
       "      <td>2571</td>\n",
       "      <td>3.0</td>\n",
       "      <td>1238178</td>\n",
       "    </tr>\n",
       "    <tr>\n",
       "      <th>6988</th>\n",
       "      <td>Midelt</td>\n",
       "      <td>4</td>\n",
       "      <td>2009</td>\n",
       "      <td>2.0</td>\n",
       "      <td>1099323</td>\n",
       "    </tr>\n",
       "    <tr>\n",
       "      <th>6989</th>\n",
       "      <td>Midelt</td>\n",
       "      <td>3</td>\n",
       "      <td>2169</td>\n",
       "      <td>2.0</td>\n",
       "      <td>923717</td>\n",
       "    </tr>\n",
       "  </tbody>\n",
       "</table>\n",
       "<p>6990 rows × 5 columns</p>\n",
       "</div>"
      ]
     },
     "execution_count": 145,
     "metadata": {},
     "output_type": "execute_result"
    }
   ],
   "execution_count": 145
  },
  {
   "cell_type": "markdown",
   "id": "31c83419",
   "metadata": {},
   "source": [
    "## Checking for null values"
   ]
  },
  {
   "cell_type": "code",
   "id": "6a42b37a",
   "metadata": {
    "ExecuteTime": {
     "end_time": "2024-11-11T21:29:20.483619Z",
     "start_time": "2024-11-11T21:29:20.478917Z"
    }
   },
   "source": [
    "df.isnull().sum()"
   ],
   "outputs": [
    {
     "data": {
      "text/plain": [
       "location      0\n",
       "bhk           0\n",
       "total_sqft    0\n",
       "bath          6\n",
       "price         0\n",
       "dtype: int64"
      ]
     },
     "execution_count": 146,
     "metadata": {},
     "output_type": "execute_result"
    }
   ],
   "execution_count": 146
  },
  {
   "cell_type": "markdown",
   "id": "cfdc0cf6",
   "metadata": {},
   "source": [
    "## Dropping `na` rows"
   ]
  },
  {
   "cell_type": "code",
   "id": "2e8b9f80",
   "metadata": {
    "ExecuteTime": {
     "end_time": "2024-11-11T21:29:20.890217Z",
     "start_time": "2024-11-11T21:29:20.883991Z"
    }
   },
   "source": [
    "df2 = df.dropna()\n",
    "df2.isnull().sum()"
   ],
   "outputs": [
    {
     "data": {
      "text/plain": [
       "location      0\n",
       "bhk           0\n",
       "total_sqft    0\n",
       "bath          0\n",
       "price         0\n",
       "dtype: int64"
      ]
     },
     "execution_count": 147,
     "metadata": {},
     "output_type": "execute_result"
    }
   ],
   "execution_count": 147
  },
  {
   "cell_type": "markdown",
   "id": "41dc5762",
   "metadata": {},
   "source": [
    "## Lambda function for BHK categorization"
   ]
  },
  {
   "cell_type": "code",
   "id": "b8c7f109",
   "metadata": {
    "ExecuteTime": {
     "end_time": "2024-11-11T21:29:21.159905Z",
     "start_time": "2024-11-11T21:29:21.155965Z"
    }
   },
   "source": [
    "df2['bhk'].unique()"
   ],
   "outputs": [
    {
     "data": {
      "text/plain": [
       "array([4, 1, 6, 3, 5, 2], dtype=int64)"
      ]
     },
     "execution_count": 148,
     "metadata": {},
     "output_type": "execute_result"
    }
   ],
   "execution_count": 148
  },
  {
   "cell_type": "code",
   "id": "bc3bd9ac",
   "metadata": {
    "ExecuteTime": {
     "end_time": "2024-11-11T21:29:21.336812Z",
     "start_time": "2024-11-11T21:29:21.333043Z"
    }
   },
   "source": [
    "df2['bhk'].unique()"
   ],
   "outputs": [
    {
     "data": {
      "text/plain": [
       "array([4, 1, 6, 3, 5, 2], dtype=int64)"
      ]
     },
     "execution_count": 149,
     "metadata": {},
     "output_type": "execute_result"
    }
   ],
   "execution_count": 149
  },
  {
   "cell_type": "code",
   "id": "df04a6da",
   "metadata": {
    "ExecuteTime": {
     "end_time": "2024-11-11T21:29:21.516210Z",
     "start_time": "2024-11-11T21:29:21.509126Z"
    }
   },
   "source": [
    "df2[df2.bhk>5]"
   ],
   "outputs": [
    {
     "data": {
      "text/plain": [
       "       location  bhk  total_sqft  bath    price\n",
       "2     Marrakech    6        2667   3.0  1136329\n",
       "10    Marrakech    6        3168   3.0  1758740\n",
       "13    Marrakech    6        3089   3.0  1540970\n",
       "16    Marrakech    6        2564   3.0  1243571\n",
       "20    Marrakech    6        2573   4.0  1443454\n",
       "...         ...  ...         ...   ...      ...\n",
       "6952   Berrched    6        3463   3.0  1574089\n",
       "6953   Berrched    6        3028   4.0  1622389\n",
       "6962   Berrched    6        2931   3.0  1102150\n",
       "6969   Berrched    6        2757   4.0  1304253\n",
       "6979     Tiznit    6        3368   4.0  1529184\n",
       "\n",
       "[1492 rows x 5 columns]"
      ],
      "text/html": [
       "<div>\n",
       "<style scoped>\n",
       "    .dataframe tbody tr th:only-of-type {\n",
       "        vertical-align: middle;\n",
       "    }\n",
       "\n",
       "    .dataframe tbody tr th {\n",
       "        vertical-align: top;\n",
       "    }\n",
       "\n",
       "    .dataframe thead th {\n",
       "        text-align: right;\n",
       "    }\n",
       "</style>\n",
       "<table border=\"1\" class=\"dataframe\">\n",
       "  <thead>\n",
       "    <tr style=\"text-align: right;\">\n",
       "      <th></th>\n",
       "      <th>location</th>\n",
       "      <th>bhk</th>\n",
       "      <th>total_sqft</th>\n",
       "      <th>bath</th>\n",
       "      <th>price</th>\n",
       "    </tr>\n",
       "  </thead>\n",
       "  <tbody>\n",
       "    <tr>\n",
       "      <th>2</th>\n",
       "      <td>Marrakech</td>\n",
       "      <td>6</td>\n",
       "      <td>2667</td>\n",
       "      <td>3.0</td>\n",
       "      <td>1136329</td>\n",
       "    </tr>\n",
       "    <tr>\n",
       "      <th>10</th>\n",
       "      <td>Marrakech</td>\n",
       "      <td>6</td>\n",
       "      <td>3168</td>\n",
       "      <td>3.0</td>\n",
       "      <td>1758740</td>\n",
       "    </tr>\n",
       "    <tr>\n",
       "      <th>13</th>\n",
       "      <td>Marrakech</td>\n",
       "      <td>6</td>\n",
       "      <td>3089</td>\n",
       "      <td>3.0</td>\n",
       "      <td>1540970</td>\n",
       "    </tr>\n",
       "    <tr>\n",
       "      <th>16</th>\n",
       "      <td>Marrakech</td>\n",
       "      <td>6</td>\n",
       "      <td>2564</td>\n",
       "      <td>3.0</td>\n",
       "      <td>1243571</td>\n",
       "    </tr>\n",
       "    <tr>\n",
       "      <th>20</th>\n",
       "      <td>Marrakech</td>\n",
       "      <td>6</td>\n",
       "      <td>2573</td>\n",
       "      <td>4.0</td>\n",
       "      <td>1443454</td>\n",
       "    </tr>\n",
       "    <tr>\n",
       "      <th>...</th>\n",
       "      <td>...</td>\n",
       "      <td>...</td>\n",
       "      <td>...</td>\n",
       "      <td>...</td>\n",
       "      <td>...</td>\n",
       "    </tr>\n",
       "    <tr>\n",
       "      <th>6952</th>\n",
       "      <td>Berrched</td>\n",
       "      <td>6</td>\n",
       "      <td>3463</td>\n",
       "      <td>3.0</td>\n",
       "      <td>1574089</td>\n",
       "    </tr>\n",
       "    <tr>\n",
       "      <th>6953</th>\n",
       "      <td>Berrched</td>\n",
       "      <td>6</td>\n",
       "      <td>3028</td>\n",
       "      <td>4.0</td>\n",
       "      <td>1622389</td>\n",
       "    </tr>\n",
       "    <tr>\n",
       "      <th>6962</th>\n",
       "      <td>Berrched</td>\n",
       "      <td>6</td>\n",
       "      <td>2931</td>\n",
       "      <td>3.0</td>\n",
       "      <td>1102150</td>\n",
       "    </tr>\n",
       "    <tr>\n",
       "      <th>6969</th>\n",
       "      <td>Berrched</td>\n",
       "      <td>6</td>\n",
       "      <td>2757</td>\n",
       "      <td>4.0</td>\n",
       "      <td>1304253</td>\n",
       "    </tr>\n",
       "    <tr>\n",
       "      <th>6979</th>\n",
       "      <td>Tiznit</td>\n",
       "      <td>6</td>\n",
       "      <td>3368</td>\n",
       "      <td>4.0</td>\n",
       "      <td>1529184</td>\n",
       "    </tr>\n",
       "  </tbody>\n",
       "</table>\n",
       "<p>1492 rows × 5 columns</p>\n",
       "</div>"
      ]
     },
     "execution_count": 150,
     "metadata": {},
     "output_type": "execute_result"
    }
   ],
   "execution_count": 150
  },
  {
   "cell_type": "markdown",
   "id": "10f0c85d",
   "metadata": {},
   "source": [
    "## Converting dtype of `total_sqft` column to float"
   ]
  },
  {
   "cell_type": "code",
   "id": "2803f89a",
   "metadata": {
    "ExecuteTime": {
     "end_time": "2024-11-11T21:29:21.843977Z",
     "start_time": "2024-11-11T21:29:21.840029Z"
    }
   },
   "source": [
    "df2.total_sqft.unique()"
   ],
   "outputs": [
    {
     "data": {
      "text/plain": [
       "array([1972, 1206, 2667, ..., 3028, 3368, 3113], dtype=int64)"
      ]
     },
     "execution_count": 151,
     "metadata": {},
     "output_type": "execute_result"
    }
   ],
   "execution_count": 151
  },
  {
   "cell_type": "code",
   "id": "1500dc75",
   "metadata": {
    "ExecuteTime": {
     "end_time": "2024-11-11T21:29:22.036920Z",
     "start_time": "2024-11-11T21:29:22.034136Z"
    }
   },
   "source": [
    "def is_float(x):\n",
    "    try:\n",
    "        float(x)\n",
    "    except:\n",
    "        return False\n",
    "    return True"
   ],
   "outputs": [],
   "execution_count": 152
  },
  {
   "cell_type": "code",
   "id": "2dd6a72d",
   "metadata": {
    "ExecuteTime": {
     "end_time": "2024-11-11T21:29:22.231130Z",
     "start_time": "2024-11-11T21:29:22.224981Z"
    }
   },
   "source": [
    "df2[~df2['total_sqft'].apply(is_float)].head(10)"
   ],
   "outputs": [
    {
     "data": {
      "text/plain": [
       "Empty DataFrame\n",
       "Columns: [location, bhk, total_sqft, bath, price]\n",
       "Index: []"
      ],
      "text/html": [
       "<div>\n",
       "<style scoped>\n",
       "    .dataframe tbody tr th:only-of-type {\n",
       "        vertical-align: middle;\n",
       "    }\n",
       "\n",
       "    .dataframe tbody tr th {\n",
       "        vertical-align: top;\n",
       "    }\n",
       "\n",
       "    .dataframe thead th {\n",
       "        text-align: right;\n",
       "    }\n",
       "</style>\n",
       "<table border=\"1\" class=\"dataframe\">\n",
       "  <thead>\n",
       "    <tr style=\"text-align: right;\">\n",
       "      <th></th>\n",
       "      <th>location</th>\n",
       "      <th>bhk</th>\n",
       "      <th>total_sqft</th>\n",
       "      <th>bath</th>\n",
       "      <th>price</th>\n",
       "    </tr>\n",
       "  </thead>\n",
       "  <tbody>\n",
       "  </tbody>\n",
       "</table>\n",
       "</div>"
      ]
     },
     "execution_count": 153,
     "metadata": {},
     "output_type": "execute_result"
    }
   ],
   "execution_count": 153
  },
  {
   "cell_type": "markdown",
   "id": "3da693c0",
   "metadata": {},
   "source": [
    "## Adding a `price_per_sqft` column"
   ]
  },
  {
   "cell_type": "code",
   "id": "4b041c50",
   "metadata": {
    "ExecuteTime": {
     "end_time": "2024-11-11T21:29:22.581643Z",
     "start_time": "2024-11-11T21:29:22.574034Z"
    }
   },
   "source": [
    "df4 = df2.copy()\n",
    "df4['price_per_sqft'] = df4['price']/df4['total_sqft']\n",
    "df4.head()"
   ],
   "outputs": [
    {
     "data": {
      "text/plain": [
       "    location  bhk  total_sqft  bath    price  price_per_sqft\n",
       "0  Marrakech    4        1972   3.0  1055558      535.272819\n",
       "1  Marrakech    1        1206   1.0   840577      696.995854\n",
       "2  Marrakech    6        2667   3.0  1136329      426.070116\n",
       "3  Marrakech    4        1761   2.0   689436      391.502555\n",
       "4  Marrakech    3        2098   3.0  1074897      512.343661"
      ],
      "text/html": [
       "<div>\n",
       "<style scoped>\n",
       "    .dataframe tbody tr th:only-of-type {\n",
       "        vertical-align: middle;\n",
       "    }\n",
       "\n",
       "    .dataframe tbody tr th {\n",
       "        vertical-align: top;\n",
       "    }\n",
       "\n",
       "    .dataframe thead th {\n",
       "        text-align: right;\n",
       "    }\n",
       "</style>\n",
       "<table border=\"1\" class=\"dataframe\">\n",
       "  <thead>\n",
       "    <tr style=\"text-align: right;\">\n",
       "      <th></th>\n",
       "      <th>location</th>\n",
       "      <th>bhk</th>\n",
       "      <th>total_sqft</th>\n",
       "      <th>bath</th>\n",
       "      <th>price</th>\n",
       "      <th>price_per_sqft</th>\n",
       "    </tr>\n",
       "  </thead>\n",
       "  <tbody>\n",
       "    <tr>\n",
       "      <th>0</th>\n",
       "      <td>Marrakech</td>\n",
       "      <td>4</td>\n",
       "      <td>1972</td>\n",
       "      <td>3.0</td>\n",
       "      <td>1055558</td>\n",
       "      <td>535.272819</td>\n",
       "    </tr>\n",
       "    <tr>\n",
       "      <th>1</th>\n",
       "      <td>Marrakech</td>\n",
       "      <td>1</td>\n",
       "      <td>1206</td>\n",
       "      <td>1.0</td>\n",
       "      <td>840577</td>\n",
       "      <td>696.995854</td>\n",
       "    </tr>\n",
       "    <tr>\n",
       "      <th>2</th>\n",
       "      <td>Marrakech</td>\n",
       "      <td>6</td>\n",
       "      <td>2667</td>\n",
       "      <td>3.0</td>\n",
       "      <td>1136329</td>\n",
       "      <td>426.070116</td>\n",
       "    </tr>\n",
       "    <tr>\n",
       "      <th>3</th>\n",
       "      <td>Marrakech</td>\n",
       "      <td>4</td>\n",
       "      <td>1761</td>\n",
       "      <td>2.0</td>\n",
       "      <td>689436</td>\n",
       "      <td>391.502555</td>\n",
       "    </tr>\n",
       "    <tr>\n",
       "      <th>4</th>\n",
       "      <td>Marrakech</td>\n",
       "      <td>3</td>\n",
       "      <td>2098</td>\n",
       "      <td>3.0</td>\n",
       "      <td>1074897</td>\n",
       "      <td>512.343661</td>\n",
       "    </tr>\n",
       "  </tbody>\n",
       "</table>\n",
       "</div>"
      ]
     },
     "execution_count": 154,
     "metadata": {},
     "output_type": "execute_result"
    }
   ],
   "execution_count": 154
  },
  {
   "cell_type": "markdown",
   "id": "dda2d563",
   "metadata": {},
   "source": [
    "## Dimnsionality reduction of `location` column"
   ]
  },
  {
   "cell_type": "code",
   "id": "98b34dd1",
   "metadata": {
    "ExecuteTime": {
     "end_time": "2024-11-11T21:29:22.938121Z",
     "start_time": "2024-11-11T21:29:22.933349Z"
    }
   },
   "source": [
    "df4.location = df4.location.apply(lambda x:x.strip()) #REMOVING SPACES\n",
    "location_stats = df4.groupby('location')['location'].agg('count').sort_values(ascending=False)"
   ],
   "outputs": [],
   "execution_count": 155
  },
  {
   "cell_type": "code",
   "id": "edb113a4",
   "metadata": {
    "ExecuteTime": {
     "end_time": "2024-11-11T21:29:23.136849Z",
     "start_time": "2024-11-11T21:29:23.131863Z"
    }
   },
   "source": [
    "location_stats"
   ],
   "outputs": [
    {
     "data": {
      "text/plain": [
       "location\n",
       "Agadir         506\n",
       "Mohammadia     502\n",
       "Casablanca     457\n",
       "Kentitra       400\n",
       "Tanger         400\n",
       "Marrakech      396\n",
       "Berrched       392\n",
       "Essaouira      336\n",
       "Settat         324\n",
       "Beni Mellal    283\n",
       "Oujda          244\n",
       "Fes            224\n",
       "Khounifra      220\n",
       "Ifran          200\n",
       "Safi           200\n",
       "Azrou          191\n",
       "EL Jadida      188\n",
       "Tetouan        183\n",
       "Dakhla         164\n",
       "Meknes         164\n",
       "Khouribga      164\n",
       "Ourzazat       128\n",
       "Laayoun        116\n",
       "Nador          112\n",
       "Gulmim         100\n",
       "Taza            96\n",
       "Essmara         74\n",
       "Tata            44\n",
       "Bjaad           40\n",
       "Sidi ifni       40\n",
       "Zagoura         36\n",
       "Lhajb           27\n",
       "Azilal          22\n",
       "Martil           4\n",
       "Tiznit           3\n",
       "Skhirat          2\n",
       "Midelt           2\n",
       "Name: location, dtype: int64"
      ]
     },
     "execution_count": 156,
     "metadata": {},
     "output_type": "execute_result"
    }
   ],
   "execution_count": 156
  },
  {
   "cell_type": "code",
   "id": "689f20c8",
   "metadata": {
    "ExecuteTime": {
     "end_time": "2024-11-11T21:29:23.329439Z",
     "start_time": "2024-11-11T21:29:23.325185Z"
    }
   },
   "source": [
    "len(location_stats[location_stats<=10]) #how many location has less than 10 data point"
   ],
   "outputs": [
    {
     "data": {
      "text/plain": [
       "4"
      ]
     },
     "execution_count": 157,
     "metadata": {},
     "output_type": "execute_result"
    }
   ],
   "execution_count": 157
  },
  {
   "cell_type": "code",
   "id": "aca5f5f5",
   "metadata": {
    "ExecuteTime": {
     "end_time": "2024-11-11T21:29:23.547510Z",
     "start_time": "2024-11-11T21:29:23.543051Z"
    }
   },
   "source": [
    "location_stats_less_than_10 = location_stats[location_stats<=10]\n",
    "location_stats_less_than_10"
   ],
   "outputs": [
    {
     "data": {
      "text/plain": [
       "location\n",
       "Martil     4\n",
       "Tiznit     3\n",
       "Skhirat    2\n",
       "Midelt     2\n",
       "Name: location, dtype: int64"
      ]
     },
     "execution_count": 158,
     "metadata": {},
     "output_type": "execute_result"
    }
   ],
   "execution_count": 158
  },
  {
   "cell_type": "code",
   "id": "9d9ce23a",
   "metadata": {
    "scrolled": true,
    "ExecuteTime": {
     "end_time": "2024-11-11T21:29:23.769676Z",
     "start_time": "2024-11-11T21:29:23.757108Z"
    }
   },
   "source": [
    "df4.location = df4.location.apply(lambda x:'other' if x in location_stats_less_than_10 else x)\n",
    "len(df4.location.unique())"
   ],
   "outputs": [
    {
     "data": {
      "text/plain": [
       "34"
      ]
     },
     "execution_count": 159,
     "metadata": {},
     "output_type": "execute_result"
    }
   ],
   "execution_count": 159
  },
  {
   "cell_type": "markdown",
   "id": "08fa7267",
   "metadata": {},
   "source": [
    "## Removing abnormal rows with in comparison to `total_sqft` with `bhk`"
   ]
  },
  {
   "cell_type": "code",
   "id": "48cab7db",
   "metadata": {
    "ExecuteTime": {
     "end_time": "2024-11-11T21:29:24.017084Z",
     "start_time": "2024-11-11T21:29:24.009103Z"
    }
   },
   "source": [
    "# total_sqft / bhk = 600/5 = 120 thta's abnormale, so we'll remove this raws\n",
    "df4[df4.total_sqft/df4.bhk<350]"
   ],
   "outputs": [
    {
     "data": {
      "text/plain": [
       "        location  bhk  total_sqft  bath   price  price_per_sqft\n",
       "114       Tanger    4        1398   1.0  911399      651.930615\n",
       "224     Kentitra    4        1315   1.0  770713      586.093536\n",
       "390         Safi    4        1363   2.0  824810      605.143067\n",
       "424     Berrched    4        1389   1.0  903801      650.684665\n",
       "473   Casablanca    4        1328   1.0  691444      520.665663\n",
       "...          ...  ...         ...   ...     ...             ...\n",
       "6794   Khouribga    4        1359   2.0  683568      502.993377\n",
       "6828   Khounifra    4        1352   2.0  809546      598.776627\n",
       "6858       Bjaad    4        1329   2.0  863817      649.975169\n",
       "6868      Settat    4        1313   2.0  742670      565.628332\n",
       "6937      Settat    4        1331   1.0  866502      651.015778\n",
       "\n",
       "[101 rows x 6 columns]"
      ],
      "text/html": [
       "<div>\n",
       "<style scoped>\n",
       "    .dataframe tbody tr th:only-of-type {\n",
       "        vertical-align: middle;\n",
       "    }\n",
       "\n",
       "    .dataframe tbody tr th {\n",
       "        vertical-align: top;\n",
       "    }\n",
       "\n",
       "    .dataframe thead th {\n",
       "        text-align: right;\n",
       "    }\n",
       "</style>\n",
       "<table border=\"1\" class=\"dataframe\">\n",
       "  <thead>\n",
       "    <tr style=\"text-align: right;\">\n",
       "      <th></th>\n",
       "      <th>location</th>\n",
       "      <th>bhk</th>\n",
       "      <th>total_sqft</th>\n",
       "      <th>bath</th>\n",
       "      <th>price</th>\n",
       "      <th>price_per_sqft</th>\n",
       "    </tr>\n",
       "  </thead>\n",
       "  <tbody>\n",
       "    <tr>\n",
       "      <th>114</th>\n",
       "      <td>Tanger</td>\n",
       "      <td>4</td>\n",
       "      <td>1398</td>\n",
       "      <td>1.0</td>\n",
       "      <td>911399</td>\n",
       "      <td>651.930615</td>\n",
       "    </tr>\n",
       "    <tr>\n",
       "      <th>224</th>\n",
       "      <td>Kentitra</td>\n",
       "      <td>4</td>\n",
       "      <td>1315</td>\n",
       "      <td>1.0</td>\n",
       "      <td>770713</td>\n",
       "      <td>586.093536</td>\n",
       "    </tr>\n",
       "    <tr>\n",
       "      <th>390</th>\n",
       "      <td>Safi</td>\n",
       "      <td>4</td>\n",
       "      <td>1363</td>\n",
       "      <td>2.0</td>\n",
       "      <td>824810</td>\n",
       "      <td>605.143067</td>\n",
       "    </tr>\n",
       "    <tr>\n",
       "      <th>424</th>\n",
       "      <td>Berrched</td>\n",
       "      <td>4</td>\n",
       "      <td>1389</td>\n",
       "      <td>1.0</td>\n",
       "      <td>903801</td>\n",
       "      <td>650.684665</td>\n",
       "    </tr>\n",
       "    <tr>\n",
       "      <th>473</th>\n",
       "      <td>Casablanca</td>\n",
       "      <td>4</td>\n",
       "      <td>1328</td>\n",
       "      <td>1.0</td>\n",
       "      <td>691444</td>\n",
       "      <td>520.665663</td>\n",
       "    </tr>\n",
       "    <tr>\n",
       "      <th>...</th>\n",
       "      <td>...</td>\n",
       "      <td>...</td>\n",
       "      <td>...</td>\n",
       "      <td>...</td>\n",
       "      <td>...</td>\n",
       "      <td>...</td>\n",
       "    </tr>\n",
       "    <tr>\n",
       "      <th>6794</th>\n",
       "      <td>Khouribga</td>\n",
       "      <td>4</td>\n",
       "      <td>1359</td>\n",
       "      <td>2.0</td>\n",
       "      <td>683568</td>\n",
       "      <td>502.993377</td>\n",
       "    </tr>\n",
       "    <tr>\n",
       "      <th>6828</th>\n",
       "      <td>Khounifra</td>\n",
       "      <td>4</td>\n",
       "      <td>1352</td>\n",
       "      <td>2.0</td>\n",
       "      <td>809546</td>\n",
       "      <td>598.776627</td>\n",
       "    </tr>\n",
       "    <tr>\n",
       "      <th>6858</th>\n",
       "      <td>Bjaad</td>\n",
       "      <td>4</td>\n",
       "      <td>1329</td>\n",
       "      <td>2.0</td>\n",
       "      <td>863817</td>\n",
       "      <td>649.975169</td>\n",
       "    </tr>\n",
       "    <tr>\n",
       "      <th>6868</th>\n",
       "      <td>Settat</td>\n",
       "      <td>4</td>\n",
       "      <td>1313</td>\n",
       "      <td>2.0</td>\n",
       "      <td>742670</td>\n",
       "      <td>565.628332</td>\n",
       "    </tr>\n",
       "    <tr>\n",
       "      <th>6937</th>\n",
       "      <td>Settat</td>\n",
       "      <td>4</td>\n",
       "      <td>1331</td>\n",
       "      <td>1.0</td>\n",
       "      <td>866502</td>\n",
       "      <td>651.015778</td>\n",
       "    </tr>\n",
       "  </tbody>\n",
       "</table>\n",
       "<p>101 rows × 6 columns</p>\n",
       "</div>"
      ]
     },
     "execution_count": 160,
     "metadata": {},
     "output_type": "execute_result"
    }
   ],
   "execution_count": 160
  },
  {
   "cell_type": "code",
   "id": "76d06c20",
   "metadata": {
    "ExecuteTime": {
     "end_time": "2024-11-11T21:29:24.206678Z",
     "start_time": "2024-11-11T21:29:24.203831Z"
    }
   },
   "source": [
    "df4.shape"
   ],
   "outputs": [
    {
     "data": {
      "text/plain": [
       "(6984, 6)"
      ]
     },
     "execution_count": 161,
     "metadata": {},
     "output_type": "execute_result"
    }
   ],
   "execution_count": 161
  },
  {
   "cell_type": "code",
   "id": "b9a150c2",
   "metadata": {
    "ExecuteTime": {
     "end_time": "2024-11-11T21:29:24.423736Z",
     "start_time": "2024-11-11T21:29:24.419230Z"
    }
   },
   "source": [
    "df5 = df4[~(df4.total_sqft/df4.bhk<350)]\n",
    "df5.shape"
   ],
   "outputs": [
    {
     "data": {
      "text/plain": [
       "(6883, 6)"
      ]
     },
     "execution_count": 162,
     "metadata": {},
     "output_type": "execute_result"
    }
   ],
   "execution_count": 162
  },
  {
   "cell_type": "code",
   "id": "a0be0561",
   "metadata": {
    "ExecuteTime": {
     "end_time": "2024-11-11T21:29:24.602086Z",
     "start_time": "2024-11-11T21:29:24.595091Z"
    }
   },
   "source": [
    "df5.head(10)"
   ],
   "outputs": [
    {
     "data": {
      "text/plain": [
       "    location  bhk  total_sqft  bath    price  price_per_sqft\n",
       "0  Marrakech    4        1972   3.0  1055558      535.272819\n",
       "1  Marrakech    1        1206   1.0   840577      696.995854\n",
       "2  Marrakech    6        2667   3.0  1136329      426.070116\n",
       "3  Marrakech    4        1761   2.0   689436      391.502555\n",
       "4  Marrakech    3        2098   3.0  1074897      512.343661\n",
       "5  Marrakech    1         892   1.0   434379      486.971973\n",
       "6  Marrakech    3        1739   3.0   883951      508.309948\n",
       "7  Marrakech    4        2367   2.0   979171      413.675961\n",
       "8  Marrakech    3        2043   3.0   952347      466.151248\n",
       "9  Marrakech    3        1736   3.0   694677      400.159562"
      ],
      "text/html": [
       "<div>\n",
       "<style scoped>\n",
       "    .dataframe tbody tr th:only-of-type {\n",
       "        vertical-align: middle;\n",
       "    }\n",
       "\n",
       "    .dataframe tbody tr th {\n",
       "        vertical-align: top;\n",
       "    }\n",
       "\n",
       "    .dataframe thead th {\n",
       "        text-align: right;\n",
       "    }\n",
       "</style>\n",
       "<table border=\"1\" class=\"dataframe\">\n",
       "  <thead>\n",
       "    <tr style=\"text-align: right;\">\n",
       "      <th></th>\n",
       "      <th>location</th>\n",
       "      <th>bhk</th>\n",
       "      <th>total_sqft</th>\n",
       "      <th>bath</th>\n",
       "      <th>price</th>\n",
       "      <th>price_per_sqft</th>\n",
       "    </tr>\n",
       "  </thead>\n",
       "  <tbody>\n",
       "    <tr>\n",
       "      <th>0</th>\n",
       "      <td>Marrakech</td>\n",
       "      <td>4</td>\n",
       "      <td>1972</td>\n",
       "      <td>3.0</td>\n",
       "      <td>1055558</td>\n",
       "      <td>535.272819</td>\n",
       "    </tr>\n",
       "    <tr>\n",
       "      <th>1</th>\n",
       "      <td>Marrakech</td>\n",
       "      <td>1</td>\n",
       "      <td>1206</td>\n",
       "      <td>1.0</td>\n",
       "      <td>840577</td>\n",
       "      <td>696.995854</td>\n",
       "    </tr>\n",
       "    <tr>\n",
       "      <th>2</th>\n",
       "      <td>Marrakech</td>\n",
       "      <td>6</td>\n",
       "      <td>2667</td>\n",
       "      <td>3.0</td>\n",
       "      <td>1136329</td>\n",
       "      <td>426.070116</td>\n",
       "    </tr>\n",
       "    <tr>\n",
       "      <th>3</th>\n",
       "      <td>Marrakech</td>\n",
       "      <td>4</td>\n",
       "      <td>1761</td>\n",
       "      <td>2.0</td>\n",
       "      <td>689436</td>\n",
       "      <td>391.502555</td>\n",
       "    </tr>\n",
       "    <tr>\n",
       "      <th>4</th>\n",
       "      <td>Marrakech</td>\n",
       "      <td>3</td>\n",
       "      <td>2098</td>\n",
       "      <td>3.0</td>\n",
       "      <td>1074897</td>\n",
       "      <td>512.343661</td>\n",
       "    </tr>\n",
       "    <tr>\n",
       "      <th>5</th>\n",
       "      <td>Marrakech</td>\n",
       "      <td>1</td>\n",
       "      <td>892</td>\n",
       "      <td>1.0</td>\n",
       "      <td>434379</td>\n",
       "      <td>486.971973</td>\n",
       "    </tr>\n",
       "    <tr>\n",
       "      <th>6</th>\n",
       "      <td>Marrakech</td>\n",
       "      <td>3</td>\n",
       "      <td>1739</td>\n",
       "      <td>3.0</td>\n",
       "      <td>883951</td>\n",
       "      <td>508.309948</td>\n",
       "    </tr>\n",
       "    <tr>\n",
       "      <th>7</th>\n",
       "      <td>Marrakech</td>\n",
       "      <td>4</td>\n",
       "      <td>2367</td>\n",
       "      <td>2.0</td>\n",
       "      <td>979171</td>\n",
       "      <td>413.675961</td>\n",
       "    </tr>\n",
       "    <tr>\n",
       "      <th>8</th>\n",
       "      <td>Marrakech</td>\n",
       "      <td>3</td>\n",
       "      <td>2043</td>\n",
       "      <td>3.0</td>\n",
       "      <td>952347</td>\n",
       "      <td>466.151248</td>\n",
       "    </tr>\n",
       "    <tr>\n",
       "      <th>9</th>\n",
       "      <td>Marrakech</td>\n",
       "      <td>3</td>\n",
       "      <td>1736</td>\n",
       "      <td>3.0</td>\n",
       "      <td>694677</td>\n",
       "      <td>400.159562</td>\n",
       "    </tr>\n",
       "  </tbody>\n",
       "</table>\n",
       "</div>"
      ]
     },
     "execution_count": 163,
     "metadata": {},
     "output_type": "execute_result"
    }
   ],
   "execution_count": 163
  },
  {
   "cell_type": "markdown",
   "id": "441ce20d",
   "metadata": {},
   "source": [
    "## Removing `price_per_sqft` outlier values"
   ]
  },
  {
   "cell_type": "code",
   "id": "bc8c5936",
   "metadata": {
    "scrolled": true,
    "ExecuteTime": {
     "end_time": "2024-11-11T21:29:24.952374Z",
     "start_time": "2024-11-11T21:29:24.946113Z"
    }
   },
   "source": [
    "df5.price_per_sqft.describe()"
   ],
   "outputs": [
    {
     "data": {
      "text/plain": [
       "count    6883.000000\n",
       "mean      528.509959\n",
       "std        89.652144\n",
       "min       370.884721\n",
       "25%       464.672902\n",
       "50%       511.413928\n",
       "75%       569.676196\n",
       "max       921.394459\n",
       "Name: price_per_sqft, dtype: float64"
      ]
     },
     "execution_count": 164,
     "metadata": {},
     "output_type": "execute_result"
    }
   ],
   "execution_count": 164
  },
  {
   "cell_type": "markdown",
   "id": "10219d69",
   "metadata": {},
   "source": [
    "##### we'are gonna remove this raws at price for sqft is low ,and for the highest prices sqft it looks normale\n",
    "##### so let's remove exetreme cases 1000 ft² = 92.90 m² / 370*10.80 = 3904,6 / 921*10.80 = 9.946,8"
   ]
  },
  {
   "cell_type": "code",
   "id": "9e30b829",
   "metadata": {
    "ExecuteTime": {
     "end_time": "2024-11-11T21:29:25.314944Z",
     "start_time": "2024-11-11T21:29:25.309386Z"
    }
   },
   "source": [
    "def remove_pps_outliers(df):   # pps = price_per_sqft\n",
    "    df_out = pd.DataFrame()\n",
    "    for key,subdf in df.groupby('location'):\n",
    "        m = np.mean(subdf.price_per_sqft)\n",
    "        st = np.std(subdf.price_per_sqft)\n",
    "        reduced_df = subdf[(subdf.price_per_sqft>(m-st))]\n",
    "        df_out = pd.concat([df_out,reduced_df],ignore_index=True)\n",
    "    return df_out"
   ],
   "outputs": [],
   "execution_count": 165
  },
  {
   "cell_type": "code",
   "id": "6f4aaee9",
   "metadata": {
    "ExecuteTime": {
     "end_time": "2024-11-11T21:29:25.514908Z",
     "start_time": "2024-11-11T21:29:25.493594Z"
    }
   },
   "source": [
    "df6 = remove_pps_outliers(df5)\n",
    "df6.shape\n"
   ],
   "outputs": [
    {
     "data": {
      "text/plain": [
       "(6030, 6)"
      ]
     },
     "execution_count": 166,
     "metadata": {},
     "output_type": "execute_result"
    }
   ],
   "execution_count": 166
  },
  {
   "cell_type": "code",
   "id": "0f4961a2",
   "metadata": {
    "ExecuteTime": {
     "end_time": "2024-11-11T21:29:25.710104Z",
     "start_time": "2024-11-11T21:29:25.703531Z"
    }
   },
   "source": [
    "df6"
   ],
   "outputs": [
    {
     "data": {
      "text/plain": [
       "     location  bhk  total_sqft  bath    price  price_per_sqft\n",
       "0      Agadir    1        1123   1.0   766352      682.414960\n",
       "1      Agadir    4        1900   2.0  1174350      618.078947\n",
       "2      Agadir    4        1502   2.0   839289      558.780959\n",
       "3      Agadir    1        1104   2.0   735660      666.358696\n",
       "4      Agadir    5        3061   3.0  1797239      587.141130\n",
       "...       ...  ...         ...   ...      ...             ...\n",
       "6025    other    4        2094   2.0  1091093      521.056829\n",
       "6026    other    2         877   2.0   567807      647.442417\n",
       "6027    other    5        3436   3.0  1849113      538.158615\n",
       "6028    other    5        2571   3.0  1238178      481.593932\n",
       "6029    other    4        2009   2.0  1099323      547.199104\n",
       "\n",
       "[6030 rows x 6 columns]"
      ],
      "text/html": [
       "<div>\n",
       "<style scoped>\n",
       "    .dataframe tbody tr th:only-of-type {\n",
       "        vertical-align: middle;\n",
       "    }\n",
       "\n",
       "    .dataframe tbody tr th {\n",
       "        vertical-align: top;\n",
       "    }\n",
       "\n",
       "    .dataframe thead th {\n",
       "        text-align: right;\n",
       "    }\n",
       "</style>\n",
       "<table border=\"1\" class=\"dataframe\">\n",
       "  <thead>\n",
       "    <tr style=\"text-align: right;\">\n",
       "      <th></th>\n",
       "      <th>location</th>\n",
       "      <th>bhk</th>\n",
       "      <th>total_sqft</th>\n",
       "      <th>bath</th>\n",
       "      <th>price</th>\n",
       "      <th>price_per_sqft</th>\n",
       "    </tr>\n",
       "  </thead>\n",
       "  <tbody>\n",
       "    <tr>\n",
       "      <th>0</th>\n",
       "      <td>Agadir</td>\n",
       "      <td>1</td>\n",
       "      <td>1123</td>\n",
       "      <td>1.0</td>\n",
       "      <td>766352</td>\n",
       "      <td>682.414960</td>\n",
       "    </tr>\n",
       "    <tr>\n",
       "      <th>1</th>\n",
       "      <td>Agadir</td>\n",
       "      <td>4</td>\n",
       "      <td>1900</td>\n",
       "      <td>2.0</td>\n",
       "      <td>1174350</td>\n",
       "      <td>618.078947</td>\n",
       "    </tr>\n",
       "    <tr>\n",
       "      <th>2</th>\n",
       "      <td>Agadir</td>\n",
       "      <td>4</td>\n",
       "      <td>1502</td>\n",
       "      <td>2.0</td>\n",
       "      <td>839289</td>\n",
       "      <td>558.780959</td>\n",
       "    </tr>\n",
       "    <tr>\n",
       "      <th>3</th>\n",
       "      <td>Agadir</td>\n",
       "      <td>1</td>\n",
       "      <td>1104</td>\n",
       "      <td>2.0</td>\n",
       "      <td>735660</td>\n",
       "      <td>666.358696</td>\n",
       "    </tr>\n",
       "    <tr>\n",
       "      <th>4</th>\n",
       "      <td>Agadir</td>\n",
       "      <td>5</td>\n",
       "      <td>3061</td>\n",
       "      <td>3.0</td>\n",
       "      <td>1797239</td>\n",
       "      <td>587.141130</td>\n",
       "    </tr>\n",
       "    <tr>\n",
       "      <th>...</th>\n",
       "      <td>...</td>\n",
       "      <td>...</td>\n",
       "      <td>...</td>\n",
       "      <td>...</td>\n",
       "      <td>...</td>\n",
       "      <td>...</td>\n",
       "    </tr>\n",
       "    <tr>\n",
       "      <th>6025</th>\n",
       "      <td>other</td>\n",
       "      <td>4</td>\n",
       "      <td>2094</td>\n",
       "      <td>2.0</td>\n",
       "      <td>1091093</td>\n",
       "      <td>521.056829</td>\n",
       "    </tr>\n",
       "    <tr>\n",
       "      <th>6026</th>\n",
       "      <td>other</td>\n",
       "      <td>2</td>\n",
       "      <td>877</td>\n",
       "      <td>2.0</td>\n",
       "      <td>567807</td>\n",
       "      <td>647.442417</td>\n",
       "    </tr>\n",
       "    <tr>\n",
       "      <th>6027</th>\n",
       "      <td>other</td>\n",
       "      <td>5</td>\n",
       "      <td>3436</td>\n",
       "      <td>3.0</td>\n",
       "      <td>1849113</td>\n",
       "      <td>538.158615</td>\n",
       "    </tr>\n",
       "    <tr>\n",
       "      <th>6028</th>\n",
       "      <td>other</td>\n",
       "      <td>5</td>\n",
       "      <td>2571</td>\n",
       "      <td>3.0</td>\n",
       "      <td>1238178</td>\n",
       "      <td>481.593932</td>\n",
       "    </tr>\n",
       "    <tr>\n",
       "      <th>6029</th>\n",
       "      <td>other</td>\n",
       "      <td>4</td>\n",
       "      <td>2009</td>\n",
       "      <td>2.0</td>\n",
       "      <td>1099323</td>\n",
       "      <td>547.199104</td>\n",
       "    </tr>\n",
       "  </tbody>\n",
       "</table>\n",
       "<p>6030 rows × 6 columns</p>\n",
       "</div>"
      ]
     },
     "execution_count": 167,
     "metadata": {},
     "output_type": "execute_result"
    }
   ],
   "execution_count": 167
  },
  {
   "cell_type": "code",
   "id": "8f59d604",
   "metadata": {
    "ExecuteTime": {
     "end_time": "2024-11-11T21:29:25.931961Z",
     "start_time": "2024-11-11T21:29:25.926412Z"
    }
   },
   "source": [
    "\n",
    "min_ind = df6['price_per_sqft'].idxmin()\n",
    "df6 = df6.drop(min_ind)\n",
    "df6.price_per_sqft.describe()"
   ],
   "outputs": [
    {
     "data": {
      "text/plain": [
       "count    6029.000000\n",
       "mean      544.071052\n",
       "std        84.776026\n",
       "min       420.535505\n",
       "25%       482.529806\n",
       "50%       522.758212\n",
       "75%       578.735669\n",
       "max       921.394459\n",
       "Name: price_per_sqft, dtype: float64"
      ]
     },
     "execution_count": 168,
     "metadata": {},
     "output_type": "execute_result"
    }
   ],
   "execution_count": 168
  },
  {
   "cell_type": "markdown",
   "id": "5a0684b3",
   "metadata": {},
   "source": [
    "## Plotting `total_sqft` vs `price` scatter-chart based on `location`"
   ]
  },
  {
   "cell_type": "code",
   "id": "d307d673",
   "metadata": {
    "ExecuteTime": {
     "end_time": "2024-11-11T21:29:26.425571Z",
     "start_time": "2024-11-11T21:29:26.277277Z"
    }
   },
   "source": [
    "def plot_scatter_chart(df,location):\n",
    "    bhk2 = df[(df.location==location) & (df.bhk==2)]\n",
    "    bhk3 = df[(df.location==location) & (df.bhk==3)]\n",
    "    matplotlib.rcParams['figure.figsize'] = (15,8)\n",
    "    plt.scatter(bhk2.total_sqft, bhk2.price, color='blue', label='2 BHK', s=50)\n",
    "    plt.scatter(bhk3.total_sqft, bhk3.price, color='green', label='3 BHK', s=50)\n",
    "    plt.xlabel(\"Total square feet area\")\n",
    "    plt.ylabel(\"Price\")\n",
    "    plt.title(location)\n",
    "    plt.legend()\n",
    "\n",
    "plot_scatter_chart(df6,\"Agadir\")"
   ],
   "outputs": [
    {
     "data": {
      "text/plain": [
       "<Figure size 1500x800 with 1 Axes>"
      ],
      "image/png": "[encoded data removed]"
     },
     "metadata": {},
     "output_type": "display_data"
    }
   ],
   "execution_count": 169
  },
  {
   "cell_type": "markdown",
   "id": "e47a07bd",
   "metadata": {},
   "source": [
    "## Removing `bhk` outlier values"
   ]
  },
  {
   "cell_type": "code",
   "id": "6aac9cbf",
   "metadata": {
    "ExecuteTime": {
     "end_time": "2024-11-11T21:29:26.627611Z",
     "start_time": "2024-11-11T21:29:26.623144Z"
    }
   },
   "source": [
    "def remove_bhk_outliers(df):\n",
    "    exclude_indices = np.array([])\n",
    "    for location, location_df in df.groupby('location'):\n",
    "        bhk_stats = {}\n",
    "        for bhk, bhk_df in location_df.groupby('bhk'):\n",
    "            bhk_stats[bhk] = {\n",
    "                'mean':np.mean(bhk_df.price_per_sqft),\n",
    "                'std':np.std(bhk_df.price_per_sqft),\n",
    "                'count':bhk_df.shape[0]\n",
    "            }\n",
    "        for bhk, bhk_df in location_df.groupby('bhk'):\n",
    "            stats = bhk_stats.get(bhk-1)\n",
    "            if stats and stats['count']>5:\n",
    "                exclude_indices = np.append(exclude_indices, bhk_df[(bhk_df.price_per_sqft<(stats['mean'])) & (bhk_df.price_per_sqft>(stats['mean'] - stats['std']))].index.values)\n",
    "    return df.drop(exclude_indices,axis='index')"
   ],
   "outputs": [],
   "execution_count": 170
  },
  {
   "cell_type": "code",
   "id": "59baa20e",
   "metadata": {
    "ExecuteTime": {
     "end_time": "2024-11-11T21:29:26.868062Z",
     "start_time": "2024-11-11T21:29:26.799997Z"
    }
   },
   "source": [
    "df7 = remove_bhk_outliers(df6)\n",
    "df7.shape\n",
    "df7"
   ],
   "outputs": [
    {
     "data": {
      "text/plain": [
       "     location  bhk  total_sqft  bath    price  price_per_sqft\n",
       "0      Agadir    1        1123   1.0   766352      682.414960\n",
       "1      Agadir    4        1900   2.0  1174350      618.078947\n",
       "2      Agadir    4        1502   2.0   839289      558.780959\n",
       "3      Agadir    1        1104   2.0   735660      666.358696\n",
       "4      Agadir    5        3061   3.0  1797239      587.141130\n",
       "...       ...  ...         ...   ...      ...             ...\n",
       "6025    other    4        2094   2.0  1091093      521.056829\n",
       "6026    other    2         877   2.0   567807      647.442417\n",
       "6027    other    5        3436   3.0  1849113      538.158615\n",
       "6028    other    5        2571   3.0  1238178      481.593932\n",
       "6029    other    4        2009   2.0  1099323      547.199104\n",
       "\n",
       "[4284 rows x 6 columns]"
      ],
      "text/html": [
       "<div>\n",
       "<style scoped>\n",
       "    .dataframe tbody tr th:only-of-type {\n",
       "        vertical-align: middle;\n",
       "    }\n",
       "\n",
       "    .dataframe tbody tr th {\n",
       "        vertical-align: top;\n",
       "    }\n",
       "\n",
       "    .dataframe thead th {\n",
       "        text-align: right;\n",
       "    }\n",
       "</style>\n",
       "<table border=\"1\" class=\"dataframe\">\n",
       "  <thead>\n",
       "    <tr style=\"text-align: right;\">\n",
       "      <th></th>\n",
       "      <th>location</th>\n",
       "      <th>bhk</th>\n",
       "      <th>total_sqft</th>\n",
       "      <th>bath</th>\n",
       "      <th>price</th>\n",
       "      <th>price_per_sqft</th>\n",
       "    </tr>\n",
       "  </thead>\n",
       "  <tbody>\n",
       "    <tr>\n",
       "      <th>0</th>\n",
       "      <td>Agadir</td>\n",
       "      <td>1</td>\n",
       "      <td>1123</td>\n",
       "      <td>1.0</td>\n",
       "      <td>766352</td>\n",
       "      <td>682.414960</td>\n",
       "    </tr>\n",
       "    <tr>\n",
       "      <th>1</th>\n",
       "      <td>Agadir</td>\n",
       "      <td>4</td>\n",
       "      <td>1900</td>\n",
       "      <td>2.0</td>\n",
       "      <td>1174350</td>\n",
       "      <td>618.078947</td>\n",
       "    </tr>\n",
       "    <tr>\n",
       "      <th>2</th>\n",
       "      <td>Agadir</td>\n",
       "      <td>4</td>\n",
       "      <td>1502</td>\n",
       "      <td>2.0</td>\n",
       "      <td>839289</td>\n",
       "      <td>558.780959</td>\n",
       "    </tr>\n",
       "    <tr>\n",
       "      <th>3</th>\n",
       "      <td>Agadir</td>\n",
       "      <td>1</td>\n",
       "      <td>1104</td>\n",
       "      <td>2.0</td>\n",
       "      <td>735660</td>\n",
       "      <td>666.358696</td>\n",
       "    </tr>\n",
       "    <tr>\n",
       "      <th>4</th>\n",
       "      <td>Agadir</td>\n",
       "      <td>5</td>\n",
       "      <td>3061</td>\n",
       "      <td>3.0</td>\n",
       "      <td>1797239</td>\n",
       "      <td>587.141130</td>\n",
       "    </tr>\n",
       "    <tr>\n",
       "      <th>...</th>\n",
       "      <td>...</td>\n",
       "      <td>...</td>\n",
       "      <td>...</td>\n",
       "      <td>...</td>\n",
       "      <td>...</td>\n",
       "      <td>...</td>\n",
       "    </tr>\n",
       "    <tr>\n",
       "      <th>6025</th>\n",
       "      <td>other</td>\n",
       "      <td>4</td>\n",
       "      <td>2094</td>\n",
       "      <td>2.0</td>\n",
       "      <td>1091093</td>\n",
       "      <td>521.056829</td>\n",
       "    </tr>\n",
       "    <tr>\n",
       "      <th>6026</th>\n",
       "      <td>other</td>\n",
       "      <td>2</td>\n",
       "      <td>877</td>\n",
       "      <td>2.0</td>\n",
       "      <td>567807</td>\n",
       "      <td>647.442417</td>\n",
       "    </tr>\n",
       "    <tr>\n",
       "      <th>6027</th>\n",
       "      <td>other</td>\n",
       "      <td>5</td>\n",
       "      <td>3436</td>\n",
       "      <td>3.0</td>\n",
       "      <td>1849113</td>\n",
       "      <td>538.158615</td>\n",
       "    </tr>\n",
       "    <tr>\n",
       "      <th>6028</th>\n",
       "      <td>other</td>\n",
       "      <td>5</td>\n",
       "      <td>2571</td>\n",
       "      <td>3.0</td>\n",
       "      <td>1238178</td>\n",
       "      <td>481.593932</td>\n",
       "    </tr>\n",
       "    <tr>\n",
       "      <th>6029</th>\n",
       "      <td>other</td>\n",
       "      <td>4</td>\n",
       "      <td>2009</td>\n",
       "      <td>2.0</td>\n",
       "      <td>1099323</td>\n",
       "      <td>547.199104</td>\n",
       "    </tr>\n",
       "  </tbody>\n",
       "</table>\n",
       "<p>4284 rows × 6 columns</p>\n",
       "</div>"
      ]
     },
     "execution_count": 171,
     "metadata": {},
     "output_type": "execute_result"
    }
   ],
   "execution_count": 171
  },
  {
   "cell_type": "code",
   "id": "977691ab",
   "metadata": {
    "scrolled": false,
    "ExecuteTime": {
     "end_time": "2024-11-11T21:29:27.171059Z",
     "start_time": "2024-11-11T21:29:27.037411Z"
    }
   },
   "source": [
    "plot_scatter_chart(df7,\"Agadir\")"
   ],
   "outputs": [
    {
     "data": {
      "text/plain": [
       "<Figure size 1500x800 with 1 Axes>"
      ],
      "image/png": "[encoded data removed]"
     },
     "metadata": {},
     "output_type": "display_data"
    }
   ],
   "execution_count": 172
  },
  {
   "cell_type": "markdown",
   "id": "385c1fff",
   "metadata": {},
   "source": [
    "## Plotting `price_per_sqft` vs `count` histogram"
   ]
  },
  {
   "cell_type": "code",
   "id": "56658d4f",
   "metadata": {
    "ExecuteTime": {
     "end_time": "2024-11-11T21:29:27.433188Z",
     "start_time": "2024-11-11T21:29:27.350088Z"
    }
   },
   "source": [
    "plt.hist(df7.price_per_sqft, rwidth=0.8)\n",
    "plt.xlabel(\"Price per sqft\")\n",
    "plt.ylabel(\"Count\")"
   ],
   "outputs": [
    {
     "data": {
      "text/plain": [
       "Text(0, 0.5, 'Count')"
      ]
     },
     "execution_count": 173,
     "metadata": {},
     "output_type": "execute_result"
    },
    {
     "data": {
      "text/plain": [
       "<Figure size 1500x800 with 1 Axes>"
      ],
      "image/png": "[encoded data removed]"
     },
     "metadata": {},
     "output_type": "display_data"
    }
   ],
   "execution_count": 173
  },
  {
   "cell_type": "markdown",
   "id": "e8ad3655",
   "metadata": {},
   "source": [
    "## Checking & removing irregular bathroom counts"
   ]
  },
  {
   "cell_type": "code",
   "id": "68752633",
   "metadata": {
    "scrolled": true,
    "ExecuteTime": {
     "end_time": "2024-11-11T21:29:27.672956Z",
     "start_time": "2024-11-11T21:29:27.668990Z"
    }
   },
   "source": [
    "# df7 = df6.copy()\n",
    "\n",
    "df7.bath.unique()"
   ],
   "outputs": [
    {
     "data": {
      "text/plain": [
       "array([1., 2., 3., 4.])"
      ]
     },
     "execution_count": 174,
     "metadata": {},
     "output_type": "execute_result"
    }
   ],
   "execution_count": 174
  },
  {
   "cell_type": "code",
   "id": "1a1ccb17",
   "metadata": {
    "ExecuteTime": {
     "end_time": "2024-11-11T21:29:27.880104Z",
     "start_time": "2024-11-11T21:29:27.874146Z"
    }
   },
   "source": [
    "df7[df7.bath>4]"
   ],
   "outputs": [
    {
     "data": {
      "text/plain": [
       "Empty DataFrame\n",
       "Columns: [location, bhk, total_sqft, bath, price, price_per_sqft]\n",
       "Index: []"
      ],
      "text/html": [
       "<div>\n",
       "<style scoped>\n",
       "    .dataframe tbody tr th:only-of-type {\n",
       "        vertical-align: middle;\n",
       "    }\n",
       "\n",
       "    .dataframe tbody tr th {\n",
       "        vertical-align: top;\n",
       "    }\n",
       "\n",
       "    .dataframe thead th {\n",
       "        text-align: right;\n",
       "    }\n",
       "</style>\n",
       "<table border=\"1\" class=\"dataframe\">\n",
       "  <thead>\n",
       "    <tr style=\"text-align: right;\">\n",
       "      <th></th>\n",
       "      <th>location</th>\n",
       "      <th>bhk</th>\n",
       "      <th>total_sqft</th>\n",
       "      <th>bath</th>\n",
       "      <th>price</th>\n",
       "      <th>price_per_sqft</th>\n",
       "    </tr>\n",
       "  </thead>\n",
       "  <tbody>\n",
       "  </tbody>\n",
       "</table>\n",
       "</div>"
      ]
     },
     "execution_count": 175,
     "metadata": {},
     "output_type": "execute_result"
    }
   ],
   "execution_count": 175
  },
  {
   "cell_type": "code",
   "id": "07037e4e",
   "metadata": {
    "ExecuteTime": {
     "end_time": "2024-11-11T21:29:28.176603Z",
     "start_time": "2024-11-11T21:29:28.084209Z"
    }
   },
   "source": [
    "plt.hist(df7.bath, rwidth=0.8)\n",
    "plt.xlabel(\"No. of bathrooms\")\n",
    "plt.ylabel(\"Count\")"
   ],
   "outputs": [
    {
     "data": {
      "text/plain": [
       "Text(0, 0.5, 'Count')"
      ]
     },
     "execution_count": 176,
     "metadata": {},
     "output_type": "execute_result"
    },
    {
     "data": {
      "text/plain": [
       "<Figure size 1500x800 with 1 Axes>"
      ],
      "image/png": "[encoded data removed]"
     },
     "metadata": {},
     "output_type": "display_data"
    }
   ],
   "execution_count": 176
  },
  {
   "cell_type": "code",
   "id": "5ada2e8b",
   "metadata": {
    "ExecuteTime": {
     "end_time": "2024-11-11T21:29:28.355553Z",
     "start_time": "2024-11-11T21:29:28.349998Z"
    }
   },
   "source": [
    "df7[df7.bath>df7.bhk+2]"
   ],
   "outputs": [
    {
     "data": {
      "text/plain": [
       "Empty DataFrame\n",
       "Columns: [location, bhk, total_sqft, bath, price, price_per_sqft]\n",
       "Index: []"
      ],
      "text/html": [
       "<div>\n",
       "<style scoped>\n",
       "    .dataframe tbody tr th:only-of-type {\n",
       "        vertical-align: middle;\n",
       "    }\n",
       "\n",
       "    .dataframe tbody tr th {\n",
       "        vertical-align: top;\n",
       "    }\n",
       "\n",
       "    .dataframe thead th {\n",
       "        text-align: right;\n",
       "    }\n",
       "</style>\n",
       "<table border=\"1\" class=\"dataframe\">\n",
       "  <thead>\n",
       "    <tr style=\"text-align: right;\">\n",
       "      <th></th>\n",
       "      <th>location</th>\n",
       "      <th>bhk</th>\n",
       "      <th>total_sqft</th>\n",
       "      <th>bath</th>\n",
       "      <th>price</th>\n",
       "      <th>price_per_sqft</th>\n",
       "    </tr>\n",
       "  </thead>\n",
       "  <tbody>\n",
       "  </tbody>\n",
       "</table>\n",
       "</div>"
      ]
     },
     "execution_count": 177,
     "metadata": {},
     "output_type": "execute_result"
    }
   ],
   "execution_count": 177
  },
  {
   "cell_type": "code",
   "id": "5d96b306",
   "metadata": {
    "ExecuteTime": {
     "end_time": "2024-11-11T21:29:28.559342Z",
     "start_time": "2024-11-11T21:29:28.550904Z"
    }
   },
   "source": [
    "df8 = df7[df7.bath<df7.bhk+2]\n",
    "df8"
   ],
   "outputs": [
    {
     "data": {
      "text/plain": [
       "     location  bhk  total_sqft  bath    price  price_per_sqft\n",
       "0      Agadir    1        1123   1.0   766352      682.414960\n",
       "1      Agadir    4        1900   2.0  1174350      618.078947\n",
       "2      Agadir    4        1502   2.0   839289      558.780959\n",
       "3      Agadir    1        1104   2.0   735660      666.358696\n",
       "4      Agadir    5        3061   3.0  1797239      587.141130\n",
       "...       ...  ...         ...   ...      ...             ...\n",
       "6025    other    4        2094   2.0  1091093      521.056829\n",
       "6026    other    2         877   2.0   567807      647.442417\n",
       "6027    other    5        3436   3.0  1849113      538.158615\n",
       "6028    other    5        2571   3.0  1238178      481.593932\n",
       "6029    other    4        2009   2.0  1099323      547.199104\n",
       "\n",
       "[4284 rows x 6 columns]"
      ],
      "text/html": [
       "<div>\n",
       "<style scoped>\n",
       "    .dataframe tbody tr th:only-of-type {\n",
       "        vertical-align: middle;\n",
       "    }\n",
       "\n",
       "    .dataframe tbody tr th {\n",
       "        vertical-align: top;\n",
       "    }\n",
       "\n",
       "    .dataframe thead th {\n",
       "        text-align: right;\n",
       "    }\n",
       "</style>\n",
       "<table border=\"1\" class=\"dataframe\">\n",
       "  <thead>\n",
       "    <tr style=\"text-align: right;\">\n",
       "      <th></th>\n",
       "      <th>location</th>\n",
       "      <th>bhk</th>\n",
       "      <th>total_sqft</th>\n",
       "      <th>bath</th>\n",
       "      <th>price</th>\n",
       "      <th>price_per_sqft</th>\n",
       "    </tr>\n",
       "  </thead>\n",
       "  <tbody>\n",
       "    <tr>\n",
       "      <th>0</th>\n",
       "      <td>Agadir</td>\n",
       "      <td>1</td>\n",
       "      <td>1123</td>\n",
       "      <td>1.0</td>\n",
       "      <td>766352</td>\n",
       "      <td>682.414960</td>\n",
       "    </tr>\n",
       "    <tr>\n",
       "      <th>1</th>\n",
       "      <td>Agadir</td>\n",
       "      <td>4</td>\n",
       "      <td>1900</td>\n",
       "      <td>2.0</td>\n",
       "      <td>1174350</td>\n",
       "      <td>618.078947</td>\n",
       "    </tr>\n",
       "    <tr>\n",
       "      <th>2</th>\n",
       "      <td>Agadir</td>\n",
       "      <td>4</td>\n",
       "      <td>1502</td>\n",
       "      <td>2.0</td>\n",
       "      <td>839289</td>\n",
       "      <td>558.780959</td>\n",
       "    </tr>\n",
       "    <tr>\n",
       "      <th>3</th>\n",
       "      <td>Agadir</td>\n",
       "      <td>1</td>\n",
       "      <td>1104</td>\n",
       "      <td>2.0</td>\n",
       "      <td>735660</td>\n",
       "      <td>666.358696</td>\n",
       "    </tr>\n",
       "    <tr>\n",
       "      <th>4</th>\n",
       "      <td>Agadir</td>\n",
       "      <td>5</td>\n",
       "      <td>3061</td>\n",
       "      <td>3.0</td>\n",
       "      <td>1797239</td>\n",
       "      <td>587.141130</td>\n",
       "    </tr>\n",
       "    <tr>\n",
       "      <th>...</th>\n",
       "      <td>...</td>\n",
       "      <td>...</td>\n",
       "      <td>...</td>\n",
       "      <td>...</td>\n",
       "      <td>...</td>\n",
       "      <td>...</td>\n",
       "    </tr>\n",
       "    <tr>\n",
       "      <th>6025</th>\n",
       "      <td>other</td>\n",
       "      <td>4</td>\n",
       "      <td>2094</td>\n",
       "      <td>2.0</td>\n",
       "      <td>1091093</td>\n",
       "      <td>521.056829</td>\n",
       "    </tr>\n",
       "    <tr>\n",
       "      <th>6026</th>\n",
       "      <td>other</td>\n",
       "      <td>2</td>\n",
       "      <td>877</td>\n",
       "      <td>2.0</td>\n",
       "      <td>567807</td>\n",
       "      <td>647.442417</td>\n",
       "    </tr>\n",
       "    <tr>\n",
       "      <th>6027</th>\n",
       "      <td>other</td>\n",
       "      <td>5</td>\n",
       "      <td>3436</td>\n",
       "      <td>3.0</td>\n",
       "      <td>1849113</td>\n",
       "      <td>538.158615</td>\n",
       "    </tr>\n",
       "    <tr>\n",
       "      <th>6028</th>\n",
       "      <td>other</td>\n",
       "      <td>5</td>\n",
       "      <td>2571</td>\n",
       "      <td>3.0</td>\n",
       "      <td>1238178</td>\n",
       "      <td>481.593932</td>\n",
       "    </tr>\n",
       "    <tr>\n",
       "      <th>6029</th>\n",
       "      <td>other</td>\n",
       "      <td>4</td>\n",
       "      <td>2009</td>\n",
       "      <td>2.0</td>\n",
       "      <td>1099323</td>\n",
       "      <td>547.199104</td>\n",
       "    </tr>\n",
       "  </tbody>\n",
       "</table>\n",
       "<p>4284 rows × 6 columns</p>\n",
       "</div>"
      ]
     },
     "execution_count": 178,
     "metadata": {},
     "output_type": "execute_result"
    }
   ],
   "execution_count": 178
  },
  {
   "cell_type": "markdown",
   "id": "8ffc37ee",
   "metadata": {},
   "source": [
    "## Dataset preparation for Model building: By final removal of engineered columns"
   ]
  },
  {
   "cell_type": "code",
   "id": "a0428836",
   "metadata": {
    "ExecuteTime": {
     "end_time": "2024-11-11T21:29:28.859827Z",
     "start_time": "2024-11-11T21:29:28.853407Z"
    }
   },
   "source": [
    "df9 = df8.drop(['price_per_sqft'],axis='columns')\n",
    "df9.head()"
   ],
   "outputs": [
    {
     "data": {
      "text/plain": [
       "  location  bhk  total_sqft  bath    price\n",
       "0   Agadir    1        1123   1.0   766352\n",
       "1   Agadir    4        1900   2.0  1174350\n",
       "2   Agadir    4        1502   2.0   839289\n",
       "3   Agadir    1        1104   2.0   735660\n",
       "4   Agadir    5        3061   3.0  1797239"
      ],
      "text/html": [
       "<div>\n",
       "<style scoped>\n",
       "    .dataframe tbody tr th:only-of-type {\n",
       "        vertical-align: middle;\n",
       "    }\n",
       "\n",
       "    .dataframe tbody tr th {\n",
       "        vertical-align: top;\n",
       "    }\n",
       "\n",
       "    .dataframe thead th {\n",
       "        text-align: right;\n",
       "    }\n",
       "</style>\n",
       "<table border=\"1\" class=\"dataframe\">\n",
       "  <thead>\n",
       "    <tr style=\"text-align: right;\">\n",
       "      <th></th>\n",
       "      <th>location</th>\n",
       "      <th>bhk</th>\n",
       "      <th>total_sqft</th>\n",
       "      <th>bath</th>\n",
       "      <th>price</th>\n",
       "    </tr>\n",
       "  </thead>\n",
       "  <tbody>\n",
       "    <tr>\n",
       "      <th>0</th>\n",
       "      <td>Agadir</td>\n",
       "      <td>1</td>\n",
       "      <td>1123</td>\n",
       "      <td>1.0</td>\n",
       "      <td>766352</td>\n",
       "    </tr>\n",
       "    <tr>\n",
       "      <th>1</th>\n",
       "      <td>Agadir</td>\n",
       "      <td>4</td>\n",
       "      <td>1900</td>\n",
       "      <td>2.0</td>\n",
       "      <td>1174350</td>\n",
       "    </tr>\n",
       "    <tr>\n",
       "      <th>2</th>\n",
       "      <td>Agadir</td>\n",
       "      <td>4</td>\n",
       "      <td>1502</td>\n",
       "      <td>2.0</td>\n",
       "      <td>839289</td>\n",
       "    </tr>\n",
       "    <tr>\n",
       "      <th>3</th>\n",
       "      <td>Agadir</td>\n",
       "      <td>1</td>\n",
       "      <td>1104</td>\n",
       "      <td>2.0</td>\n",
       "      <td>735660</td>\n",
       "    </tr>\n",
       "    <tr>\n",
       "      <th>4</th>\n",
       "      <td>Agadir</td>\n",
       "      <td>5</td>\n",
       "      <td>3061</td>\n",
       "      <td>3.0</td>\n",
       "      <td>1797239</td>\n",
       "    </tr>\n",
       "  </tbody>\n",
       "</table>\n",
       "</div>"
      ]
     },
     "execution_count": 179,
     "metadata": {},
     "output_type": "execute_result"
    }
   ],
   "execution_count": 179
  },
  {
   "cell_type": "code",
   "id": "2da31cb3",
   "metadata": {
    "ExecuteTime": {
     "end_time": "2024-11-11T21:29:29.100336Z",
     "start_time": "2024-11-11T21:29:29.086108Z"
    }
   },
   "source": [
    "dum = pd.get_dummies(df9.location)\n",
    "dum"
   ],
   "outputs": [
    {
     "data": {
      "text/plain": [
       "      Agadir  Azilal  Azrou  Beni Mellal  Berrched  Bjaad  Casablanca  Dakhla  \\\n",
       "0       True   False  False        False     False  False       False   False   \n",
       "1       True   False  False        False     False  False       False   False   \n",
       "2       True   False  False        False     False  False       False   False   \n",
       "3       True   False  False        False     False  False       False   False   \n",
       "4       True   False  False        False     False  False       False   False   \n",
       "...      ...     ...    ...          ...       ...    ...         ...     ...   \n",
       "6025   False   False  False        False     False  False       False   False   \n",
       "6026   False   False  False        False     False  False       False   False   \n",
       "6027   False   False  False        False     False  False       False   False   \n",
       "6028   False   False  False        False     False  False       False   False   \n",
       "6029   False   False  False        False     False  False       False   False   \n",
       "\n",
       "      EL Jadida  Essaouira  ...  Ourzazat   Safi  Settat  Sidi ifni  Tanger  \\\n",
       "0         False      False  ...     False  False   False      False   False   \n",
       "1         False      False  ...     False  False   False      False   False   \n",
       "2         False      False  ...     False  False   False      False   False   \n",
       "3         False      False  ...     False  False   False      False   False   \n",
       "4         False      False  ...     False  False   False      False   False   \n",
       "...         ...        ...  ...       ...    ...     ...        ...     ...   \n",
       "6025      False      False  ...     False  False   False      False   False   \n",
       "6026      False      False  ...     False  False   False      False   False   \n",
       "6027      False      False  ...     False  False   False      False   False   \n",
       "6028      False      False  ...     False  False   False      False   False   \n",
       "6029      False      False  ...     False  False   False      False   False   \n",
       "\n",
       "       Tata   Taza  Tetouan  Zagoura  other  \n",
       "0     False  False    False    False  False  \n",
       "1     False  False    False    False  False  \n",
       "2     False  False    False    False  False  \n",
       "3     False  False    False    False  False  \n",
       "4     False  False    False    False  False  \n",
       "...     ...    ...      ...      ...    ...  \n",
       "6025  False  False    False    False   True  \n",
       "6026  False  False    False    False   True  \n",
       "6027  False  False    False    False   True  \n",
       "6028  False  False    False    False   True  \n",
       "6029  False  False    False    False   True  \n",
       "\n",
       "[4284 rows x 34 columns]"
      ],
      "text/html": [
       "<div>\n",
       "<style scoped>\n",
       "    .dataframe tbody tr th:only-of-type {\n",
       "        vertical-align: middle;\n",
       "    }\n",
       "\n",
       "    .dataframe tbody tr th {\n",
       "        vertical-align: top;\n",
       "    }\n",
       "\n",
       "    .dataframe thead th {\n",
       "        text-align: right;\n",
       "    }\n",
       "</style>\n",
       "<table border=\"1\" class=\"dataframe\">\n",
       "  <thead>\n",
       "    <tr style=\"text-align: right;\">\n",
       "      <th></th>\n",
       "      <th>Agadir</th>\n",
       "      <th>Azilal</th>\n",
       "      <th>Azrou</th>\n",
       "      <th>Beni Mellal</th>\n",
       "      <th>Berrched</th>\n",
       "      <th>Bjaad</th>\n",
       "      <th>Casablanca</th>\n",
       "      <th>Dakhla</th>\n",
       "      <th>EL Jadida</th>\n",
       "      <th>Essaouira</th>\n",
       "      <th>...</th>\n",
       "      <th>Ourzazat</th>\n",
       "      <th>Safi</th>\n",
       "      <th>Settat</th>\n",
       "      <th>Sidi ifni</th>\n",
       "      <th>Tanger</th>\n",
       "      <th>Tata</th>\n",
       "      <th>Taza</th>\n",
       "      <th>Tetouan</th>\n",
       "      <th>Zagoura</th>\n",
       "      <th>other</th>\n",
       "    </tr>\n",
       "  </thead>\n",
       "  <tbody>\n",
       "    <tr>\n",
       "      <th>0</th>\n",
       "      <td>True</td>\n",
       "      <td>False</td>\n",
       "      <td>False</td>\n",
       "      <td>False</td>\n",
       "      <td>False</td>\n",
       "      <td>False</td>\n",
       "      <td>False</td>\n",
       "      <td>False</td>\n",
       "      <td>False</td>\n",
       "      <td>False</td>\n",
       "      <td>...</td>\n",
       "      <td>False</td>\n",
       "      <td>False</td>\n",
       "      <td>False</td>\n",
       "      <td>False</td>\n",
       "      <td>False</td>\n",
       "      <td>False</td>\n",
       "      <td>False</td>\n",
       "      <td>False</td>\n",
       "      <td>False</td>\n",
       "      <td>False</td>\n",
       "    </tr>\n",
       "    <tr>\n",
       "      <th>1</th>\n",
       "      <td>True</td>\n",
       "      <td>False</td>\n",
       "      <td>False</td>\n",
       "      <td>False</td>\n",
       "      <td>False</td>\n",
       "      <td>False</td>\n",
       "      <td>False</td>\n",
       "      <td>False</td>\n",
       "      <td>False</td>\n",
       "      <td>False</td>\n",
       "      <td>...</td>\n",
       "      <td>False</td>\n",
       "      <td>False</td>\n",
       "      <td>False</td>\n",
       "      <td>False</td>\n",
       "      <td>False</td>\n",
       "      <td>False</td>\n",
       "      <td>False</td>\n",
       "      <td>False</td>\n",
       "      <td>False</td>\n",
       "      <td>False</td>\n",
       "    </tr>\n",
       "    <tr>\n",
       "      <th>2</th>\n",
       "      <td>True</td>\n",
       "      <td>False</td>\n",
       "      <td>False</td>\n",
       "      <td>False</td>\n",
       "      <td>False</td>\n",
       "      <td>False</td>\n",
       "      <td>False</td>\n",
       "      <td>False</td>\n",
       "      <td>False</td>\n",
       "      <td>False</td>\n",
       "      <td>...</td>\n",
       "      <td>False</td>\n",
       "      <td>False</td>\n",
       "      <td>False</td>\n",
       "      <td>False</td>\n",
       "      <td>False</td>\n",
       "      <td>False</td>\n",
       "      <td>False</td>\n",
       "      <td>False</td>\n",
       "      <td>False</td>\n",
       "      <td>False</td>\n",
       "    </tr>\n",
       "    <tr>\n",
       "      <th>3</th>\n",
       "      <td>True</td>\n",
       "      <td>False</td>\n",
       "      <td>False</td>\n",
       "      <td>False</td>\n",
       "      <td>False</td>\n",
       "      <td>False</td>\n",
       "      <td>False</td>\n",
       "      <td>False</td>\n",
       "      <td>False</td>\n",
       "      <td>False</td>\n",
       "      <td>...</td>\n",
       "      <td>False</td>\n",
       "      <td>False</td>\n",
       "      <td>False</td>\n",
       "      <td>False</td>\n",
       "      <td>False</td>\n",
       "      <td>False</td>\n",
       "      <td>False</td>\n",
       "      <td>False</td>\n",
       "      <td>False</td>\n",
       "      <td>False</td>\n",
       "    </tr>\n",
       "    <tr>\n",
       "      <th>4</th>\n",
       "      <td>True</td>\n",
       "      <td>False</td>\n",
       "      <td>False</td>\n",
       "      <td>False</td>\n",
       "      <td>False</td>\n",
       "      <td>False</td>\n",
       "      <td>False</td>\n",
       "      <td>False</td>\n",
       "      <td>False</td>\n",
       "      <td>False</td>\n",
       "      <td>...</td>\n",
       "      <td>False</td>\n",
       "      <td>False</td>\n",
       "      <td>False</td>\n",
       "      <td>False</td>\n",
       "      <td>False</td>\n",
       "      <td>False</td>\n",
       "      <td>False</td>\n",
       "      <td>False</td>\n",
       "      <td>False</td>\n",
       "      <td>False</td>\n",
       "    </tr>\n",
       "    <tr>\n",
       "      <th>...</th>\n",
       "      <td>...</td>\n",
       "      <td>...</td>\n",
       "      <td>...</td>\n",
       "      <td>...</td>\n",
       "      <td>...</td>\n",
       "      <td>...</td>\n",
       "      <td>...</td>\n",
       "      <td>...</td>\n",
       "      <td>...</td>\n",
       "      <td>...</td>\n",
       "      <td>...</td>\n",
       "      <td>...</td>\n",
       "      <td>...</td>\n",
       "      <td>...</td>\n",
       "      <td>...</td>\n",
       "      <td>...</td>\n",
       "      <td>...</td>\n",
       "      <td>...</td>\n",
       "      <td>...</td>\n",
       "      <td>...</td>\n",
       "      <td>...</td>\n",
       "    </tr>\n",
       "    <tr>\n",
       "      <th>6025</th>\n",
       "      <td>False</td>\n",
       "      <td>False</td>\n",
       "      <td>False</td>\n",
       "      <td>False</td>\n",
       "      <td>False</td>\n",
       "      <td>False</td>\n",
       "      <td>False</td>\n",
       "      <td>False</td>\n",
       "      <td>False</td>\n",
       "      <td>False</td>\n",
       "      <td>...</td>\n",
       "      <td>False</td>\n",
       "      <td>False</td>\n",
       "      <td>False</td>\n",
       "      <td>False</td>\n",
       "      <td>False</td>\n",
       "      <td>False</td>\n",
       "      <td>False</td>\n",
       "      <td>False</td>\n",
       "      <td>False</td>\n",
       "      <td>True</td>\n",
       "    </tr>\n",
       "    <tr>\n",
       "      <th>6026</th>\n",
       "      <td>False</td>\n",
       "      <td>False</td>\n",
       "      <td>False</td>\n",
       "      <td>False</td>\n",
       "      <td>False</td>\n",
       "      <td>False</td>\n",
       "      <td>False</td>\n",
       "      <td>False</td>\n",
       "      <td>False</td>\n",
       "      <td>False</td>\n",
       "      <td>...</td>\n",
       "      <td>False</td>\n",
       "      <td>False</td>\n",
       "      <td>False</td>\n",
       "      <td>False</td>\n",
       "      <td>False</td>\n",
       "      <td>False</td>\n",
       "      <td>False</td>\n",
       "      <td>False</td>\n",
       "      <td>False</td>\n",
       "      <td>True</td>\n",
       "    </tr>\n",
       "    <tr>\n",
       "      <th>6027</th>\n",
       "      <td>False</td>\n",
       "      <td>False</td>\n",
       "      <td>False</td>\n",
       "      <td>False</td>\n",
       "      <td>False</td>\n",
       "      <td>False</td>\n",
       "      <td>False</td>\n",
       "      <td>False</td>\n",
       "      <td>False</td>\n",
       "      <td>False</td>\n",
       "      <td>...</td>\n",
       "      <td>False</td>\n",
       "      <td>False</td>\n",
       "      <td>False</td>\n",
       "      <td>False</td>\n",
       "      <td>False</td>\n",
       "      <td>False</td>\n",
       "      <td>False</td>\n",
       "      <td>False</td>\n",
       "      <td>False</td>\n",
       "      <td>True</td>\n",
       "    </tr>\n",
       "    <tr>\n",
       "      <th>6028</th>\n",
       "      <td>False</td>\n",
       "      <td>False</td>\n",
       "      <td>False</td>\n",
       "      <td>False</td>\n",
       "      <td>False</td>\n",
       "      <td>False</td>\n",
       "      <td>False</td>\n",
       "      <td>False</td>\n",
       "      <td>False</td>\n",
       "      <td>False</td>\n",
       "      <td>...</td>\n",
       "      <td>False</td>\n",
       "      <td>False</td>\n",
       "      <td>False</td>\n",
       "      <td>False</td>\n",
       "      <td>False</td>\n",
       "      <td>False</td>\n",
       "      <td>False</td>\n",
       "      <td>False</td>\n",
       "      <td>False</td>\n",
       "      <td>True</td>\n",
       "    </tr>\n",
       "    <tr>\n",
       "      <th>6029</th>\n",
       "      <td>False</td>\n",
       "      <td>False</td>\n",
       "      <td>False</td>\n",
       "      <td>False</td>\n",
       "      <td>False</td>\n",
       "      <td>False</td>\n",
       "      <td>False</td>\n",
       "      <td>False</td>\n",
       "      <td>False</td>\n",
       "      <td>False</td>\n",
       "      <td>...</td>\n",
       "      <td>False</td>\n",
       "      <td>False</td>\n",
       "      <td>False</td>\n",
       "      <td>False</td>\n",
       "      <td>False</td>\n",
       "      <td>False</td>\n",
       "      <td>False</td>\n",
       "      <td>False</td>\n",
       "      <td>False</td>\n",
       "      <td>True</td>\n",
       "    </tr>\n",
       "  </tbody>\n",
       "</table>\n",
       "<p>4284 rows × 34 columns</p>\n",
       "</div>"
      ]
     },
     "execution_count": 180,
     "metadata": {},
     "output_type": "execute_result"
    }
   ],
   "execution_count": 180
  },
  {
   "cell_type": "code",
   "id": "e90f4cf8",
   "metadata": {
    "ExecuteTime": {
     "end_time": "2024-11-11T21:29:29.326324Z",
     "start_time": "2024-11-11T21:29:29.314868Z"
    }
   },
   "source": [
    "\n",
    "df10 = pd.concat([df9,dum.drop('other',axis='columns')],axis='columns')\n",
    "df11 = df10.drop('location',axis=1)\n",
    "df11"
   ],
   "outputs": [
    {
     "data": {
      "text/plain": [
       "      bhk  total_sqft  bath    price  Agadir  Azilal  Azrou  Beni Mellal  \\\n",
       "0       1        1123   1.0   766352    True   False  False        False   \n",
       "1       4        1900   2.0  1174350    True   False  False        False   \n",
       "2       4        1502   2.0   839289    True   False  False        False   \n",
       "3       1        1104   2.0   735660    True   False  False        False   \n",
       "4       5        3061   3.0  1797239    True   False  False        False   \n",
       "...   ...         ...   ...      ...     ...     ...    ...          ...   \n",
       "6025    4        2094   2.0  1091093   False   False  False        False   \n",
       "6026    2         877   2.0   567807   False   False  False        False   \n",
       "6027    5        3436   3.0  1849113   False   False  False        False   \n",
       "6028    5        2571   3.0  1238178   False   False  False        False   \n",
       "6029    4        2009   2.0  1099323   False   False  False        False   \n",
       "\n",
       "      Berrched  Bjaad  ...  Oujda  Ourzazat   Safi  Settat  Sidi ifni  Tanger  \\\n",
       "0        False  False  ...  False     False  False   False      False   False   \n",
       "1        False  False  ...  False     False  False   False      False   False   \n",
       "2        False  False  ...  False     False  False   False      False   False   \n",
       "3        False  False  ...  False     False  False   False      False   False   \n",
       "4        False  False  ...  False     False  False   False      False   False   \n",
       "...        ...    ...  ...    ...       ...    ...     ...        ...     ...   \n",
       "6025     False  False  ...  False     False  False   False      False   False   \n",
       "6026     False  False  ...  False     False  False   False      False   False   \n",
       "6027     False  False  ...  False     False  False   False      False   False   \n",
       "6028     False  False  ...  False     False  False   False      False   False   \n",
       "6029     False  False  ...  False     False  False   False      False   False   \n",
       "\n",
       "       Tata   Taza  Tetouan  Zagoura  \n",
       "0     False  False    False    False  \n",
       "1     False  False    False    False  \n",
       "2     False  False    False    False  \n",
       "3     False  False    False    False  \n",
       "4     False  False    False    False  \n",
       "...     ...    ...      ...      ...  \n",
       "6025  False  False    False    False  \n",
       "6026  False  False    False    False  \n",
       "6027  False  False    False    False  \n",
       "6028  False  False    False    False  \n",
       "6029  False  False    False    False  \n",
       "\n",
       "[4284 rows x 37 columns]"
      ],
      "text/html": [
       "<div>\n",
       "<style scoped>\n",
       "    .dataframe tbody tr th:only-of-type {\n",
       "        vertical-align: middle;\n",
       "    }\n",
       "\n",
       "    .dataframe tbody tr th {\n",
       "        vertical-align: top;\n",
       "    }\n",
       "\n",
       "    .dataframe thead th {\n",
       "        text-align: right;\n",
       "    }\n",
       "</style>\n",
       "<table border=\"1\" class=\"dataframe\">\n",
       "  <thead>\n",
       "    <tr style=\"text-align: right;\">\n",
       "      <th></th>\n",
       "      <th>bhk</th>\n",
       "      <th>total_sqft</th>\n",
       "      <th>bath</th>\n",
       "      <th>price</th>\n",
       "      <th>Agadir</th>\n",
       "      <th>Azilal</th>\n",
       "      <th>Azrou</th>\n",
       "      <th>Beni Mellal</th>\n",
       "      <th>Berrched</th>\n",
       "      <th>Bjaad</th>\n",
       "      <th>...</th>\n",
       "      <th>Oujda</th>\n",
       "      <th>Ourzazat</th>\n",
       "      <th>Safi</th>\n",
       "      <th>Settat</th>\n",
       "      <th>Sidi ifni</th>\n",
       "      <th>Tanger</th>\n",
       "      <th>Tata</th>\n",
       "      <th>Taza</th>\n",
       "      <th>Tetouan</th>\n",
       "      <th>Zagoura</th>\n",
       "    </tr>\n",
       "  </thead>\n",
       "  <tbody>\n",
       "    <tr>\n",
       "      <th>0</th>\n",
       "      <td>1</td>\n",
       "      <td>1123</td>\n",
       "      <td>1.0</td>\n",
       "      <td>766352</td>\n",
       "      <td>True</td>\n",
       "      <td>False</td>\n",
       "      <td>False</td>\n",
       "      <td>False</td>\n",
       "      <td>False</td>\n",
       "      <td>False</td>\n",
       "      <td>...</td>\n",
       "      <td>False</td>\n",
       "      <td>False</td>\n",
       "      <td>False</td>\n",
       "      <td>False</td>\n",
       "      <td>False</td>\n",
       "      <td>False</td>\n",
       "      <td>False</td>\n",
       "      <td>False</td>\n",
       "      <td>False</td>\n",
       "      <td>False</td>\n",
       "    </tr>\n",
       "    <tr>\n",
       "      <th>1</th>\n",
       "      <td>4</td>\n",
       "      <td>1900</td>\n",
       "      <td>2.0</td>\n",
       "      <td>1174350</td>\n",
       "      <td>True</td>\n",
       "      <td>False</td>\n",
       "      <td>False</td>\n",
       "      <td>False</td>\n",
       "      <td>False</td>\n",
       "      <td>False</td>\n",
       "      <td>...</td>\n",
       "      <td>False</td>\n",
       "      <td>False</td>\n",
       "      <td>False</td>\n",
       "      <td>False</td>\n",
       "      <td>False</td>\n",
       "      <td>False</td>\n",
       "      <td>False</td>\n",
       "      <td>False</td>\n",
       "      <td>False</td>\n",
       "      <td>False</td>\n",
       "    </tr>\n",
       "    <tr>\n",
       "      <th>2</th>\n",
       "      <td>4</td>\n",
       "      <td>1502</td>\n",
       "      <td>2.0</td>\n",
       "      <td>839289</td>\n",
       "      <td>True</td>\n",
       "      <td>False</td>\n",
       "      <td>False</td>\n",
       "      <td>False</td>\n",
       "      <td>False</td>\n",
       "      <td>False</td>\n",
       "      <td>...</td>\n",
       "      <td>False</td>\n",
       "      <td>False</td>\n",
       "      <td>False</td>\n",
       "      <td>False</td>\n",
       "      <td>False</td>\n",
       "      <td>False</td>\n",
       "      <td>False</td>\n",
       "      <td>False</td>\n",
       "      <td>False</td>\n",
       "      <td>False</td>\n",
       "    </tr>\n",
       "    <tr>\n",
       "      <th>3</th>\n",
       "      <td>1</td>\n",
       "      <td>1104</td>\n",
       "      <td>2.0</td>\n",
       "      <td>735660</td>\n",
       "      <td>True</td>\n",
       "      <td>False</td>\n",
       "      <td>False</td>\n",
       "      <td>False</td>\n",
       "      <td>False</td>\n",
       "      <td>False</td>\n",
       "      <td>...</td>\n",
       "      <td>False</td>\n",
       "      <td>False</td>\n",
       "      <td>False</td>\n",
       "      <td>False</td>\n",
       "      <td>False</td>\n",
       "      <td>False</td>\n",
       "      <td>False</td>\n",
       "      <td>False</td>\n",
       "      <td>False</td>\n",
       "      <td>False</td>\n",
       "    </tr>\n",
       "    <tr>\n",
       "      <th>4</th>\n",
       "      <td>5</td>\n",
       "      <td>3061</td>\n",
       "      <td>3.0</td>\n",
       "      <td>1797239</td>\n",
       "      <td>True</td>\n",
       "      <td>False</td>\n",
       "      <td>False</td>\n",
       "      <td>False</td>\n",
       "      <td>False</td>\n",
       "      <td>False</td>\n",
       "      <td>...</td>\n",
       "      <td>False</td>\n",
       "      <td>False</td>\n",
       "      <td>False</td>\n",
       "      <td>False</td>\n",
       "      <td>False</td>\n",
       "      <td>False</td>\n",
       "      <td>False</td>\n",
       "      <td>False</td>\n",
       "      <td>False</td>\n",
       "      <td>False</td>\n",
       "    </tr>\n",
       "    <tr>\n",
       "      <th>...</th>\n",
       "      <td>...</td>\n",
       "      <td>...</td>\n",
       "      <td>...</td>\n",
       "      <td>...</td>\n",
       "      <td>...</td>\n",
       "      <td>...</td>\n",
       "      <td>...</td>\n",
       "      <td>...</td>\n",
       "      <td>...</td>\n",
       "      <td>...</td>\n",
       "      <td>...</td>\n",
       "      <td>...</td>\n",
       "      <td>...</td>\n",
       "      <td>...</td>\n",
       "      <td>...</td>\n",
       "      <td>...</td>\n",
       "      <td>...</td>\n",
       "      <td>...</td>\n",
       "      <td>...</td>\n",
       "      <td>...</td>\n",
       "      <td>...</td>\n",
       "    </tr>\n",
       "    <tr>\n",
       "      <th>6025</th>\n",
       "      <td>4</td>\n",
       "      <td>2094</td>\n",
       "      <td>2.0</td>\n",
       "      <td>1091093</td>\n",
       "      <td>False</td>\n",
       "      <td>False</td>\n",
       "      <td>False</td>\n",
       "      <td>False</td>\n",
       "      <td>False</td>\n",
       "      <td>False</td>\n",
       "      <td>...</td>\n",
       "      <td>False</td>\n",
       "      <td>False</td>\n",
       "      <td>False</td>\n",
       "      <td>False</td>\n",
       "      <td>False</td>\n",
       "      <td>False</td>\n",
       "      <td>False</td>\n",
       "      <td>False</td>\n",
       "      <td>False</td>\n",
       "      <td>False</td>\n",
       "    </tr>\n",
       "    <tr>\n",
       "      <th>6026</th>\n",
       "      <td>2</td>\n",
       "      <td>877</td>\n",
       "      <td>2.0</td>\n",
       "      <td>567807</td>\n",
       "      <td>False</td>\n",
       "      <td>False</td>\n",
       "      <td>False</td>\n",
       "      <td>False</td>\n",
       "      <td>False</td>\n",
       "      <td>False</td>\n",
       "      <td>...</td>\n",
       "      <td>False</td>\n",
       "      <td>False</td>\n",
       "      <td>False</td>\n",
       "      <td>False</td>\n",
       "      <td>False</td>\n",
       "      <td>False</td>\n",
       "      <td>False</td>\n",
       "      <td>False</td>\n",
       "      <td>False</td>\n",
       "      <td>False</td>\n",
       "    </tr>\n",
       "    <tr>\n",
       "      <th>6027</th>\n",
       "      <td>5</td>\n",
       "      <td>3436</td>\n",
       "      <td>3.0</td>\n",
       "      <td>1849113</td>\n",
       "      <td>False</td>\n",
       "      <td>False</td>\n",
       "      <td>False</td>\n",
       "      <td>False</td>\n",
       "      <td>False</td>\n",
       "      <td>False</td>\n",
       "      <td>...</td>\n",
       "      <td>False</td>\n",
       "      <td>False</td>\n",
       "      <td>False</td>\n",
       "      <td>False</td>\n",
       "      <td>False</td>\n",
       "      <td>False</td>\n",
       "      <td>False</td>\n",
       "      <td>False</td>\n",
       "      <td>False</td>\n",
       "      <td>False</td>\n",
       "    </tr>\n",
       "    <tr>\n",
       "      <th>6028</th>\n",
       "      <td>5</td>\n",
       "      <td>2571</td>\n",
       "      <td>3.0</td>\n",
       "      <td>1238178</td>\n",
       "      <td>False</td>\n",
       "      <td>False</td>\n",
       "      <td>False</td>\n",
       "      <td>False</td>\n",
       "      <td>False</td>\n",
       "      <td>False</td>\n",
       "      <td>...</td>\n",
       "      <td>False</td>\n",
       "      <td>False</td>\n",
       "      <td>False</td>\n",
       "      <td>False</td>\n",
       "      <td>False</td>\n",
       "      <td>False</td>\n",
       "      <td>False</td>\n",
       "      <td>False</td>\n",
       "      <td>False</td>\n",
       "      <td>False</td>\n",
       "    </tr>\n",
       "    <tr>\n",
       "      <th>6029</th>\n",
       "      <td>4</td>\n",
       "      <td>2009</td>\n",
       "      <td>2.0</td>\n",
       "      <td>1099323</td>\n",
       "      <td>False</td>\n",
       "      <td>False</td>\n",
       "      <td>False</td>\n",
       "      <td>False</td>\n",
       "      <td>False</td>\n",
       "      <td>False</td>\n",
       "      <td>...</td>\n",
       "      <td>False</td>\n",
       "      <td>False</td>\n",
       "      <td>False</td>\n",
       "      <td>False</td>\n",
       "      <td>False</td>\n",
       "      <td>False</td>\n",
       "      <td>False</td>\n",
       "      <td>False</td>\n",
       "      <td>False</td>\n",
       "      <td>False</td>\n",
       "    </tr>\n",
       "  </tbody>\n",
       "</table>\n",
       "<p>4284 rows × 37 columns</p>\n",
       "</div>"
      ]
     },
     "execution_count": 181,
     "metadata": {},
     "output_type": "execute_result"
    }
   ],
   "execution_count": 181
  },
  {
   "cell_type": "markdown",
   "id": "cc6ea305",
   "metadata": {},
   "source": [
    "## Determining X data & y target"
   ]
  },
  {
   "cell_type": "code",
   "id": "19271b49",
   "metadata": {
    "ExecuteTime": {
     "end_time": "2024-11-11T21:29:29.674703Z",
     "start_time": "2024-11-11T21:29:29.665065Z"
    }
   },
   "source": [
    "X = df11.drop('price',axis=1)\n",
    "y = df11.price\n",
    "X.head()"
   ],
   "outputs": [
    {
     "data": {
      "text/plain": [
       "   bhk  total_sqft  bath  Agadir  Azilal  Azrou  Beni Mellal  Berrched  Bjaad  \\\n",
       "0    1        1123   1.0    True   False  False        False     False  False   \n",
       "1    4        1900   2.0    True   False  False        False     False  False   \n",
       "2    4        1502   2.0    True   False  False        False     False  False   \n",
       "3    1        1104   2.0    True   False  False        False     False  False   \n",
       "4    5        3061   3.0    True   False  False        False     False  False   \n",
       "\n",
       "   Casablanca  ...  Oujda  Ourzazat   Safi  Settat  Sidi ifni  Tanger   Tata  \\\n",
       "0       False  ...  False     False  False   False      False   False  False   \n",
       "1       False  ...  False     False  False   False      False   False  False   \n",
       "2       False  ...  False     False  False   False      False   False  False   \n",
       "3       False  ...  False     False  False   False      False   False  False   \n",
       "4       False  ...  False     False  False   False      False   False  False   \n",
       "\n",
       "    Taza  Tetouan  Zagoura  \n",
       "0  False    False    False  \n",
       "1  False    False    False  \n",
       "2  False    False    False  \n",
       "3  False    False    False  \n",
       "4  False    False    False  \n",
       "\n",
       "[5 rows x 36 columns]"
      ],
      "text/html": [
       "<div>\n",
       "<style scoped>\n",
       "    .dataframe tbody tr th:only-of-type {\n",
       "        vertical-align: middle;\n",
       "    }\n",
       "\n",
       "    .dataframe tbody tr th {\n",
       "        vertical-align: top;\n",
       "    }\n",
       "\n",
       "    .dataframe thead th {\n",
       "        text-align: right;\n",
       "    }\n",
       "</style>\n",
       "<table border=\"1\" class=\"dataframe\">\n",
       "  <thead>\n",
       "    <tr style=\"text-align: right;\">\n",
       "      <th></th>\n",
       "      <th>bhk</th>\n",
       "      <th>total_sqft</th>\n",
       "      <th>bath</th>\n",
       "      <th>Agadir</th>\n",
       "      <th>Azilal</th>\n",
       "      <th>Azrou</th>\n",
       "      <th>Beni Mellal</th>\n",
       "      <th>Berrched</th>\n",
       "      <th>Bjaad</th>\n",
       "      <th>Casablanca</th>\n",
       "      <th>...</th>\n",
       "      <th>Oujda</th>\n",
       "      <th>Ourzazat</th>\n",
       "      <th>Safi</th>\n",
       "      <th>Settat</th>\n",
       "      <th>Sidi ifni</th>\n",
       "      <th>Tanger</th>\n",
       "      <th>Tata</th>\n",
       "      <th>Taza</th>\n",
       "      <th>Tetouan</th>\n",
       "      <th>Zagoura</th>\n",
       "    </tr>\n",
       "  </thead>\n",
       "  <tbody>\n",
       "    <tr>\n",
       "      <th>0</th>\n",
       "      <td>1</td>\n",
       "      <td>1123</td>\n",
       "      <td>1.0</td>\n",
       "      <td>True</td>\n",
       "      <td>False</td>\n",
       "      <td>False</td>\n",
       "      <td>False</td>\n",
       "      <td>False</td>\n",
       "      <td>False</td>\n",
       "      <td>False</td>\n",
       "      <td>...</td>\n",
       "      <td>False</td>\n",
       "      <td>False</td>\n",
       "      <td>False</td>\n",
       "      <td>False</td>\n",
       "      <td>False</td>\n",
       "      <td>False</td>\n",
       "      <td>False</td>\n",
       "      <td>False</td>\n",
       "      <td>False</td>\n",
       "      <td>False</td>\n",
       "    </tr>\n",
       "    <tr>\n",
       "      <th>1</th>\n",
       "      <td>4</td>\n",
       "      <td>1900</td>\n",
       "      <td>2.0</td>\n",
       "      <td>True</td>\n",
       "      <td>False</td>\n",
       "      <td>False</td>\n",
       "      <td>False</td>\n",
       "      <td>False</td>\n",
       "      <td>False</td>\n",
       "      <td>False</td>\n",
       "      <td>...</td>\n",
       "      <td>False</td>\n",
       "      <td>False</td>\n",
       "      <td>False</td>\n",
       "      <td>False</td>\n",
       "      <td>False</td>\n",
       "      <td>False</td>\n",
       "      <td>False</td>\n",
       "      <td>False</td>\n",
       "      <td>False</td>\n",
       "      <td>False</td>\n",
       "    </tr>\n",
       "    <tr>\n",
       "      <th>2</th>\n",
       "      <td>4</td>\n",
       "      <td>1502</td>\n",
       "      <td>2.0</td>\n",
       "      <td>True</td>\n",
       "      <td>False</td>\n",
       "      <td>False</td>\n",
       "      <td>False</td>\n",
       "      <td>False</td>\n",
       "      <td>False</td>\n",
       "      <td>False</td>\n",
       "      <td>...</td>\n",
       "      <td>False</td>\n",
       "      <td>False</td>\n",
       "      <td>False</td>\n",
       "      <td>False</td>\n",
       "      <td>False</td>\n",
       "      <td>False</td>\n",
       "      <td>False</td>\n",
       "      <td>False</td>\n",
       "      <td>False</td>\n",
       "      <td>False</td>\n",
       "    </tr>\n",
       "    <tr>\n",
       "      <th>3</th>\n",
       "      <td>1</td>\n",
       "      <td>1104</td>\n",
       "      <td>2.0</td>\n",
       "      <td>True</td>\n",
       "      <td>False</td>\n",
       "      <td>False</td>\n",
       "      <td>False</td>\n",
       "      <td>False</td>\n",
       "      <td>False</td>\n",
       "      <td>False</td>\n",
       "      <td>...</td>\n",
       "      <td>False</td>\n",
       "      <td>False</td>\n",
       "      <td>False</td>\n",
       "      <td>False</td>\n",
       "      <td>False</td>\n",
       "      <td>False</td>\n",
       "      <td>False</td>\n",
       "      <td>False</td>\n",
       "      <td>False</td>\n",
       "      <td>False</td>\n",
       "    </tr>\n",
       "    <tr>\n",
       "      <th>4</th>\n",
       "      <td>5</td>\n",
       "      <td>3061</td>\n",
       "      <td>3.0</td>\n",
       "      <td>True</td>\n",
       "      <td>False</td>\n",
       "      <td>False</td>\n",
       "      <td>False</td>\n",
       "      <td>False</td>\n",
       "      <td>False</td>\n",
       "      <td>False</td>\n",
       "      <td>...</td>\n",
       "      <td>False</td>\n",
       "      <td>False</td>\n",
       "      <td>False</td>\n",
       "      <td>False</td>\n",
       "      <td>False</td>\n",
       "      <td>False</td>\n",
       "      <td>False</td>\n",
       "      <td>False</td>\n",
       "      <td>False</td>\n",
       "      <td>False</td>\n",
       "    </tr>\n",
       "  </tbody>\n",
       "</table>\n",
       "<p>5 rows × 36 columns</p>\n",
       "</div>"
      ]
     },
     "execution_count": 182,
     "metadata": {},
     "output_type": "execute_result"
    }
   ],
   "execution_count": 182
  },
  {
   "cell_type": "code",
   "id": "1aea70e4",
   "metadata": {
    "ExecuteTime": {
     "end_time": "2024-11-11T21:29:29.925355Z",
     "start_time": "2024-11-11T21:29:29.921267Z"
    }
   },
   "source": [
    "y.head() #price"
   ],
   "outputs": [
    {
     "data": {
      "text/plain": [
       "0     766352\n",
       "1    1174350\n",
       "2     839289\n",
       "3     735660\n",
       "4    1797239\n",
       "Name: price, dtype: int64"
      ]
     },
     "execution_count": 183,
     "metadata": {},
     "output_type": "execute_result"
    }
   ],
   "execution_count": 183
  },
  {
   "cell_type": "markdown",
   "id": "1a0171da",
   "metadata": {},
   "source": [
    "## Splitting data for training and testing"
   ]
  },
  {
   "cell_type": "code",
   "id": "b21c56e5",
   "metadata": {
    "ExecuteTime": {
     "end_time": "2024-11-11T21:29:30.259908Z",
     "start_time": "2024-11-11T21:29:30.255208Z"
    }
   },
   "source": [
    "from sklearn.model_selection import train_test_split\n",
    "X_train, X_test, y_train, y_test = train_test_split(X,y,test_size=0.3,random_state=10)"
   ],
   "outputs": [],
   "execution_count": 184
  },
  {
   "cell_type": "markdown",
   "id": "b563f06a",
   "metadata": {},
   "source": [
    "## Linear Prediction model"
   ]
  },
  {
   "cell_type": "code",
   "id": "fe99db4b",
   "metadata": {
    "ExecuteTime": {
     "end_time": "2024-11-11T21:29:30.662698Z",
     "start_time": "2024-11-11T21:29:30.634200Z"
    }
   },
   "source": [
    "from sklearn.linear_model import LinearRegression\n",
    "lrm = LinearRegression()\n",
    "lrm.fit(X_train,y_train)\n",
    "lrm.score(X_test,y_test)\n"
   ],
   "outputs": [
    {
     "data": {
      "text/plain": [
       "0.8874851806453454"
      ]
     },
     "execution_count": 185,
     "metadata": {},
     "output_type": "execute_result"
    }
   ],
   "execution_count": 185
  },
  {
   "cell_type": "code",
   "id": "5e7c57eb",
   "metadata": {
    "ExecuteTime": {
     "end_time": "2024-11-11T21:29:31.102168Z",
     "start_time": "2024-11-11T21:29:30.889092Z"
    }
   },
   "source": [
    "from sklearn.model_selection import ShuffleSplit\n",
    "from sklearn.model_selection import cross_val_score\n",
    "\n",
    "cv = ShuffleSplit(n_splits=5, test_size=0.2, random_state=0)\n",
    "cross_val_score(LinearRegression(), X, y, cv=cv)"
   ],
   "outputs": [
    {
     "data": {
      "text/plain": [
       "array([0.89494803, 0.89085166, 0.89840955, 0.8860012 , 0.89465322])"
      ]
     },
     "execution_count": 186,
     "metadata": {},
     "output_type": "execute_result"
    }
   ],
   "execution_count": 186
  },
  {
   "cell_type": "markdown",
   "id": "2420ab8a",
   "metadata": {},
   "source": [
    "## Best model with best parameters finding function"
   ]
  },
  {
   "cell_type": "code",
   "id": "604d0653",
   "metadata": {
    "ExecuteTime": {
     "end_time": "2024-11-11T21:29:31.269380Z",
     "start_time": "2024-11-11T21:29:31.265872Z"
    }
   },
   "source": [
    "from sklearn.model_selection import GridSearchCV\n",
    "from sklearn.linear_model import Lasso\n",
    "from sklearn.tree import DecisionTreeRegressor"
   ],
   "outputs": [],
   "execution_count": 187
  },
  {
   "cell_type": "code",
   "id": "956797a4",
   "metadata": {
    "ExecuteTime": {
     "end_time": "2024-11-11T21:29:31.839986Z",
     "start_time": "2024-11-11T21:29:31.836006Z"
    }
   },
   "source": [
    "def find_best_model_by_gcv(X,y):\n",
    "    ml_algos = {\n",
    "        'lin_reg':{\n",
    "            'model': LinearRegression(),\n",
    "            'params':{\n",
    "                'normalize': [True, False]\n",
    "            }\n",
    "        },\n",
    "        'lasso':{\n",
    "            'model': Lasso(),\n",
    "            'params':{\n",
    "                'alpha': [1,2],\n",
    "                'selection': ['random','cyclic']\n",
    "            }\n",
    "        },\n",
    "        'dec_tree':{\n",
    "            'model': DecisionTreeRegressor(),\n",
    "            'params':{\n",
    "                'criterion': ['mse','friedman_mse'],\n",
    "                'splitter': ['best','random']\n",
    "            }\n",
    "        }\n",
    "    }\n",
    "    scores = []\n",
    "    cv = ShuffleSplit(n_splits=5, test_size=0.2,random_state=0)\n",
    "    for algo_name, config in ml_algos.items():\n",
    "        gs = GridSearchCV(config['model'],config['params'], cv=cv, return_train_score=False)\n",
    "        gs.fit(X,y)\n",
    "        scores.append({\n",
    "            'model': algo_name,\n",
    "            'best_score': gs.best_score_,\n",
    "            'best_params': gs.best_params_\n",
    "        })\n",
    "    return pd.DataFrame(scores, columns=['model','best_score','best_params'])"
   ],
   "outputs": [],
   "execution_count": 188
  },
  {
   "cell_type": "code",
   "id": "93404577",
   "metadata": {
    "ExecuteTime": {
     "end_time": "2024-11-11T21:29:32.222955Z",
     "start_time": "2024-11-11T21:29:32.154211Z"
    }
   },
   "source": [
    "find_best_model_by_gcv(X.values,y)"
   ],
   "outputs": [
    {
     "ename": "ValueError",
     "evalue": "Invalid parameter 'normalize' for estimator LinearRegression(). Valid parameters are: ['copy_X', 'fit_intercept', 'n_jobs', 'positive'].",
     "output_type": "error",
     "traceback": [
      "\u001B[1;31m---------------------------------------------------------------------------\u001B[0m",
      "\u001B[1;31mValueError\u001B[0m                                Traceback (most recent call last)",
      "Cell \u001B[1;32mIn[189], line 1\u001B[0m\n\u001B[1;32m----> 1\u001B[0m \u001B[43mfind_best_model_by_gcv\u001B[49m\u001B[43m(\u001B[49m\u001B[43mX\u001B[49m\u001B[38;5;241;43m.\u001B[39;49m\u001B[43mvalues\u001B[49m\u001B[43m,\u001B[49m\u001B[43my\u001B[49m\u001B[43m)\u001B[49m\n",
      "Cell \u001B[1;32mIn[188], line 28\u001B[0m, in \u001B[0;36mfind_best_model_by_gcv\u001B[1;34m(X, y)\u001B[0m\n\u001B[0;32m     26\u001B[0m \u001B[38;5;28;01mfor\u001B[39;00m algo_name, config \u001B[38;5;129;01min\u001B[39;00m ml_algos\u001B[38;5;241m.\u001B[39mitems():\n\u001B[0;32m     27\u001B[0m     gs \u001B[38;5;241m=\u001B[39m GridSearchCV(config[\u001B[38;5;124m'\u001B[39m\u001B[38;5;124mmodel\u001B[39m\u001B[38;5;124m'\u001B[39m],config[\u001B[38;5;124m'\u001B[39m\u001B[38;5;124mparams\u001B[39m\u001B[38;5;124m'\u001B[39m], cv\u001B[38;5;241m=\u001B[39mcv, return_train_score\u001B[38;5;241m=\u001B[39m\u001B[38;5;28;01mFalse\u001B[39;00m)\n\u001B[1;32m---> 28\u001B[0m     \u001B[43mgs\u001B[49m\u001B[38;5;241;43m.\u001B[39;49m\u001B[43mfit\u001B[49m\u001B[43m(\u001B[49m\u001B[43mX\u001B[49m\u001B[43m,\u001B[49m\u001B[43my\u001B[49m\u001B[43m)\u001B[49m\n\u001B[0;32m     29\u001B[0m     scores\u001B[38;5;241m.\u001B[39mappend({\n\u001B[0;32m     30\u001B[0m         \u001B[38;5;124m'\u001B[39m\u001B[38;5;124mmodel\u001B[39m\u001B[38;5;124m'\u001B[39m: algo_name,\n\u001B[0;32m     31\u001B[0m         \u001B[38;5;124m'\u001B[39m\u001B[38;5;124mbest_score\u001B[39m\u001B[38;5;124m'\u001B[39m: gs\u001B[38;5;241m.\u001B[39mbest_score_,\n\u001B[0;32m     32\u001B[0m         \u001B[38;5;124m'\u001B[39m\u001B[38;5;124mbest_params\u001B[39m\u001B[38;5;124m'\u001B[39m: gs\u001B[38;5;241m.\u001B[39mbest_params_\n\u001B[0;32m     33\u001B[0m     })\n\u001B[0;32m     34\u001B[0m \u001B[38;5;28;01mreturn\u001B[39;00m pd\u001B[38;5;241m.\u001B[39mDataFrame(scores, columns\u001B[38;5;241m=\u001B[39m[\u001B[38;5;124m'\u001B[39m\u001B[38;5;124mmodel\u001B[39m\u001B[38;5;124m'\u001B[39m,\u001B[38;5;124m'\u001B[39m\u001B[38;5;124mbest_score\u001B[39m\u001B[38;5;124m'\u001B[39m,\u001B[38;5;124m'\u001B[39m\u001B[38;5;124mbest_params\u001B[39m\u001B[38;5;124m'\u001B[39m])\n",
      "File \u001B[1;32m~\\AppData\\Local\\Packages\\PythonSoftwareFoundation.Python.3.12_qbz5n2kfra8p0\\LocalCache\\local-packages\\Python312\\site-packages\\sklearn\\base.py:1473\u001B[0m, in \u001B[0;36m_fit_context.<locals>.decorator.<locals>.wrapper\u001B[1;34m(estimator, *args, **kwargs)\u001B[0m\n\u001B[0;32m   1466\u001B[0m     estimator\u001B[38;5;241m.\u001B[39m_validate_params()\n\u001B[0;32m   1468\u001B[0m \u001B[38;5;28;01mwith\u001B[39;00m config_context(\n\u001B[0;32m   1469\u001B[0m     skip_parameter_validation\u001B[38;5;241m=\u001B[39m(\n\u001B[0;32m   1470\u001B[0m         prefer_skip_nested_validation \u001B[38;5;129;01mor\u001B[39;00m global_skip_validation\n\u001B[0;32m   1471\u001B[0m     )\n\u001B[0;32m   1472\u001B[0m ):\n\u001B[1;32m-> 1473\u001B[0m     \u001B[38;5;28;01mreturn\u001B[39;00m \u001B[43mfit_method\u001B[49m\u001B[43m(\u001B[49m\u001B[43mestimator\u001B[49m\u001B[43m,\u001B[49m\u001B[43m \u001B[49m\u001B[38;5;241;43m*\u001B[39;49m\u001B[43margs\u001B[49m\u001B[43m,\u001B[49m\u001B[43m \u001B[49m\u001B[38;5;241;43m*\u001B[39;49m\u001B[38;5;241;43m*\u001B[39;49m\u001B[43mkwargs\u001B[49m\u001B[43m)\u001B[49m\n",
      "File \u001B[1;32m~\\AppData\\Local\\Packages\\PythonSoftwareFoundation.Python.3.12_qbz5n2kfra8p0\\LocalCache\\local-packages\\Python312\\site-packages\\sklearn\\model_selection\\_search.py:968\u001B[0m, in \u001B[0;36mBaseSearchCV.fit\u001B[1;34m(self, X, y, **params)\u001B[0m\n\u001B[0;32m    962\u001B[0m     results \u001B[38;5;241m=\u001B[39m \u001B[38;5;28mself\u001B[39m\u001B[38;5;241m.\u001B[39m_format_results(\n\u001B[0;32m    963\u001B[0m         all_candidate_params, n_splits, all_out, all_more_results\n\u001B[0;32m    964\u001B[0m     )\n\u001B[0;32m    966\u001B[0m     \u001B[38;5;28;01mreturn\u001B[39;00m results\n\u001B[1;32m--> 968\u001B[0m \u001B[38;5;28;43mself\u001B[39;49m\u001B[38;5;241;43m.\u001B[39;49m\u001B[43m_run_search\u001B[49m\u001B[43m(\u001B[49m\u001B[43mevaluate_candidates\u001B[49m\u001B[43m)\u001B[49m\n\u001B[0;32m    970\u001B[0m \u001B[38;5;66;03m# multimetric is determined here because in the case of a callable\u001B[39;00m\n\u001B[0;32m    971\u001B[0m \u001B[38;5;66;03m# self.scoring the return type is only known after calling\u001B[39;00m\n\u001B[0;32m    972\u001B[0m first_test_score \u001B[38;5;241m=\u001B[39m all_out[\u001B[38;5;241m0\u001B[39m][\u001B[38;5;124m\"\u001B[39m\u001B[38;5;124mtest_scores\u001B[39m\u001B[38;5;124m\"\u001B[39m]\n",
      "File \u001B[1;32m~\\AppData\\Local\\Packages\\PythonSoftwareFoundation.Python.3.12_qbz5n2kfra8p0\\LocalCache\\local-packages\\Python312\\site-packages\\sklearn\\model_selection\\_search.py:1543\u001B[0m, in \u001B[0;36mGridSearchCV._run_search\u001B[1;34m(self, evaluate_candidates)\u001B[0m\n\u001B[0;32m   1541\u001B[0m \u001B[38;5;28;01mdef\u001B[39;00m \u001B[38;5;21m_run_search\u001B[39m(\u001B[38;5;28mself\u001B[39m, evaluate_candidates):\n\u001B[0;32m   1542\u001B[0m \u001B[38;5;250m    \u001B[39m\u001B[38;5;124;03m\"\"\"Search all candidates in param_grid\"\"\"\u001B[39;00m\n\u001B[1;32m-> 1543\u001B[0m     \u001B[43mevaluate_candidates\u001B[49m\u001B[43m(\u001B[49m\u001B[43mParameterGrid\u001B[49m\u001B[43m(\u001B[49m\u001B[38;5;28;43mself\u001B[39;49m\u001B[38;5;241;43m.\u001B[39;49m\u001B[43mparam_grid\u001B[49m\u001B[43m)\u001B[49m\u001B[43m)\u001B[49m\n",
      "File \u001B[1;32m~\\AppData\\Local\\Packages\\PythonSoftwareFoundation.Python.3.12_qbz5n2kfra8p0\\LocalCache\\local-packages\\Python312\\site-packages\\sklearn\\model_selection\\_search.py:914\u001B[0m, in \u001B[0;36mBaseSearchCV.fit.<locals>.evaluate_candidates\u001B[1;34m(candidate_params, cv, more_results)\u001B[0m\n\u001B[0;32m    906\u001B[0m \u001B[38;5;28;01mif\u001B[39;00m \u001B[38;5;28mself\u001B[39m\u001B[38;5;241m.\u001B[39mverbose \u001B[38;5;241m>\u001B[39m \u001B[38;5;241m0\u001B[39m:\n\u001B[0;32m    907\u001B[0m     \u001B[38;5;28mprint\u001B[39m(\n\u001B[0;32m    908\u001B[0m         \u001B[38;5;124m\"\u001B[39m\u001B[38;5;124mFitting \u001B[39m\u001B[38;5;132;01m{0}\u001B[39;00m\u001B[38;5;124m folds for each of \u001B[39m\u001B[38;5;132;01m{1}\u001B[39;00m\u001B[38;5;124m candidates,\u001B[39m\u001B[38;5;124m\"\u001B[39m\n\u001B[0;32m    909\u001B[0m         \u001B[38;5;124m\"\u001B[39m\u001B[38;5;124m totalling \u001B[39m\u001B[38;5;132;01m{2}\u001B[39;00m\u001B[38;5;124m fits\u001B[39m\u001B[38;5;124m\"\u001B[39m\u001B[38;5;241m.\u001B[39mformat(\n\u001B[0;32m    910\u001B[0m             n_splits, n_candidates, n_candidates \u001B[38;5;241m*\u001B[39m n_splits\n\u001B[0;32m    911\u001B[0m         )\n\u001B[0;32m    912\u001B[0m     )\n\u001B[1;32m--> 914\u001B[0m out \u001B[38;5;241m=\u001B[39m \u001B[43mparallel\u001B[49m\u001B[43m(\u001B[49m\n\u001B[0;32m    915\u001B[0m \u001B[43m    \u001B[49m\u001B[43mdelayed\u001B[49m\u001B[43m(\u001B[49m\u001B[43m_fit_and_score\u001B[49m\u001B[43m)\u001B[49m\u001B[43m(\u001B[49m\n\u001B[0;32m    916\u001B[0m \u001B[43m        \u001B[49m\u001B[43mclone\u001B[49m\u001B[43m(\u001B[49m\u001B[43mbase_estimator\u001B[49m\u001B[43m)\u001B[49m\u001B[43m,\u001B[49m\n\u001B[0;32m    917\u001B[0m \u001B[43m        \u001B[49m\u001B[43mX\u001B[49m\u001B[43m,\u001B[49m\n\u001B[0;32m    918\u001B[0m \u001B[43m        \u001B[49m\u001B[43my\u001B[49m\u001B[43m,\u001B[49m\n\u001B[0;32m    919\u001B[0m \u001B[43m        \u001B[49m\u001B[43mtrain\u001B[49m\u001B[38;5;241;43m=\u001B[39;49m\u001B[43mtrain\u001B[49m\u001B[43m,\u001B[49m\n\u001B[0;32m    920\u001B[0m \u001B[43m        \u001B[49m\u001B[43mtest\u001B[49m\u001B[38;5;241;43m=\u001B[39;49m\u001B[43mtest\u001B[49m\u001B[43m,\u001B[49m\n\u001B[0;32m    921\u001B[0m \u001B[43m        \u001B[49m\u001B[43mparameters\u001B[49m\u001B[38;5;241;43m=\u001B[39;49m\u001B[43mparameters\u001B[49m\u001B[43m,\u001B[49m\n\u001B[0;32m    922\u001B[0m \u001B[43m        \u001B[49m\u001B[43msplit_progress\u001B[49m\u001B[38;5;241;43m=\u001B[39;49m\u001B[43m(\u001B[49m\u001B[43msplit_idx\u001B[49m\u001B[43m,\u001B[49m\u001B[43m \u001B[49m\u001B[43mn_splits\u001B[49m\u001B[43m)\u001B[49m\u001B[43m,\u001B[49m\n\u001B[0;32m    923\u001B[0m \u001B[43m        \u001B[49m\u001B[43mcandidate_progress\u001B[49m\u001B[38;5;241;43m=\u001B[39;49m\u001B[43m(\u001B[49m\u001B[43mcand_idx\u001B[49m\u001B[43m,\u001B[49m\u001B[43m \u001B[49m\u001B[43mn_candidates\u001B[49m\u001B[43m)\u001B[49m\u001B[43m,\u001B[49m\n\u001B[0;32m    924\u001B[0m \u001B[43m        \u001B[49m\u001B[38;5;241;43m*\u001B[39;49m\u001B[38;5;241;43m*\u001B[39;49m\u001B[43mfit_and_score_kwargs\u001B[49m\u001B[43m,\u001B[49m\n\u001B[0;32m    925\u001B[0m \u001B[43m    \u001B[49m\u001B[43m)\u001B[49m\n\u001B[0;32m    926\u001B[0m \u001B[43m    \u001B[49m\u001B[38;5;28;43;01mfor\u001B[39;49;00m\u001B[43m \u001B[49m\u001B[43m(\u001B[49m\u001B[43mcand_idx\u001B[49m\u001B[43m,\u001B[49m\u001B[43m \u001B[49m\u001B[43mparameters\u001B[49m\u001B[43m)\u001B[49m\u001B[43m,\u001B[49m\u001B[43m \u001B[49m\u001B[43m(\u001B[49m\u001B[43msplit_idx\u001B[49m\u001B[43m,\u001B[49m\u001B[43m \u001B[49m\u001B[43m(\u001B[49m\u001B[43mtrain\u001B[49m\u001B[43m,\u001B[49m\u001B[43m \u001B[49m\u001B[43mtest\u001B[49m\u001B[43m)\u001B[49m\u001B[43m)\u001B[49m\u001B[43m \u001B[49m\u001B[38;5;129;43;01min\u001B[39;49;00m\u001B[43m \u001B[49m\u001B[43mproduct\u001B[49m\u001B[43m(\u001B[49m\n\u001B[0;32m    927\u001B[0m \u001B[43m        \u001B[49m\u001B[38;5;28;43menumerate\u001B[39;49m\u001B[43m(\u001B[49m\u001B[43mcandidate_params\u001B[49m\u001B[43m)\u001B[49m\u001B[43m,\u001B[49m\n\u001B[0;32m    928\u001B[0m \u001B[43m        \u001B[49m\u001B[38;5;28;43menumerate\u001B[39;49m\u001B[43m(\u001B[49m\u001B[43mcv\u001B[49m\u001B[38;5;241;43m.\u001B[39;49m\u001B[43msplit\u001B[49m\u001B[43m(\u001B[49m\u001B[43mX\u001B[49m\u001B[43m,\u001B[49m\u001B[43m \u001B[49m\u001B[43my\u001B[49m\u001B[43m,\u001B[49m\u001B[43m \u001B[49m\u001B[38;5;241;43m*\u001B[39;49m\u001B[38;5;241;43m*\u001B[39;49m\u001B[43mrouted_params\u001B[49m\u001B[38;5;241;43m.\u001B[39;49m\u001B[43msplitter\u001B[49m\u001B[38;5;241;43m.\u001B[39;49m\u001B[43msplit\u001B[49m\u001B[43m)\u001B[49m\u001B[43m)\u001B[49m\u001B[43m,\u001B[49m\n\u001B[0;32m    929\u001B[0m \u001B[43m    \u001B[49m\u001B[43m)\u001B[49m\n\u001B[0;32m    930\u001B[0m \u001B[43m\u001B[49m\u001B[43m)\u001B[49m\n\u001B[0;32m    932\u001B[0m \u001B[38;5;28;01mif\u001B[39;00m \u001B[38;5;28mlen\u001B[39m(out) \u001B[38;5;241m<\u001B[39m \u001B[38;5;241m1\u001B[39m:\n\u001B[0;32m    933\u001B[0m     \u001B[38;5;28;01mraise\u001B[39;00m \u001B[38;5;167;01mValueError\u001B[39;00m(\n\u001B[0;32m    934\u001B[0m         \u001B[38;5;124m\"\u001B[39m\u001B[38;5;124mNo fits were performed. \u001B[39m\u001B[38;5;124m\"\u001B[39m\n\u001B[0;32m    935\u001B[0m         \u001B[38;5;124m\"\u001B[39m\u001B[38;5;124mWas the CV iterator empty? \u001B[39m\u001B[38;5;124m\"\u001B[39m\n\u001B[0;32m    936\u001B[0m         \u001B[38;5;124m\"\u001B[39m\u001B[38;5;124mWere there no candidates?\u001B[39m\u001B[38;5;124m\"\u001B[39m\n\u001B[0;32m    937\u001B[0m     )\n",
      "File \u001B[1;32m~\\AppData\\Local\\Packages\\PythonSoftwareFoundation.Python.3.12_qbz5n2kfra8p0\\LocalCache\\local-packages\\Python312\\site-packages\\sklearn\\utils\\parallel.py:67\u001B[0m, in \u001B[0;36mParallel.__call__\u001B[1;34m(self, iterable)\u001B[0m\n\u001B[0;32m     62\u001B[0m config \u001B[38;5;241m=\u001B[39m get_config()\n\u001B[0;32m     63\u001B[0m iterable_with_config \u001B[38;5;241m=\u001B[39m (\n\u001B[0;32m     64\u001B[0m     (_with_config(delayed_func, config), args, kwargs)\n\u001B[0;32m     65\u001B[0m     \u001B[38;5;28;01mfor\u001B[39;00m delayed_func, args, kwargs \u001B[38;5;129;01min\u001B[39;00m iterable\n\u001B[0;32m     66\u001B[0m )\n\u001B[1;32m---> 67\u001B[0m \u001B[38;5;28;01mreturn\u001B[39;00m \u001B[38;5;28;43msuper\u001B[39;49m\u001B[43m(\u001B[49m\u001B[43m)\u001B[49m\u001B[38;5;241;43m.\u001B[39;49m\u001B[38;5;21;43m__call__\u001B[39;49m\u001B[43m(\u001B[49m\u001B[43miterable_with_config\u001B[49m\u001B[43m)\u001B[49m\n",
      "File \u001B[1;32m~\\AppData\\Local\\Packages\\PythonSoftwareFoundation.Python.3.12_qbz5n2kfra8p0\\LocalCache\\local-packages\\Python312\\site-packages\\joblib\\parallel.py:1918\u001B[0m, in \u001B[0;36mParallel.__call__\u001B[1;34m(self, iterable)\u001B[0m\n\u001B[0;32m   1916\u001B[0m     output \u001B[38;5;241m=\u001B[39m \u001B[38;5;28mself\u001B[39m\u001B[38;5;241m.\u001B[39m_get_sequential_output(iterable)\n\u001B[0;32m   1917\u001B[0m     \u001B[38;5;28mnext\u001B[39m(output)\n\u001B[1;32m-> 1918\u001B[0m     \u001B[38;5;28;01mreturn\u001B[39;00m output \u001B[38;5;28;01mif\u001B[39;00m \u001B[38;5;28mself\u001B[39m\u001B[38;5;241m.\u001B[39mreturn_generator \u001B[38;5;28;01melse\u001B[39;00m \u001B[38;5;28;43mlist\u001B[39;49m\u001B[43m(\u001B[49m\u001B[43moutput\u001B[49m\u001B[43m)\u001B[49m\n\u001B[0;32m   1920\u001B[0m \u001B[38;5;66;03m# Let's create an ID that uniquely identifies the current call. If the\u001B[39;00m\n\u001B[0;32m   1921\u001B[0m \u001B[38;5;66;03m# call is interrupted early and that the same instance is immediately\u001B[39;00m\n\u001B[0;32m   1922\u001B[0m \u001B[38;5;66;03m# re-used, this id will be used to prevent workers that were\u001B[39;00m\n\u001B[0;32m   1923\u001B[0m \u001B[38;5;66;03m# concurrently finalizing a task from the previous call to run the\u001B[39;00m\n\u001B[0;32m   1924\u001B[0m \u001B[38;5;66;03m# callback.\u001B[39;00m\n\u001B[0;32m   1925\u001B[0m \u001B[38;5;28;01mwith\u001B[39;00m \u001B[38;5;28mself\u001B[39m\u001B[38;5;241m.\u001B[39m_lock:\n",
      "File \u001B[1;32m~\\AppData\\Local\\Packages\\PythonSoftwareFoundation.Python.3.12_qbz5n2kfra8p0\\LocalCache\\local-packages\\Python312\\site-packages\\joblib\\parallel.py:1847\u001B[0m, in \u001B[0;36mParallel._get_sequential_output\u001B[1;34m(self, iterable)\u001B[0m\n\u001B[0;32m   1845\u001B[0m \u001B[38;5;28mself\u001B[39m\u001B[38;5;241m.\u001B[39mn_dispatched_batches \u001B[38;5;241m+\u001B[39m\u001B[38;5;241m=\u001B[39m \u001B[38;5;241m1\u001B[39m\n\u001B[0;32m   1846\u001B[0m \u001B[38;5;28mself\u001B[39m\u001B[38;5;241m.\u001B[39mn_dispatched_tasks \u001B[38;5;241m+\u001B[39m\u001B[38;5;241m=\u001B[39m \u001B[38;5;241m1\u001B[39m\n\u001B[1;32m-> 1847\u001B[0m res \u001B[38;5;241m=\u001B[39m \u001B[43mfunc\u001B[49m\u001B[43m(\u001B[49m\u001B[38;5;241;43m*\u001B[39;49m\u001B[43margs\u001B[49m\u001B[43m,\u001B[49m\u001B[43m \u001B[49m\u001B[38;5;241;43m*\u001B[39;49m\u001B[38;5;241;43m*\u001B[39;49m\u001B[43mkwargs\u001B[49m\u001B[43m)\u001B[49m\n\u001B[0;32m   1848\u001B[0m \u001B[38;5;28mself\u001B[39m\u001B[38;5;241m.\u001B[39mn_completed_tasks \u001B[38;5;241m+\u001B[39m\u001B[38;5;241m=\u001B[39m \u001B[38;5;241m1\u001B[39m\n\u001B[0;32m   1849\u001B[0m \u001B[38;5;28mself\u001B[39m\u001B[38;5;241m.\u001B[39mprint_progress()\n",
      "File \u001B[1;32m~\\AppData\\Local\\Packages\\PythonSoftwareFoundation.Python.3.12_qbz5n2kfra8p0\\LocalCache\\local-packages\\Python312\\site-packages\\sklearn\\utils\\parallel.py:129\u001B[0m, in \u001B[0;36m_FuncWrapper.__call__\u001B[1;34m(self, *args, **kwargs)\u001B[0m\n\u001B[0;32m    127\u001B[0m     config \u001B[38;5;241m=\u001B[39m {}\n\u001B[0;32m    128\u001B[0m \u001B[38;5;28;01mwith\u001B[39;00m config_context(\u001B[38;5;241m*\u001B[39m\u001B[38;5;241m*\u001B[39mconfig):\n\u001B[1;32m--> 129\u001B[0m     \u001B[38;5;28;01mreturn\u001B[39;00m \u001B[38;5;28;43mself\u001B[39;49m\u001B[38;5;241;43m.\u001B[39;49m\u001B[43mfunction\u001B[49m\u001B[43m(\u001B[49m\u001B[38;5;241;43m*\u001B[39;49m\u001B[43margs\u001B[49m\u001B[43m,\u001B[49m\u001B[43m \u001B[49m\u001B[38;5;241;43m*\u001B[39;49m\u001B[38;5;241;43m*\u001B[39;49m\u001B[43mkwargs\u001B[49m\u001B[43m)\u001B[49m\n",
      "File \u001B[1;32m~\\AppData\\Local\\Packages\\PythonSoftwareFoundation.Python.3.12_qbz5n2kfra8p0\\LocalCache\\local-packages\\Python312\\site-packages\\sklearn\\model_selection\\_validation.py:876\u001B[0m, in \u001B[0;36m_fit_and_score\u001B[1;34m(estimator, X, y, scorer, train, test, verbose, parameters, fit_params, score_params, return_train_score, return_parameters, return_n_test_samples, return_times, return_estimator, split_progress, candidate_progress, error_score)\u001B[0m\n\u001B[0;32m    869\u001B[0m score_params_test \u001B[38;5;241m=\u001B[39m _check_method_params(X, params\u001B[38;5;241m=\u001B[39mscore_params, indices\u001B[38;5;241m=\u001B[39mtest)\n\u001B[0;32m    871\u001B[0m \u001B[38;5;28;01mif\u001B[39;00m parameters \u001B[38;5;129;01mis\u001B[39;00m \u001B[38;5;129;01mnot\u001B[39;00m \u001B[38;5;28;01mNone\u001B[39;00m:\n\u001B[0;32m    872\u001B[0m     \u001B[38;5;66;03m# here we clone the parameters, since sometimes the parameters\u001B[39;00m\n\u001B[0;32m    873\u001B[0m     \u001B[38;5;66;03m# themselves might be estimators, e.g. when we search over different\u001B[39;00m\n\u001B[0;32m    874\u001B[0m     \u001B[38;5;66;03m# estimators in a pipeline.\u001B[39;00m\n\u001B[0;32m    875\u001B[0m     \u001B[38;5;66;03m# ref: https://github.com/scikit-learn/scikit-learn/pull/26786\u001B[39;00m\n\u001B[1;32m--> 876\u001B[0m     estimator \u001B[38;5;241m=\u001B[39m \u001B[43mestimator\u001B[49m\u001B[38;5;241;43m.\u001B[39;49m\u001B[43mset_params\u001B[49m\u001B[43m(\u001B[49m\u001B[38;5;241;43m*\u001B[39;49m\u001B[38;5;241;43m*\u001B[39;49m\u001B[43mclone\u001B[49m\u001B[43m(\u001B[49m\u001B[43mparameters\u001B[49m\u001B[43m,\u001B[49m\u001B[43m \u001B[49m\u001B[43msafe\u001B[49m\u001B[38;5;241;43m=\u001B[39;49m\u001B[38;5;28;43;01mFalse\u001B[39;49;00m\u001B[43m)\u001B[49m\u001B[43m)\u001B[49m\n\u001B[0;32m    878\u001B[0m start_time \u001B[38;5;241m=\u001B[39m time\u001B[38;5;241m.\u001B[39mtime()\n\u001B[0;32m    880\u001B[0m X_train, y_train \u001B[38;5;241m=\u001B[39m _safe_split(estimator, X, y, train)\n",
      "File \u001B[1;32m~\\AppData\\Local\\Packages\\PythonSoftwareFoundation.Python.3.12_qbz5n2kfra8p0\\LocalCache\\local-packages\\Python312\\site-packages\\sklearn\\base.py:279\u001B[0m, in \u001B[0;36mBaseEstimator.set_params\u001B[1;34m(self, **params)\u001B[0m\n\u001B[0;32m    277\u001B[0m \u001B[38;5;28;01mif\u001B[39;00m key \u001B[38;5;129;01mnot\u001B[39;00m \u001B[38;5;129;01min\u001B[39;00m valid_params:\n\u001B[0;32m    278\u001B[0m     local_valid_params \u001B[38;5;241m=\u001B[39m \u001B[38;5;28mself\u001B[39m\u001B[38;5;241m.\u001B[39m_get_param_names()\n\u001B[1;32m--> 279\u001B[0m     \u001B[38;5;28;01mraise\u001B[39;00m \u001B[38;5;167;01mValueError\u001B[39;00m(\n\u001B[0;32m    280\u001B[0m         \u001B[38;5;124mf\u001B[39m\u001B[38;5;124m\"\u001B[39m\u001B[38;5;124mInvalid parameter \u001B[39m\u001B[38;5;132;01m{\u001B[39;00mkey\u001B[38;5;132;01m!r}\u001B[39;00m\u001B[38;5;124m for estimator \u001B[39m\u001B[38;5;132;01m{\u001B[39;00m\u001B[38;5;28mself\u001B[39m\u001B[38;5;132;01m}\u001B[39;00m\u001B[38;5;124m. \u001B[39m\u001B[38;5;124m\"\u001B[39m\n\u001B[0;32m    281\u001B[0m         \u001B[38;5;124mf\u001B[39m\u001B[38;5;124m\"\u001B[39m\u001B[38;5;124mValid parameters are: \u001B[39m\u001B[38;5;132;01m{\u001B[39;00mlocal_valid_params\u001B[38;5;132;01m!r}\u001B[39;00m\u001B[38;5;124m.\u001B[39m\u001B[38;5;124m\"\u001B[39m\n\u001B[0;32m    282\u001B[0m     )\n\u001B[0;32m    284\u001B[0m \u001B[38;5;28;01mif\u001B[39;00m delim:\n\u001B[0;32m    285\u001B[0m     nested_params[key][sub_key] \u001B[38;5;241m=\u001B[39m value\n",
      "\u001B[1;31mValueError\u001B[0m: Invalid parameter 'normalize' for estimator LinearRegression(). Valid parameters are: ['copy_X', 'fit_intercept', 'n_jobs', 'positive']."
     ]
    }
   ],
   "execution_count": 189
  },
  {
   "cell_type": "markdown",
   "id": "0503b891",
   "metadata": {},
   "source": [
    "######## performed a grid search with different models (lin_reg, lasso, dec_tree) and found the best hyperparameters for each model. Here's a summary of the results:\n",
    "\n",
    "##### For linear regression (lin_reg), the best score was achieved when normalize was set to False.\n",
    "\n",
    "##### For Lasso regression (lasso), the best score was achieved with an alpha value of 1 and 'selection': 'cyclic'.\n",
    "\n",
    "##### For Decision Tree regression (dec_tree), the best score was achieved with specific hyperparameters such as 'criterion': 'friedman_mse' and 'splitter': 'random'.\n",
    "\n",
    "##### These results provide insights into the hyperparameter settings that optimize the performance of each model according to the specified scoring metric.\n"
   ]
  },
  {
   "cell_type": "markdown",
   "id": "97be2f4e",
   "metadata": {},
   "source": [
    "## Price prediction function"
   ]
  },
  {
   "cell_type": "code",
   "id": "36c80cda",
   "metadata": {
    "scrolled": false,
    "ExecuteTime": {
     "end_time": "2024-11-11T21:29:33.006307Z",
     "start_time": "2024-11-11T21:29:33.001979Z"
    }
   },
   "source": [
    "X.columns"
   ],
   "outputs": [
    {
     "data": {
      "text/plain": [
       "Index(['bhk', 'total_sqft', 'bath', 'Agadir', 'Azilal', 'Azrou', 'Beni Mellal',\n",
       "       'Berrched', 'Bjaad', 'Casablanca', 'Dakhla', 'EL Jadida', 'Essaouira',\n",
       "       'Essmara', 'Fes', 'Gulmim', 'Ifran', 'Kentitra', 'Khounifra',\n",
       "       'Khouribga', 'Laayoun', 'Lhajb', 'Marrakech', 'Meknes', 'Mohammadia',\n",
       "       'Nador', 'Oujda', 'Ourzazat', 'Safi', 'Settat', 'Sidi ifni', 'Tanger',\n",
       "       'Tata', 'Taza', 'Tetouan', 'Zagoura'],\n",
       "      dtype='object')"
      ]
     },
     "execution_count": 190,
     "metadata": {},
     "output_type": "execute_result"
    }
   ],
   "execution_count": 190
  },
  {
   "cell_type": "code",
   "id": "17e1aff8",
   "metadata": {
    "ExecuteTime": {
     "end_time": "2024-11-11T21:29:33.278935Z",
     "start_time": "2024-11-11T21:29:33.275721Z"
    }
   },
   "source": [
    "def predict_price(location,sqft,bath,bhk):\n",
    "    try:\n",
    "        loc_index = np.where(X.columns==location)[0][0]\n",
    "    except:\n",
    "        loc_index = 0\n",
    "    x = np.zeros(len(X.columns))\n",
    "    print(x)\n",
    "    x[0] = sqft\n",
    "    x[1] = bath\n",
    "    x[2] = bhk\n",
    "    if loc_index > 0:\n",
    "        x[loc_index] = 1\n",
    "    print(x)\n",
    "    print(lrm.predict([x]))\n",
    "    return lrm.predict([x])[0]"
   ],
   "outputs": [],
   "execution_count": 191
  },
  {
   "cell_type": "markdown",
   "id": "4d0b132c",
   "metadata": {},
   "source": [
    "## Evaluating Model Prediction"
   ]
  },
  {
   "cell_type": "code",
   "id": "6158becb",
   "metadata": {
    "ExecuteTime": {
     "end_time": "2024-11-11T21:29:33.893903Z",
     "start_time": "2024-11-11T21:29:33.889166Z"
    }
   },
   "source": [
    "predict_price('Agadir',1000,2,2)"
   ],
   "outputs": [
    {
     "name": "stdout",
     "output_type": "stream",
     "text": [
      "[0. 0. 0. 0. 0. 0. 0. 0. 0. 0. 0. 0. 0. 0. 0. 0. 0. 0. 0. 0. 0. 0. 0. 0.\n",
      " 0. 0. 0. 0. 0. 0. 0. 0. 0. 0. 0. 0.]\n",
      "[1000.    2.    2.    1.    0.    0.    0.    0.    0.    0.    0.    0.\n",
      "    0.    0.    0.    0.    0.    0.    0.    0.    0.    0.    0.    0.\n",
      "    0.    0.    0.    0.    0.    0.    0.    0.    0.    0.    0.    0.]\n",
      "[2887541.08046495]\n"
     ]
    },
    {
     "name": "stderr",
     "output_type": "stream",
     "text": [
      "C:\\Users\\abdes\\AppData\\Local\\Packages\\PythonSoftwareFoundation.Python.3.12_qbz5n2kfra8p0\\LocalCache\\local-packages\\Python312\\site-packages\\sklearn\\base.py:493: UserWarning: X does not have valid feature names, but LinearRegression was fitted with feature names\n",
      "  warnings.warn(\n",
      "C:\\Users\\abdes\\AppData\\Local\\Packages\\PythonSoftwareFoundation.Python.3.12_qbz5n2kfra8p0\\LocalCache\\local-packages\\Python312\\site-packages\\sklearn\\base.py:493: UserWarning: X does not have valid feature names, but LinearRegression was fitted with feature names\n",
      "  warnings.warn(\n"
     ]
    },
    {
     "data": {
      "text/plain": [
       "2887541.0804649475"
      ]
     },
     "execution_count": 192,
     "metadata": {},
     "output_type": "execute_result"
    }
   ],
   "execution_count": 192
  },
  {
   "cell_type": "code",
   "id": "bf66a0d7",
   "metadata": {
    "ExecuteTime": {
     "end_time": "2024-11-11T21:29:34.218015Z",
     "start_time": "2024-11-11T21:29:34.213797Z"
    }
   },
   "source": [
    "predict_price('Casablanca',1000,3,3)"
   ],
   "outputs": [
    {
     "name": "stdout",
     "output_type": "stream",
     "text": [
      "[0. 0. 0. 0. 0. 0. 0. 0. 0. 0. 0. 0. 0. 0. 0. 0. 0. 0. 0. 0. 0. 0. 0. 0.\n",
      " 0. 0. 0. 0. 0. 0. 0. 0. 0. 0. 0. 0.]\n",
      "[1000.    3.    3.    0.    0.    0.    0.    0.    0.    1.    0.    0.\n",
      "    0.    0.    0.    0.    0.    0.    0.    0.    0.    0.    0.    0.\n",
      "    0.    0.    0.    0.    0.    0.    0.    0.    0.    0.    0.    0.]\n",
      "[2879471.4154734]\n"
     ]
    },
    {
     "name": "stderr",
     "output_type": "stream",
     "text": [
      "C:\\Users\\abdes\\AppData\\Local\\Packages\\PythonSoftwareFoundation.Python.3.12_qbz5n2kfra8p0\\LocalCache\\local-packages\\Python312\\site-packages\\sklearn\\base.py:493: UserWarning: X does not have valid feature names, but LinearRegression was fitted with feature names\n",
      "  warnings.warn(\n",
      "C:\\Users\\abdes\\AppData\\Local\\Packages\\PythonSoftwareFoundation.Python.3.12_qbz5n2kfra8p0\\LocalCache\\local-packages\\Python312\\site-packages\\sklearn\\base.py:493: UserWarning: X does not have valid feature names, but LinearRegression was fitted with feature names\n",
      "  warnings.warn(\n"
     ]
    },
    {
     "data": {
      "text/plain": [
       "2879471.4154733955"
      ]
     },
     "execution_count": 193,
     "metadata": {},
     "output_type": "execute_result"
    }
   ],
   "execution_count": 193
  },
  {
   "cell_type": "code",
   "id": "7f10c38a",
   "metadata": {
    "ExecuteTime": {
     "end_time": "2024-11-11T21:29:35.705795Z",
     "start_time": "2024-11-11T21:29:35.700995Z"
    }
   },
   "source": [
    "predict_price('any other area',1000,3,3)"
   ],
   "outputs": [
    {
     "name": "stdout",
     "output_type": "stream",
     "text": [
      "[0. 0. 0. 0. 0. 0. 0. 0. 0. 0. 0. 0. 0. 0. 0. 0. 0. 0. 0. 0. 0. 0. 0. 0.\n",
      " 0. 0. 0. 0. 0. 0. 0. 0. 0. 0. 0. 0.]\n",
      "[1000.    3.    3.    0.    0.    0.    0.    0.    0.    0.    0.    0.\n",
      "    0.    0.    0.    0.    0.    0.    0.    0.    0.    0.    0.    0.\n",
      "    0.    0.    0.    0.    0.    0.    0.    0.    0.    0.    0.    0.]\n",
      "[2840229.87042276]\n"
     ]
    },
    {
     "name": "stderr",
     "output_type": "stream",
     "text": [
      "C:\\Users\\abdes\\AppData\\Local\\Packages\\PythonSoftwareFoundation.Python.3.12_qbz5n2kfra8p0\\LocalCache\\local-packages\\Python312\\site-packages\\sklearn\\base.py:493: UserWarning: X does not have valid feature names, but LinearRegression was fitted with feature names\n",
      "  warnings.warn(\n",
      "C:\\Users\\abdes\\AppData\\Local\\Packages\\PythonSoftwareFoundation.Python.3.12_qbz5n2kfra8p0\\LocalCache\\local-packages\\Python312\\site-packages\\sklearn\\base.py:493: UserWarning: X does not have valid feature names, but LinearRegression was fitted with feature names\n",
      "  warnings.warn(\n"
     ]
    },
    {
     "data": {
      "text/plain": [
       "2840229.870422758"
      ]
     },
     "execution_count": 194,
     "metadata": {},
     "output_type": "execute_result"
    }
   ],
   "execution_count": 194
  },
  {
   "cell_type": "markdown",
   "id": "b9de1630",
   "metadata": {},
   "source": [
    "## Pickle file creation of Prediction Model"
   ]
  },
  {
   "cell_type": "code",
   "id": "1f88fbe2",
   "metadata": {
    "ExecuteTime": {
     "end_time": "2024-11-11T21:29:38.697003Z",
     "start_time": "2024-11-11T21:29:38.693501Z"
    }
   },
   "source": [
    "import pickle\n",
    "with open('5abd_sana_model.pickle','wb') as f:\n",
    "    pickle.dump(lrm,f)"
   ],
   "outputs": [],
   "execution_count": 195
  },
  {
   "cell_type": "markdown",
   "id": "acda6be9",
   "metadata": {},
   "source": [
    "## Exporting the dataset columns to a json file"
   ]
  },
  {
   "cell_type": "code",
   "id": "01ad0a83",
   "metadata": {
    "ExecuteTime": {
     "end_time": "2024-11-11T21:29:40.231483Z",
     "start_time": "2024-11-11T21:29:40.228077Z"
    }
   },
   "source": [
    "import json\n",
    "columns = {\n",
    "    'data_columns': [col.lower() for col in X.columns]\n",
    "}\n",
    "with open(\"5columns_ma.json\",\"w\") as f:\n",
    "    f.write(json.dumps(columns))"
   ],
   "outputs": [],
   "execution_count": 196
  },
  {
   "cell_type": "code",
   "execution_count": null,
   "outputs": [],
   "source": [],
   "metadata": {
    "collapsed": false
   },
   "id": "d762f317eb376313"
  }
 ],
 "metadata": {
  "kernelspec": {
   "display_name": "Python 3 (ipykernel)",
   "language": "python",
   "name": "python3"
  },
  "language_info": {
   "codemirror_mode": {
    "name": "ipython",
    "version": 3
   },
   "file_extension": ".py",
   "mimetype": "text/x-python",
   "name": "python",
   "nbconvert_exporter": "python",
   "pygments_lexer": "ipython3",
   "version": "3.11.5"
  }
 },
 "nbformat": 4,
 "nbformat_minor": 5
}
